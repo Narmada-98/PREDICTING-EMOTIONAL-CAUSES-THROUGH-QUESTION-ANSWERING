{
 "cells": [
  {
   "cell_type": "code",
   "execution_count": 1,
   "id": "356da310",
   "metadata": {
    "_cell_guid": "f1292a43-371b-40f7-aeda-f2fed1596eb6",
    "_uuid": "f8f0370b-b734-4876-a594-11f6b2edd9fe",
    "collapsed": false,
    "execution": {
     "iopub.execute_input": "2025-01-10T09:38:55.098544Z",
     "iopub.status.busy": "2025-01-10T09:38:55.098206Z",
     "iopub.status.idle": "2025-01-10T09:38:55.102715Z",
     "shell.execute_reply": "2025-01-10T09:38:55.101925Z"
    },
    "executionInfo": {
     "elapsed": 5337,
     "status": "ok",
     "timestamp": 1732227573975,
     "user": {
      "displayName": "Narmada Sahoo",
      "userId": "14973977786916597606"
     },
     "user_tz": -330
    },
    "id": "6SybkLtTtOKN",
    "jupyter": {
     "outputs_hidden": false
    },
    "outputId": "c3ff0a39-79cd-4ab8-e0fe-d65f656c2f48",
    "papermill": {
     "duration": 0.019493,
     "end_time": "2025-01-10T09:38:55.104705",
     "exception": false,
     "start_time": "2025-01-10T09:38:55.085212",
     "status": "completed"
    },
    "tags": []
   },
   "outputs": [],
   "source": [
    "# pip install datasets"
   ]
  },
  {
   "cell_type": "code",
   "execution_count": 2,
   "id": "db443397",
   "metadata": {
    "_cell_guid": "620ad913-72d2-49ef-98dd-cba7e8c96e11",
    "_uuid": "c1475b16-ff56-45b6-8615-7928fe3d9f9f",
    "collapsed": false,
    "execution": {
     "iopub.execute_input": "2025-01-10T09:38:55.124529Z",
     "iopub.status.busy": "2025-01-10T09:38:55.124264Z",
     "iopub.status.idle": "2025-01-10T09:39:16.982088Z",
     "shell.execute_reply": "2025-01-10T09:39:16.981164Z"
    },
    "executionInfo": {
     "elapsed": 14,
     "status": "ok",
     "timestamp": 1732227573975,
     "user": {
      "displayName": "Narmada Sahoo",
      "userId": "14973977786916597606"
     },
     "user_tz": -330
    },
    "id": "NUfx_io4rNsa",
    "jupyter": {
     "outputs_hidden": false
    },
    "papermill": {
     "duration": 21.870187,
     "end_time": "2025-01-10T09:39:16.984299",
     "exception": false,
     "start_time": "2025-01-10T09:38:55.114112",
     "status": "completed"
    },
    "tags": []
   },
   "outputs": [],
   "source": [
    "import warnings\n",
    "warnings.filterwarnings('ignore')\n",
    "# Import necessary libraries\n",
    "from transformers import BertTokenizerFast,BertForSequenceClassification, BertForQuestionAnswering, pipeline,DataCollatorWithPadding, TrainingArguments, Trainer,AutoModelForQuestionAnswering, AutoTokenizer\n",
    "from datasets import Dataset,load_dataset\n",
    "from torch.utils.data import DataLoader\n",
    "import pandas as pd\n",
    "import matplotlib.pyplot as plt\n",
    "from bs4 import BeautifulSoup\n",
    "import requests\n",
    "import torch\n",
    "from sklearn.metrics import accuracy_score, precision_recall_fscore_support\n",
    "from datasets import Dataset, DatasetDict\n",
    "\n",
    "\n",
    "#Explainable-AI Libraries\n",
    "from lime.lime_text import LimeTextExplainer\n",
    "import shap"
   ]
  },
  {
   "cell_type": "code",
   "execution_count": 3,
   "id": "c5062c67",
   "metadata": {
    "_cell_guid": "2d27cab3-3123-4562-830e-adbc1f1b91dc",
    "_uuid": "06d7ece8-ad69-4456-a50f-67624c1481f9",
    "collapsed": false,
    "execution": {
     "iopub.execute_input": "2025-01-10T09:39:17.005221Z",
     "iopub.status.busy": "2025-01-10T09:39:17.004073Z",
     "iopub.status.idle": "2025-01-10T09:39:17.008326Z",
     "shell.execute_reply": "2025-01-10T09:39:17.007692Z"
    },
    "jupyter": {
     "outputs_hidden": false
    },
    "papermill": {
     "duration": 0.016023,
     "end_time": "2025-01-10T09:39:17.009909",
     "exception": false,
     "start_time": "2025-01-10T09:39:16.993886",
     "status": "completed"
    },
    "tags": []
   },
   "outputs": [],
   "source": [
    "# Disable WandB\n",
    "import os\n",
    "os.environ[\"WANDB_DISABLED\"] = \"true\""
   ]
  },
  {
   "cell_type": "code",
   "execution_count": 4,
   "id": "41c14c57",
   "metadata": {
    "_cell_guid": "70bc7aa3-94c2-4ab4-98fa-ed15c4cde400",
    "_uuid": "8eeb78c7-26d3-4eab-b386-5fa4bc370044",
    "collapsed": false,
    "execution": {
     "iopub.execute_input": "2025-01-10T09:39:17.029642Z",
     "iopub.status.busy": "2025-01-10T09:39:17.029338Z",
     "iopub.status.idle": "2025-01-10T09:39:17.093978Z",
     "shell.execute_reply": "2025-01-10T09:39:17.093270Z"
    },
    "executionInfo": {
     "elapsed": 13,
     "status": "ok",
     "timestamp": 1732227573976,
     "user": {
      "displayName": "Narmada Sahoo",
      "userId": "14973977786916597606"
     },
     "user_tz": -330
    },
    "id": "t8H9zsqWzOEi",
    "jupyter": {
     "outputs_hidden": false
    },
    "papermill": {
     "duration": 0.0761,
     "end_time": "2025-01-10T09:39:17.095485",
     "exception": false,
     "start_time": "2025-01-10T09:39:17.019385",
     "status": "completed"
    },
    "tags": []
   },
   "outputs": [],
   "source": [
    "# Check if GPU is available and use it; otherwise, default to CPU\n",
    "device = torch.device(\"cuda\" if torch.cuda.is_available() else \"cpu\")"
   ]
  },
  {
   "cell_type": "markdown",
   "id": "88600bf4",
   "metadata": {
    "_cell_guid": "c632475a-8743-45a7-ba4b-b8baaf20377f",
    "_uuid": "6b30cdcd-8c53-45e5-af7d-7e41e4264133",
    "collapsed": false,
    "jupyter": {
     "outputs_hidden": false
    },
    "papermill": {
     "duration": 0.009399,
     "end_time": "2025-01-10T09:39:17.114317",
     "exception": false,
     "start_time": "2025-01-10T09:39:17.104918",
     "status": "completed"
    },
    "tags": []
   },
   "source": [
    "**1.Loading Data**"
   ]
  },
  {
   "cell_type": "code",
   "execution_count": 5,
   "id": "bc068cc0",
   "metadata": {
    "_cell_guid": "d4a9d4a3-bc70-475d-99d1-e3990e71b507",
    "_uuid": "9317d247-5722-42d6-a5a9-9d6cc988d7a8",
    "collapsed": false,
    "execution": {
     "iopub.execute_input": "2025-01-10T09:39:17.134416Z",
     "iopub.status.busy": "2025-01-10T09:39:17.134155Z",
     "iopub.status.idle": "2025-01-10T09:39:17.137921Z",
     "shell.execute_reply": "2025-01-10T09:39:17.137148Z"
    },
    "jupyter": {
     "outputs_hidden": false
    },
    "papermill": {
     "duration": 0.01539,
     "end_time": "2025-01-10T09:39:17.139473",
     "exception": false,
     "start_time": "2025-01-10T09:39:17.124083",
     "status": "completed"
    },
    "tags": []
   },
   "outputs": [],
   "source": [
    "dataset_path_train= \"/kaggle/input/data-preprocessing-for-emotion-cause-extraction/train_data.csv\"\n",
    "dataset_path_val= \"/kaggle/input/data-preprocessing-for-emotion-cause-extraction/val_data.csv\"\n",
    "dataset_path_test= \"/kaggle/input/data-preprocessing-for-emotion-cause-extraction/test_data.csv\""
   ]
  },
  {
   "cell_type": "code",
   "execution_count": 6,
   "id": "9109d627",
   "metadata": {
    "_cell_guid": "372924d9-2226-4227-b107-e402ecc0d7b7",
    "_uuid": "39fcdd34-d172-473b-b914-5dca15f1e9ac",
    "collapsed": false,
    "execution": {
     "iopub.execute_input": "2025-01-10T09:39:17.159175Z",
     "iopub.status.busy": "2025-01-10T09:39:17.158922Z",
     "iopub.status.idle": "2025-01-10T09:39:17.196273Z",
     "shell.execute_reply": "2025-01-10T09:39:17.195639Z"
    },
    "jupyter": {
     "outputs_hidden": false
    },
    "papermill": {
     "duration": 0.049056,
     "end_time": "2025-01-10T09:39:17.197871",
     "exception": false,
     "start_time": "2025-01-10T09:39:17.148815",
     "status": "completed"
    },
    "tags": []
   },
   "outputs": [],
   "source": [
    "train_data = pd.read_csv(dataset_path_train)\n",
    "val_data = pd.read_csv(dataset_path_val)\n",
    "test_data = pd.read_csv(dataset_path_test)"
   ]
  },
  {
   "cell_type": "code",
   "execution_count": 7,
   "id": "da5650f2",
   "metadata": {
    "_cell_guid": "06454c44-3c0b-410a-a00d-a78e8e910dcf",
    "_uuid": "9d2b34f2-511a-4cda-b4d3-a7249ab4114f",
    "collapsed": false,
    "execution": {
     "iopub.execute_input": "2025-01-10T09:39:17.217707Z",
     "iopub.status.busy": "2025-01-10T09:39:17.217426Z",
     "iopub.status.idle": "2025-01-10T09:39:17.236459Z",
     "shell.execute_reply": "2025-01-10T09:39:17.235528Z"
    },
    "jupyter": {
     "outputs_hidden": false
    },
    "papermill": {
     "duration": 0.030829,
     "end_time": "2025-01-10T09:39:17.238058",
     "exception": false,
     "start_time": "2025-01-10T09:39:17.207229",
     "status": "completed"
    },
    "tags": []
   },
   "outputs": [
    {
     "data": {
      "text/html": [
       "<div>\n",
       "<style scoped>\n",
       "    .dataframe tbody tr th:only-of-type {\n",
       "        vertical-align: middle;\n",
       "    }\n",
       "\n",
       "    .dataframe tbody tr th {\n",
       "        vertical-align: top;\n",
       "    }\n",
       "\n",
       "    .dataframe thead th {\n",
       "        text-align: right;\n",
       "    }\n",
       "</style>\n",
       "<table border=\"1\" class=\"dataframe\">\n",
       "  <thead>\n",
       "    <tr style=\"text-align: right;\">\n",
       "      <th></th>\n",
       "      <th>context</th>\n",
       "      <th>label</th>\n",
       "      <th>question</th>\n",
       "      <th>start_positions</th>\n",
       "      <th>end_positions</th>\n",
       "      <th>answer</th>\n",
       "    </tr>\n",
       "  </thead>\n",
       "  <tbody>\n",
       "    <tr>\n",
       "      <th>0</th>\n",
       "      <td>The gardener was astonished  to find a rare or...</td>\n",
       "      <td>6</td>\n",
       "      <td>Why does this sentence express surprise?</td>\n",
       "      <td>13</td>\n",
       "      <td>22</td>\n",
       "      <td>to find a rare orchid blooming in her garden</td>\n",
       "    </tr>\n",
       "    <tr>\n",
       "      <th>1</th>\n",
       "      <td>Rachel is happy  to visit her family during th...</td>\n",
       "      <td>3</td>\n",
       "      <td>Why does this sentence express happy?</td>\n",
       "      <td>12</td>\n",
       "      <td>18</td>\n",
       "      <td>to visit her family during the holidays</td>\n",
       "    </tr>\n",
       "    <tr>\n",
       "      <th>2</th>\n",
       "      <td>Such side-effects seem to be becoming increasi...</td>\n",
       "      <td>1</td>\n",
       "      <td>Why does this sentence express disgust?</td>\n",
       "      <td>31</td>\n",
       "      <td>33</td>\n",
       "      <td>with these drugs</td>\n",
       "    </tr>\n",
       "    <tr>\n",
       "      <th>3</th>\n",
       "      <td>But by being ashamed  of who they are , they '...</td>\n",
       "      <td>5</td>\n",
       "      <td>Why does this sentence express shame?</td>\n",
       "      <td>13</td>\n",
       "      <td>16</td>\n",
       "      <td>of who they are</td>\n",
       "    </tr>\n",
       "    <tr>\n",
       "      <th>4</th>\n",
       "      <td>She felt sad  to learn her beloved comic book ...</td>\n",
       "      <td>4</td>\n",
       "      <td>Why does this sentence express sad?</td>\n",
       "      <td>12</td>\n",
       "      <td>20</td>\n",
       "      <td>to learn her beloved comic book series is ending</td>\n",
       "    </tr>\n",
       "    <tr>\n",
       "      <th>...</th>\n",
       "      <td>...</td>\n",
       "      <td>...</td>\n",
       "      <td>...</td>\n",
       "      <td>...</td>\n",
       "      <td>...</td>\n",
       "      <td>...</td>\n",
       "    </tr>\n",
       "    <tr>\n",
       "      <th>1953</th>\n",
       "      <td>I was astonished  at the smallness of the area...</td>\n",
       "      <td>6</td>\n",
       "      <td>Why does this sentence express surprise?</td>\n",
       "      <td>12</td>\n",
       "      <td>21</td>\n",
       "      <td>at the smallness of the area which these enclosed</td>\n",
       "    </tr>\n",
       "    <tr>\n",
       "      <th>1954</th>\n",
       "      <td>The scientist was astonished  to understand th...</td>\n",
       "      <td>6</td>\n",
       "      <td>Why does this sentence express surprise?</td>\n",
       "      <td>13</td>\n",
       "      <td>25</td>\n",
       "      <td>to understand the complexity of the universe, ...</td>\n",
       "    </tr>\n",
       "    <tr>\n",
       "      <th>1955</th>\n",
       "      <td>She blinked several times when she saw her old...</td>\n",
       "      <td>6</td>\n",
       "      <td>Why does this sentence express surprise?</td>\n",
       "      <td>13</td>\n",
       "      <td>22</td>\n",
       "      <td>when she saw her old friend after so many years</td>\n",
       "    </tr>\n",
       "    <tr>\n",
       "      <th>1956</th>\n",
       "      <td>Her cheeks turned pink with happiness  when he...</td>\n",
       "      <td>3</td>\n",
       "      <td>Why does this sentence express happy?</td>\n",
       "      <td>15</td>\n",
       "      <td>19</td>\n",
       "      <td>when he complimented her drawing</td>\n",
       "    </tr>\n",
       "    <tr>\n",
       "      <th>1957</th>\n",
       "      <td>He raised his eyebrows when the scientist reve...</td>\n",
       "      <td>6</td>\n",
       "      <td>Why does this sentence express surprise?</td>\n",
       "      <td>13</td>\n",
       "      <td>22</td>\n",
       "      <td>when the scientist revealed the shocking resul...</td>\n",
       "    </tr>\n",
       "  </tbody>\n",
       "</table>\n",
       "<p>1958 rows × 6 columns</p>\n",
       "</div>"
      ],
      "text/plain": [
       "                                                context  label  \\\n",
       "0     The gardener was astonished  to find a rare or...      6   \n",
       "1     Rachel is happy  to visit her family during th...      3   \n",
       "2     Such side-effects seem to be becoming increasi...      1   \n",
       "3     But by being ashamed  of who they are , they '...      5   \n",
       "4     She felt sad  to learn her beloved comic book ...      4   \n",
       "...                                                 ...    ...   \n",
       "1953  I was astonished  at the smallness of the area...      6   \n",
       "1954  The scientist was astonished  to understand th...      6   \n",
       "1955  She blinked several times when she saw her old...      6   \n",
       "1956  Her cheeks turned pink with happiness  when he...      3   \n",
       "1957  He raised his eyebrows when the scientist reve...      6   \n",
       "\n",
       "                                      question  start_positions  \\\n",
       "0     Why does this sentence express surprise?               13   \n",
       "1        Why does this sentence express happy?               12   \n",
       "2      Why does this sentence express disgust?               31   \n",
       "3        Why does this sentence express shame?               13   \n",
       "4          Why does this sentence express sad?               12   \n",
       "...                                        ...              ...   \n",
       "1953  Why does this sentence express surprise?               12   \n",
       "1954  Why does this sentence express surprise?               13   \n",
       "1955  Why does this sentence express surprise?               13   \n",
       "1956     Why does this sentence express happy?               15   \n",
       "1957  Why does this sentence express surprise?               13   \n",
       "\n",
       "      end_positions                                             answer  \n",
       "0                22       to find a rare orchid blooming in her garden  \n",
       "1                18            to visit her family during the holidays  \n",
       "2                33                                   with these drugs  \n",
       "3                16                                    of who they are  \n",
       "4                20   to learn her beloved comic book series is ending  \n",
       "...             ...                                                ...  \n",
       "1953             21  at the smallness of the area which these enclosed  \n",
       "1954             25  to understand the complexity of the universe, ...  \n",
       "1955             22    when she saw her old friend after so many years  \n",
       "1956             19                   when he complimented her drawing  \n",
       "1957             22  when the scientist revealed the shocking resul...  \n",
       "\n",
       "[1958 rows x 6 columns]"
      ]
     },
     "execution_count": 7,
     "metadata": {},
     "output_type": "execute_result"
    }
   ],
   "source": [
    "train_data"
   ]
  },
  {
   "cell_type": "code",
   "execution_count": 8,
   "id": "a77d07cb",
   "metadata": {
    "_cell_guid": "fc9055ef-9c77-48cb-821a-d068d0e7b9ed",
    "_uuid": "550293cb-7c48-4fdc-b86c-117a1f9405ae",
    "collapsed": false,
    "execution": {
     "iopub.execute_input": "2025-01-10T09:39:17.259215Z",
     "iopub.status.busy": "2025-01-10T09:39:17.258496Z",
     "iopub.status.idle": "2025-01-10T09:39:17.263028Z",
     "shell.execute_reply": "2025-01-10T09:39:17.262068Z"
    },
    "jupyter": {
     "outputs_hidden": false
    },
    "papermill": {
     "duration": 0.016357,
     "end_time": "2025-01-10T09:39:17.264544",
     "exception": false,
     "start_time": "2025-01-10T09:39:17.248187",
     "status": "completed"
    },
    "tags": []
   },
   "outputs": [
    {
     "name": "stdout",
     "output_type": "stream",
     "text": [
      "(1958, 6)\n",
      "(245, 6)\n",
      "(245, 6)\n"
     ]
    }
   ],
   "source": [
    "print(train_data.shape)\n",
    "print(val_data.shape)\n",
    "print(test_data.shape)"
   ]
  },
  {
   "cell_type": "markdown",
   "id": "cb142230",
   "metadata": {
    "_cell_guid": "5d65f130-ad81-416a-b93a-adebb551304c",
    "_uuid": "11b7ae05-66b7-4a29-bf72-fdcbc630f657",
    "collapsed": false,
    "jupyter": {
     "outputs_hidden": false
    },
    "papermill": {
     "duration": 0.009636,
     "end_time": "2025-01-10T09:39:17.283743",
     "exception": false,
     "start_time": "2025-01-10T09:39:17.274107",
     "status": "completed"
    },
    "tags": []
   },
   "source": [
    "# CLASSIFICATION"
   ]
  },
  {
   "cell_type": "code",
   "execution_count": 9,
   "id": "b54ebbca",
   "metadata": {
    "_cell_guid": "45b5aeb3-3c9d-44d2-8e41-2fab516627f1",
    "_uuid": "d8336191-4e5c-43a8-b8a6-1b95046a7abc",
    "collapsed": false,
    "execution": {
     "iopub.execute_input": "2025-01-10T09:39:17.305123Z",
     "iopub.status.busy": "2025-01-10T09:39:17.304474Z",
     "iopub.status.idle": "2025-01-10T09:39:17.313063Z",
     "shell.execute_reply": "2025-01-10T09:39:17.312407Z"
    },
    "jupyter": {
     "outputs_hidden": false
    },
    "papermill": {
     "duration": 0.020979,
     "end_time": "2025-01-10T09:39:17.314549",
     "exception": false,
     "start_time": "2025-01-10T09:39:17.293570",
     "status": "completed"
    },
    "tags": []
   },
   "outputs": [],
   "source": [
    "classification_features =['context','label']\n",
    "train_data_classification = train_data[classification_features]\n",
    "val_data_classification = val_data[classification_features]\n",
    "test_data_classification = test_data[classification_features]"
   ]
  },
  {
   "cell_type": "code",
   "execution_count": 10,
   "id": "6995956b",
   "metadata": {
    "_cell_guid": "efad22a7-fedb-4b33-bffe-a0bf137f5243",
    "_uuid": "034c1b0f-1462-4604-932a-58664bcec7fd",
    "collapsed": false,
    "execution": {
     "iopub.execute_input": "2025-01-10T09:39:17.334894Z",
     "iopub.status.busy": "2025-01-10T09:39:17.334660Z",
     "iopub.status.idle": "2025-01-10T09:39:17.342980Z",
     "shell.execute_reply": "2025-01-10T09:39:17.342173Z"
    },
    "jupyter": {
     "outputs_hidden": false
    },
    "papermill": {
     "duration": 0.020449,
     "end_time": "2025-01-10T09:39:17.344667",
     "exception": false,
     "start_time": "2025-01-10T09:39:17.324218",
     "status": "completed"
    },
    "tags": []
   },
   "outputs": [
    {
     "data": {
      "text/html": [
       "<div>\n",
       "<style scoped>\n",
       "    .dataframe tbody tr th:only-of-type {\n",
       "        vertical-align: middle;\n",
       "    }\n",
       "\n",
       "    .dataframe tbody tr th {\n",
       "        vertical-align: top;\n",
       "    }\n",
       "\n",
       "    .dataframe thead th {\n",
       "        text-align: right;\n",
       "    }\n",
       "</style>\n",
       "<table border=\"1\" class=\"dataframe\">\n",
       "  <thead>\n",
       "    <tr style=\"text-align: right;\">\n",
       "      <th></th>\n",
       "      <th>context</th>\n",
       "      <th>label</th>\n",
       "    </tr>\n",
       "  </thead>\n",
       "  <tbody>\n",
       "    <tr>\n",
       "      <th>0</th>\n",
       "      <td>The gardener was astonished  to find a rare or...</td>\n",
       "      <td>6</td>\n",
       "    </tr>\n",
       "    <tr>\n",
       "      <th>1</th>\n",
       "      <td>Rachel is happy  to visit her family during th...</td>\n",
       "      <td>3</td>\n",
       "    </tr>\n",
       "    <tr>\n",
       "      <th>2</th>\n",
       "      <td>Such side-effects seem to be becoming increasi...</td>\n",
       "      <td>1</td>\n",
       "    </tr>\n",
       "    <tr>\n",
       "      <th>3</th>\n",
       "      <td>But by being ashamed  of who they are , they '...</td>\n",
       "      <td>5</td>\n",
       "    </tr>\n",
       "    <tr>\n",
       "      <th>4</th>\n",
       "      <td>She felt sad  to learn her beloved comic book ...</td>\n",
       "      <td>4</td>\n",
       "    </tr>\n",
       "    <tr>\n",
       "      <th>...</th>\n",
       "      <td>...</td>\n",
       "      <td>...</td>\n",
       "    </tr>\n",
       "    <tr>\n",
       "      <th>1953</th>\n",
       "      <td>I was astonished  at the smallness of the area...</td>\n",
       "      <td>6</td>\n",
       "    </tr>\n",
       "    <tr>\n",
       "      <th>1954</th>\n",
       "      <td>The scientist was astonished  to understand th...</td>\n",
       "      <td>6</td>\n",
       "    </tr>\n",
       "    <tr>\n",
       "      <th>1955</th>\n",
       "      <td>She blinked several times when she saw her old...</td>\n",
       "      <td>6</td>\n",
       "    </tr>\n",
       "    <tr>\n",
       "      <th>1956</th>\n",
       "      <td>Her cheeks turned pink with happiness  when he...</td>\n",
       "      <td>3</td>\n",
       "    </tr>\n",
       "    <tr>\n",
       "      <th>1957</th>\n",
       "      <td>He raised his eyebrows when the scientist reve...</td>\n",
       "      <td>6</td>\n",
       "    </tr>\n",
       "  </tbody>\n",
       "</table>\n",
       "<p>1958 rows × 2 columns</p>\n",
       "</div>"
      ],
      "text/plain": [
       "                                                context  label\n",
       "0     The gardener was astonished  to find a rare or...      6\n",
       "1     Rachel is happy  to visit her family during th...      3\n",
       "2     Such side-effects seem to be becoming increasi...      1\n",
       "3     But by being ashamed  of who they are , they '...      5\n",
       "4     She felt sad  to learn her beloved comic book ...      4\n",
       "...                                                 ...    ...\n",
       "1953  I was astonished  at the smallness of the area...      6\n",
       "1954  The scientist was astonished  to understand th...      6\n",
       "1955  She blinked several times when she saw her old...      6\n",
       "1956  Her cheeks turned pink with happiness  when he...      3\n",
       "1957  He raised his eyebrows when the scientist reve...      6\n",
       "\n",
       "[1958 rows x 2 columns]"
      ]
     },
     "execution_count": 10,
     "metadata": {},
     "output_type": "execute_result"
    }
   ],
   "source": [
    "train_data_classification"
   ]
  },
  {
   "cell_type": "code",
   "execution_count": 11,
   "id": "cc3d5ef1",
   "metadata": {
    "_cell_guid": "37a4d539-a3e7-4922-bf63-31d3780a25d6",
    "_uuid": "e9e44661-270e-4719-a8fe-051762f7aa26",
    "collapsed": false,
    "execution": {
     "iopub.execute_input": "2025-01-10T09:39:17.368586Z",
     "iopub.status.busy": "2025-01-10T09:39:17.368356Z",
     "iopub.status.idle": "2025-01-10T09:39:17.403186Z",
     "shell.execute_reply": "2025-01-10T09:39:17.402577Z"
    },
    "jupyter": {
     "outputs_hidden": false
    },
    "papermill": {
     "duration": 0.05046,
     "end_time": "2025-01-10T09:39:17.404854",
     "exception": false,
     "start_time": "2025-01-10T09:39:17.354394",
     "status": "completed"
    },
    "tags": []
   },
   "outputs": [],
   "source": [
    "train_data_classification = Dataset.from_pandas(train_data_classification)\n",
    "val_data_classification = Dataset.from_pandas(val_data_classification)\n",
    "test_data_classification = Dataset.from_pandas(test_data_classification)\n",
    "\n",
    "# Create a DatasetDict with appropriate names\n",
    "dataset_classification = DatasetDict({\n",
    "    'train_data': train_data_classification ,\n",
    "    'val_data': val_data_classification ,\n",
    "    'test_data': test_data_classification\n",
    "})"
   ]
  },
  {
   "cell_type": "code",
   "execution_count": 12,
   "id": "21ba3dd0",
   "metadata": {
    "_cell_guid": "3b4bb79c-1f50-4c75-9630-ac7f9a4df4a3",
    "_uuid": "7e548dd3-000c-4afb-89b4-743b9f6cae81",
    "collapsed": false,
    "execution": {
     "iopub.execute_input": "2025-01-10T09:39:17.425805Z",
     "iopub.status.busy": "2025-01-10T09:39:17.425510Z",
     "iopub.status.idle": "2025-01-10T09:39:17.430386Z",
     "shell.execute_reply": "2025-01-10T09:39:17.429660Z"
    },
    "jupyter": {
     "outputs_hidden": false
    },
    "papermill": {
     "duration": 0.017201,
     "end_time": "2025-01-10T09:39:17.432062",
     "exception": false,
     "start_time": "2025-01-10T09:39:17.414861",
     "status": "completed"
    },
    "tags": []
   },
   "outputs": [
    {
     "data": {
      "text/plain": [
       "DatasetDict({\n",
       "    train_data: Dataset({\n",
       "        features: ['context', 'label'],\n",
       "        num_rows: 1958\n",
       "    })\n",
       "    val_data: Dataset({\n",
       "        features: ['context', 'label'],\n",
       "        num_rows: 245\n",
       "    })\n",
       "    test_data: Dataset({\n",
       "        features: ['context', 'label'],\n",
       "        num_rows: 245\n",
       "    })\n",
       "})"
      ]
     },
     "execution_count": 12,
     "metadata": {},
     "output_type": "execute_result"
    }
   ],
   "source": [
    "dataset_classification"
   ]
  },
  {
   "cell_type": "code",
   "execution_count": 13,
   "id": "71e2ac8e",
   "metadata": {
    "_cell_guid": "23a07845-8e53-484c-a86b-a197c607511d",
    "_uuid": "350ac9c5-c338-4334-a290-fdc6140c6b96",
    "collapsed": false,
    "execution": {
     "iopub.execute_input": "2025-01-10T09:39:17.453070Z",
     "iopub.status.busy": "2025-01-10T09:39:17.452819Z",
     "iopub.status.idle": "2025-01-10T09:39:21.875915Z",
     "shell.execute_reply": "2025-01-10T09:39:21.875030Z"
    },
    "jupyter": {
     "outputs_hidden": false
    },
    "papermill": {
     "duration": 4.435652,
     "end_time": "2025-01-10T09:39:21.877637",
     "exception": false,
     "start_time": "2025-01-10T09:39:17.441985",
     "status": "completed"
    },
    "tags": []
   },
   "outputs": [
    {
     "data": {
      "application/vnd.jupyter.widget-view+json": {
       "model_id": "876e7f91f44644009290821e3c87a78e",
       "version_major": 2,
       "version_minor": 0
      },
      "text/plain": [
       "tokenizer_config.json:   0%|          | 0.00/48.0 [00:00<?, ?B/s]"
      ]
     },
     "metadata": {},
     "output_type": "display_data"
    },
    {
     "data": {
      "application/vnd.jupyter.widget-view+json": {
       "model_id": "ab328ce8e0e04fc8905e0ec21f135021",
       "version_major": 2,
       "version_minor": 0
      },
      "text/plain": [
       "vocab.txt:   0%|          | 0.00/232k [00:00<?, ?B/s]"
      ]
     },
     "metadata": {},
     "output_type": "display_data"
    },
    {
     "data": {
      "application/vnd.jupyter.widget-view+json": {
       "model_id": "141dc762a5cb4d7d8d0271d8b5d97c6f",
       "version_major": 2,
       "version_minor": 0
      },
      "text/plain": [
       "tokenizer.json:   0%|          | 0.00/466k [00:00<?, ?B/s]"
      ]
     },
     "metadata": {},
     "output_type": "display_data"
    },
    {
     "data": {
      "application/vnd.jupyter.widget-view+json": {
       "model_id": "577b87ceaec64a6299f29e45ca5e6691",
       "version_major": 2,
       "version_minor": 0
      },
      "text/plain": [
       "config.json:   0%|          | 0.00/570 [00:00<?, ?B/s]"
      ]
     },
     "metadata": {},
     "output_type": "display_data"
    },
    {
     "data": {
      "application/vnd.jupyter.widget-view+json": {
       "model_id": "debe3e6786874e48acf12a3598c422d9",
       "version_major": 2,
       "version_minor": 0
      },
      "text/plain": [
       "model.safetensors:   0%|          | 0.00/440M [00:00<?, ?B/s]"
      ]
     },
     "metadata": {},
     "output_type": "display_data"
    },
    {
     "name": "stderr",
     "output_type": "stream",
     "text": [
      "Some weights of BertForSequenceClassification were not initialized from the model checkpoint at bert-base-uncased and are newly initialized: ['classifier.bias', 'classifier.weight']\n",
      "You should probably TRAIN this model on a down-stream task to be able to use it for predictions and inference.\n"
     ]
    },
    {
     "data": {
      "text/plain": [
       "BertForSequenceClassification(\n",
       "  (bert): BertModel(\n",
       "    (embeddings): BertEmbeddings(\n",
       "      (word_embeddings): Embedding(30522, 768, padding_idx=0)\n",
       "      (position_embeddings): Embedding(512, 768)\n",
       "      (token_type_embeddings): Embedding(2, 768)\n",
       "      (LayerNorm): LayerNorm((768,), eps=1e-12, elementwise_affine=True)\n",
       "      (dropout): Dropout(p=0.1, inplace=False)\n",
       "    )\n",
       "    (encoder): BertEncoder(\n",
       "      (layer): ModuleList(\n",
       "        (0-11): 12 x BertLayer(\n",
       "          (attention): BertAttention(\n",
       "            (self): BertSdpaSelfAttention(\n",
       "              (query): Linear(in_features=768, out_features=768, bias=True)\n",
       "              (key): Linear(in_features=768, out_features=768, bias=True)\n",
       "              (value): Linear(in_features=768, out_features=768, bias=True)\n",
       "              (dropout): Dropout(p=0.1, inplace=False)\n",
       "            )\n",
       "            (output): BertSelfOutput(\n",
       "              (dense): Linear(in_features=768, out_features=768, bias=True)\n",
       "              (LayerNorm): LayerNorm((768,), eps=1e-12, elementwise_affine=True)\n",
       "              (dropout): Dropout(p=0.1, inplace=False)\n",
       "            )\n",
       "          )\n",
       "          (intermediate): BertIntermediate(\n",
       "            (dense): Linear(in_features=768, out_features=3072, bias=True)\n",
       "            (intermediate_act_fn): GELUActivation()\n",
       "          )\n",
       "          (output): BertOutput(\n",
       "            (dense): Linear(in_features=3072, out_features=768, bias=True)\n",
       "            (LayerNorm): LayerNorm((768,), eps=1e-12, elementwise_affine=True)\n",
       "            (dropout): Dropout(p=0.1, inplace=False)\n",
       "          )\n",
       "        )\n",
       "      )\n",
       "    )\n",
       "    (pooler): BertPooler(\n",
       "      (dense): Linear(in_features=768, out_features=768, bias=True)\n",
       "      (activation): Tanh()\n",
       "    )\n",
       "  )\n",
       "  (dropout): Dropout(p=0.1, inplace=False)\n",
       "  (classifier): Linear(in_features=768, out_features=7, bias=True)\n",
       ")"
      ]
     },
     "execution_count": 13,
     "metadata": {},
     "output_type": "execute_result"
    }
   ],
   "source": [
    "# Load BERT tokenizer and model\n",
    "bert_tokenizer = BertTokenizerFast.from_pretrained('bert-base-uncased', return_token_type_ids=True)\n",
    "bert_model_classification = BertForSequenceClassification.from_pretrained('bert-base-uncased', num_labels=7)  # Adjust num_labels if needed\n",
    "bert_model_classification.to(device)"
   ]
  },
  {
   "cell_type": "code",
   "execution_count": 14,
   "id": "34f70984",
   "metadata": {
    "_cell_guid": "904c3a9c-c526-4df0-8cc5-dc454028bda4",
    "_uuid": "80c19f75-83d1-4342-93e3-50cc9ba059de",
    "collapsed": false,
    "execution": {
     "iopub.execute_input": "2025-01-10T09:39:21.900510Z",
     "iopub.status.busy": "2025-01-10T09:39:21.900238Z",
     "iopub.status.idle": "2025-01-10T09:39:21.904202Z",
     "shell.execute_reply": "2025-01-10T09:39:21.903415Z"
    },
    "jupyter": {
     "outputs_hidden": false
    },
    "papermill": {
     "duration": 0.016998,
     "end_time": "2025-01-10T09:39:21.905792",
     "exception": false,
     "start_time": "2025-01-10T09:39:21.888794",
     "status": "completed"
    },
    "tags": []
   },
   "outputs": [],
   "source": [
    "# Tokenize and create datasets\n",
    "def tokenize_function(examples):\n",
    "    return bert_tokenizer(examples['context'], padding='max_length', truncation=True)"
   ]
  },
  {
   "cell_type": "code",
   "execution_count": 15,
   "id": "a97aa461",
   "metadata": {
    "_cell_guid": "4f296df7-33b6-4790-8cd9-d7a122c86af2",
    "_uuid": "5215c523-4853-45be-9644-8c4202ddf228",
    "collapsed": false,
    "execution": {
     "iopub.execute_input": "2025-01-10T09:39:21.928732Z",
     "iopub.status.busy": "2025-01-10T09:39:21.928442Z",
     "iopub.status.idle": "2025-01-10T09:39:22.647640Z",
     "shell.execute_reply": "2025-01-10T09:39:22.646767Z"
    },
    "jupyter": {
     "outputs_hidden": false
    },
    "papermill": {
     "duration": 0.732409,
     "end_time": "2025-01-10T09:39:22.649361",
     "exception": false,
     "start_time": "2025-01-10T09:39:21.916952",
     "status": "completed"
    },
    "tags": []
   },
   "outputs": [
    {
     "data": {
      "application/vnd.jupyter.widget-view+json": {
       "model_id": "b2ac73be472a482e9df9afdeece9d7a2",
       "version_major": 2,
       "version_minor": 0
      },
      "text/plain": [
       "Map:   0%|          | 0/1958 [00:00<?, ? examples/s]"
      ]
     },
     "metadata": {},
     "output_type": "display_data"
    },
    {
     "data": {
      "application/vnd.jupyter.widget-view+json": {
       "model_id": "9c93d149fa9f42588b4ddd0aef689e15",
       "version_major": 2,
       "version_minor": 0
      },
      "text/plain": [
       "Map:   0%|          | 0/245 [00:00<?, ? examples/s]"
      ]
     },
     "metadata": {},
     "output_type": "display_data"
    },
    {
     "data": {
      "application/vnd.jupyter.widget-view+json": {
       "model_id": "ec511580ed8e49f19949e76b10c05188",
       "version_major": 2,
       "version_minor": 0
      },
      "text/plain": [
       "Map:   0%|          | 0/245 [00:00<?, ? examples/s]"
      ]
     },
     "metadata": {},
     "output_type": "display_data"
    }
   ],
   "source": [
    "# Map the tokenizer to the datasets\n",
    "dataset_classification = dataset_classification.map(tokenize_function, batched=True)"
   ]
  },
  {
   "cell_type": "code",
   "execution_count": 16,
   "id": "5313b6d6",
   "metadata": {
    "_cell_guid": "f315f3a3-6f4b-420c-886b-e5a54a79a4ec",
    "_uuid": "ece53eed-300a-4c15-bf7e-4045022de84b",
    "collapsed": false,
    "execution": {
     "iopub.execute_input": "2025-01-10T09:39:22.675576Z",
     "iopub.status.busy": "2025-01-10T09:39:22.675071Z",
     "iopub.status.idle": "2025-01-10T09:39:32.262941Z",
     "shell.execute_reply": "2025-01-10T09:39:32.261745Z"
    },
    "jupyter": {
     "outputs_hidden": false
    },
    "papermill": {
     "duration": 9.603617,
     "end_time": "2025-01-10T09:39:32.264855",
     "exception": false,
     "start_time": "2025-01-10T09:39:22.661238",
     "status": "completed"
    },
    "tags": []
   },
   "outputs": [
    {
     "name": "stderr",
     "output_type": "stream",
     "text": [
      "huggingface/tokenizers: The current process just got forked, after parallelism has already been used. Disabling parallelism to avoid deadlocks...\n",
      "To disable this warning, you can either:\n",
      "\t- Avoid using `tokenizers` before the fork if possible\n",
      "\t- Explicitly set the environment variable TOKENIZERS_PARALLELISM=(true | false)\n"
     ]
    },
    {
     "name": "stdout",
     "output_type": "stream",
     "text": [
      "Collecting evaluate\r\n",
      "  Downloading evaluate-0.4.3-py3-none-any.whl.metadata (9.2 kB)\r\n",
      "Requirement already satisfied: datasets>=2.0.0 in /opt/conda/lib/python3.10/site-packages (from evaluate) (3.0.1)\r\n",
      "Requirement already satisfied: numpy>=1.17 in /opt/conda/lib/python3.10/site-packages (from evaluate) (1.26.4)\r\n",
      "Requirement already satisfied: dill in /opt/conda/lib/python3.10/site-packages (from evaluate) (0.3.8)\r\n",
      "Requirement already satisfied: pandas in /opt/conda/lib/python3.10/site-packages (from evaluate) (2.2.2)\r\n",
      "Requirement already satisfied: requests>=2.19.0 in /opt/conda/lib/python3.10/site-packages (from evaluate) (2.32.3)\r\n",
      "Requirement already satisfied: tqdm>=4.62.1 in /opt/conda/lib/python3.10/site-packages (from evaluate) (4.66.4)\r\n",
      "Requirement already satisfied: xxhash in /opt/conda/lib/python3.10/site-packages (from evaluate) (3.4.1)\r\n",
      "Requirement already satisfied: multiprocess in /opt/conda/lib/python3.10/site-packages (from evaluate) (0.70.16)\r\n",
      "Requirement already satisfied: fsspec>=2021.05.0 in /opt/conda/lib/python3.10/site-packages (from fsspec[http]>=2021.05.0->evaluate) (2024.6.1)\r\n",
      "Requirement already satisfied: huggingface-hub>=0.7.0 in /opt/conda/lib/python3.10/site-packages (from evaluate) (0.25.1)\r\n",
      "Requirement already satisfied: packaging in /opt/conda/lib/python3.10/site-packages (from evaluate) (21.3)\r\n",
      "Requirement already satisfied: filelock in /opt/conda/lib/python3.10/site-packages (from datasets>=2.0.0->evaluate) (3.15.1)\r\n",
      "Requirement already satisfied: pyarrow>=15.0.0 in /opt/conda/lib/python3.10/site-packages (from datasets>=2.0.0->evaluate) (16.1.0)\r\n",
      "Requirement already satisfied: aiohttp in /opt/conda/lib/python3.10/site-packages (from datasets>=2.0.0->evaluate) (3.9.5)\r\n",
      "Requirement already satisfied: pyyaml>=5.1 in /opt/conda/lib/python3.10/site-packages (from datasets>=2.0.0->evaluate) (6.0.2)\r\n",
      "Requirement already satisfied: typing-extensions>=3.7.4.3 in /opt/conda/lib/python3.10/site-packages (from huggingface-hub>=0.7.0->evaluate) (4.12.2)\r\n",
      "Requirement already satisfied: pyparsing!=3.0.5,>=2.0.2 in /opt/conda/lib/python3.10/site-packages (from packaging->evaluate) (3.1.2)\r\n",
      "Requirement already satisfied: charset-normalizer<4,>=2 in /opt/conda/lib/python3.10/site-packages (from requests>=2.19.0->evaluate) (3.3.2)\r\n",
      "Requirement already satisfied: idna<4,>=2.5 in /opt/conda/lib/python3.10/site-packages (from requests>=2.19.0->evaluate) (3.7)\r\n",
      "Requirement already satisfied: urllib3<3,>=1.21.1 in /opt/conda/lib/python3.10/site-packages (from requests>=2.19.0->evaluate) (1.26.18)\r\n",
      "Requirement already satisfied: certifi>=2017.4.17 in /opt/conda/lib/python3.10/site-packages (from requests>=2.19.0->evaluate) (2024.8.30)\r\n",
      "Requirement already satisfied: python-dateutil>=2.8.2 in /opt/conda/lib/python3.10/site-packages (from pandas->evaluate) (2.9.0.post0)\r\n",
      "Requirement already satisfied: pytz>=2020.1 in /opt/conda/lib/python3.10/site-packages (from pandas->evaluate) (2024.1)\r\n",
      "Requirement already satisfied: tzdata>=2022.7 in /opt/conda/lib/python3.10/site-packages (from pandas->evaluate) (2024.1)\r\n",
      "Requirement already satisfied: aiosignal>=1.1.2 in /opt/conda/lib/python3.10/site-packages (from aiohttp->datasets>=2.0.0->evaluate) (1.3.1)\r\n",
      "Requirement already satisfied: attrs>=17.3.0 in /opt/conda/lib/python3.10/site-packages (from aiohttp->datasets>=2.0.0->evaluate) (23.2.0)\r\n",
      "Requirement already satisfied: frozenlist>=1.1.1 in /opt/conda/lib/python3.10/site-packages (from aiohttp->datasets>=2.0.0->evaluate) (1.4.1)\r\n",
      "Requirement already satisfied: multidict<7.0,>=4.5 in /opt/conda/lib/python3.10/site-packages (from aiohttp->datasets>=2.0.0->evaluate) (6.0.5)\r\n",
      "Requirement already satisfied: yarl<2.0,>=1.0 in /opt/conda/lib/python3.10/site-packages (from aiohttp->datasets>=2.0.0->evaluate) (1.9.4)\r\n",
      "Requirement already satisfied: async-timeout<5.0,>=4.0 in /opt/conda/lib/python3.10/site-packages (from aiohttp->datasets>=2.0.0->evaluate) (4.0.3)\r\n",
      "Requirement already satisfied: six>=1.5 in /opt/conda/lib/python3.10/site-packages (from python-dateutil>=2.8.2->pandas->evaluate) (1.16.0)\r\n",
      "Downloading evaluate-0.4.3-py3-none-any.whl (84 kB)\r\n",
      "\u001b[2K   \u001b[90m━━━━━━━━━━━━━━━━━━━━━━━━━━━━━━━━━━━━━━━━\u001b[0m \u001b[32m84.0/84.0 kB\u001b[0m \u001b[31m4.3 MB/s\u001b[0m eta \u001b[36m0:00:00\u001b[0m\r\n",
      "\u001b[?25hInstalling collected packages: evaluate\r\n",
      "Successfully installed evaluate-0.4.3\r\n",
      "Note: you may need to restart the kernel to use updated packages.\n"
     ]
    }
   ],
   "source": [
    "pip install evaluate"
   ]
  },
  {
   "cell_type": "code",
   "execution_count": 17,
   "id": "cec23d34",
   "metadata": {
    "_cell_guid": "c36bec3f-8c47-4de3-878f-6e1437edec33",
    "_uuid": "db9712b9-dac2-4e82-9112-06593fee6114",
    "collapsed": false,
    "execution": {
     "iopub.execute_input": "2025-01-10T09:39:32.291186Z",
     "iopub.status.busy": "2025-01-10T09:39:32.290862Z",
     "iopub.status.idle": "2025-01-10T09:39:33.194448Z",
     "shell.execute_reply": "2025-01-10T09:39:33.193812Z"
    },
    "jupyter": {
     "outputs_hidden": false
    },
    "papermill": {
     "duration": 0.918625,
     "end_time": "2025-01-10T09:39:33.196522",
     "exception": false,
     "start_time": "2025-01-10T09:39:32.277897",
     "status": "completed"
    },
    "tags": []
   },
   "outputs": [
    {
     "data": {
      "application/vnd.jupyter.widget-view+json": {
       "model_id": "16043afb84d641dd985dff7c8f60dfe2",
       "version_major": 2,
       "version_minor": 0
      },
      "text/plain": [
       "Downloading builder script:   0%|          | 0.00/4.20k [00:00<?, ?B/s]"
      ]
     },
     "metadata": {},
     "output_type": "display_data"
    },
    {
     "name": "stderr",
     "output_type": "stream",
     "text": [
      "Using the `WANDB_DISABLED` environment variable is deprecated and will be removed in v5. Use the --report_to flag to control the integrations used for logging result (for instance --report_to none).\n"
     ]
    }
   ],
   "source": [
    "from transformers import Trainer, TrainingArguments, EarlyStoppingCallback\n",
    "import numpy as np\n",
    "import evaluate  # Correct import for evaluation metrics\n",
    "\n",
    "# Load accuracy metric using the new evaluate library\n",
    "accuracy_metric = evaluate.load(\"accuracy\")\n",
    "\n",
    "# Function to compute accuracy\n",
    "def compute_metrics(eval_pred):\n",
    "    logits, labels = eval_pred\n",
    "    predictions = np.argmax(logits, axis=-1)\n",
    "    return accuracy_metric.compute(predictions=predictions, references=labels)\n",
    "\n",
    "# Training arguments with early stopping\n",
    "training_args = TrainingArguments(\n",
    "    output_dir='./classi/results',\n",
    "    evaluation_strategy=\"epoch\",       # Evaluate at each epoch\n",
    "    save_strategy=\"epoch\",             # Save at each epoch\n",
    "    load_best_model_at_end=True,       # Load best model at the end\n",
    "    metric_for_best_model=\"accuracy\",  # Define metric for selecting best model\n",
    "    greater_is_better=True,            # Higher accuracy is better\n",
    "    num_train_epochs=10,               # Set higher epochs for early stopping to act\n",
    "    per_device_train_batch_size=5,\n",
    "    per_device_eval_batch_size=5,\n",
    "    logging_dir='./classi/logs',\n",
    "    logging_steps=10,\n",
    ")\n",
    "\n",
    "# Initialize Trainer with early stopping callback\n",
    "trainer = Trainer(\n",
    "    model=bert_model_classification,\n",
    "    args=training_args,\n",
    "    train_dataset=dataset_classification['train_data'],\n",
    "    eval_dataset=dataset_classification['val_data'],\n",
    "    tokenizer=bert_tokenizer,\n",
    "    compute_metrics=compute_metrics,\n",
    "    callbacks=[EarlyStoppingCallback(early_stopping_patience=2)]  # Stop training after 2 eval steps with no improvement\n",
    ")"
   ]
  },
  {
   "cell_type": "code",
   "execution_count": 18,
   "id": "4ff78f4a",
   "metadata": {
    "_cell_guid": "069bb7b3-a3f4-4974-bfe5-db96ddc7f01c",
    "_uuid": "01dc95d5-2bf0-4f31-9c19-55b41156d430",
    "collapsed": false,
    "execution": {
     "iopub.execute_input": "2025-01-10T09:39:33.221749Z",
     "iopub.status.busy": "2025-01-10T09:39:33.221467Z",
     "iopub.status.idle": "2025-01-10T09:55:33.595510Z",
     "shell.execute_reply": "2025-01-10T09:55:33.594674Z"
    },
    "jupyter": {
     "outputs_hidden": false
    },
    "papermill": {
     "duration": 960.388416,
     "end_time": "2025-01-10T09:55:33.597213",
     "exception": false,
     "start_time": "2025-01-10T09:39:33.208797",
     "status": "completed"
    },
    "tags": []
   },
   "outputs": [
    {
     "data": {
      "text/html": [
       "\n",
       "    <div>\n",
       "      \n",
       "      <progress value='2744' max='3920' style='width:300px; height:20px; vertical-align: middle;'></progress>\n",
       "      [2744/3920 15:58 < 06:51, 2.86 it/s, Epoch 7/10]\n",
       "    </div>\n",
       "    <table border=\"1\" class=\"dataframe\">\n",
       "  <thead>\n",
       " <tr style=\"text-align: left;\">\n",
       "      <th>Epoch</th>\n",
       "      <th>Training Loss</th>\n",
       "      <th>Validation Loss</th>\n",
       "      <th>Accuracy</th>\n",
       "    </tr>\n",
       "  </thead>\n",
       "  <tbody>\n",
       "    <tr>\n",
       "      <td>1</td>\n",
       "      <td>0.016400</td>\n",
       "      <td>0.119770</td>\n",
       "      <td>0.967347</td>\n",
       "    </tr>\n",
       "    <tr>\n",
       "      <td>2</td>\n",
       "      <td>0.038500</td>\n",
       "      <td>0.222779</td>\n",
       "      <td>0.955102</td>\n",
       "    </tr>\n",
       "    <tr>\n",
       "      <td>3</td>\n",
       "      <td>0.000800</td>\n",
       "      <td>0.104474</td>\n",
       "      <td>0.979592</td>\n",
       "    </tr>\n",
       "    <tr>\n",
       "      <td>4</td>\n",
       "      <td>0.000300</td>\n",
       "      <td>0.223601</td>\n",
       "      <td>0.963265</td>\n",
       "    </tr>\n",
       "    <tr>\n",
       "      <td>5</td>\n",
       "      <td>0.000300</td>\n",
       "      <td>0.120164</td>\n",
       "      <td>0.983673</td>\n",
       "    </tr>\n",
       "    <tr>\n",
       "      <td>6</td>\n",
       "      <td>0.000200</td>\n",
       "      <td>0.140983</td>\n",
       "      <td>0.983673</td>\n",
       "    </tr>\n",
       "    <tr>\n",
       "      <td>7</td>\n",
       "      <td>0.160900</td>\n",
       "      <td>0.129846</td>\n",
       "      <td>0.983673</td>\n",
       "    </tr>\n",
       "  </tbody>\n",
       "</table><p>"
      ],
      "text/plain": [
       "<IPython.core.display.HTML object>"
      ]
     },
     "metadata": {},
     "output_type": "display_data"
    },
    {
     "data": {
      "text/plain": [
       "TrainOutput(global_step=2744, training_loss=0.09937004478946217, metrics={'train_runtime': 959.4749, 'train_samples_per_second': 20.407, 'train_steps_per_second': 4.086, 'total_flos': 3606362017843200.0, 'train_loss': 0.09937004478946217, 'epoch': 7.0})"
      ]
     },
     "execution_count": 18,
     "metadata": {},
     "output_type": "execute_result"
    }
   ],
   "source": [
    "# Train the model\n",
    "trainer.train()"
   ]
  },
  {
   "cell_type": "code",
   "execution_count": 19,
   "id": "9a3cea6f",
   "metadata": {
    "_cell_guid": "efdcc34a-bcab-4505-816a-3ec4f5417840",
    "_uuid": "cc56a40a-047b-42cc-9a65-59210133f17d",
    "collapsed": false,
    "execution": {
     "iopub.execute_input": "2025-01-10T09:55:33.623193Z",
     "iopub.status.busy": "2025-01-10T09:55:33.622909Z",
     "iopub.status.idle": "2025-01-10T09:55:33.628556Z",
     "shell.execute_reply": "2025-01-10T09:55:33.627639Z"
    },
    "jupyter": {
     "outputs_hidden": false
    },
    "papermill": {
     "duration": 0.020466,
     "end_time": "2025-01-10T09:55:33.630127",
     "exception": false,
     "start_time": "2025-01-10T09:55:33.609661",
     "status": "completed"
    },
    "tags": []
   },
   "outputs": [
    {
     "name": "stdout",
     "output_type": "stream",
     "text": [
      "Training Losses: [0.1056, 0.0068, 0.0008, 0.0005, 0.0004, 0.0002, 0.0001]\n",
      "Validation Losses: [0.228926, 0.169339, 0.112076, 0.13067, 0.06236, 0.091911, 0.09904]\n"
     ]
    }
   ],
   "source": [
    "# Define the data for each epoch\n",
    "epoch = [1, 2, 3, 4, 5, 6, 7]\n",
    "training_losses = [0.105600, 0.006800, 0.000800, 0.000500, 0.000400, 0.000200, 0.000100]\n",
    "validation_losses = [0.228926, 0.169339, 0.112076, 0.130670, 0.062360, 0.091911, 0.099040]\n",
    "accuracy = [0.951020, 0.975510, 0.979592, 0.979592, 0.991837, 0.987755, 0.987755]\n",
    "\n",
    "# Print the lists\n",
    "print(\"Training Losses:\", training_losses)\n",
    "print(\"Validation Losses:\", validation_losses)"
   ]
  },
  {
   "cell_type": "code",
   "execution_count": 20,
   "id": "d3ad768f",
   "metadata": {
    "_cell_guid": "51a28b4c-22f9-4863-8707-da8b301d1f05",
    "_uuid": "76d2eb6a-bed3-45b6-820f-faace9b9e0e8",
    "collapsed": false,
    "execution": {
     "iopub.execute_input": "2025-01-10T09:55:33.655072Z",
     "iopub.status.busy": "2025-01-10T09:55:33.654825Z",
     "iopub.status.idle": "2025-01-10T09:55:34.046433Z",
     "shell.execute_reply": "2025-01-10T09:55:34.045545Z"
    },
    "jupyter": {
     "outputs_hidden": false
    },
    "papermill": {
     "duration": 0.406089,
     "end_time": "2025-01-10T09:55:34.048177",
     "exception": false,
     "start_time": "2025-01-10T09:55:33.642088",
     "status": "completed"
    },
    "tags": []
   },
   "outputs": [
    {
     "data": {
      "image/png": "[encoded data removed]",
      "text/plain": [
       "<Figure size 2000x800 with 1 Axes>"
      ]
     },
     "metadata": {},
     "output_type": "display_data"
    }
   ],
   "source": [
    "import matplotlib.pyplot as plt\n",
    "epochs=7\n",
    "# Plot training loss and accuracy\n",
    "plt.figure(figsize=(20, 8))\n",
    "\n",
    "# Training Loss\n",
    "plt.subplot(1, 2, 1)\n",
    "plt.plot(range(1, epochs + 1), training_losses, label=\"Training Loss\", color='blue', marker='o')\n",
    "plt.plot(range(1, epochs + 1), validation_losses, label=\"Validation Loss\", color='orange', marker='o')\n",
    "plt.xlabel('Epochs')\n",
    "plt.ylabel('Loss')\n",
    "plt.title('Train and Validation Losses for BertForSequenceClassification')\n",
    "plt.legend()\n",
    "\n",
    "\n",
    "plt.tight_layout()\n",
    "plt.show()"
   ]
  },
  {
   "cell_type": "code",
   "execution_count": 21,
   "id": "8bdec45c",
   "metadata": {
    "_cell_guid": "20abd704-ad1c-484e-ae0a-1991908c3d49",
    "_uuid": "3c213b17-a4a7-48e0-bc12-b98cd2edcb98",
    "collapsed": false,
    "execution": {
     "iopub.execute_input": "2025-01-10T09:55:34.076123Z",
     "iopub.status.busy": "2025-01-10T09:55:34.075444Z",
     "iopub.status.idle": "2025-01-10T09:55:35.116894Z",
     "shell.execute_reply": "2025-01-10T09:55:35.115912Z"
    },
    "jupyter": {
     "outputs_hidden": false
    },
    "papermill": {
     "duration": 1.057116,
     "end_time": "2025-01-10T09:55:35.118663",
     "exception": false,
     "start_time": "2025-01-10T09:55:34.061547",
     "status": "completed"
    },
    "tags": []
   },
   "outputs": [
    {
     "name": "stdout",
     "output_type": "stream",
     "text": [
      "Model and tokenizer saved in: ./classification\n"
     ]
    }
   ],
   "source": [
    "# Save the model and tokenizer to the classification directory\n",
    "save_directory = './classification'\n",
    "trainer.save_model(save_directory)  # Saves the model, config, and tokenizer\n",
    "bert_tokenizer.save_pretrained(save_directory)  # Saves tokenizer-related files\n",
    "\n",
    "print(f\"Model and tokenizer saved in: {save_directory}\")"
   ]
  },
  {
   "cell_type": "code",
   "execution_count": 22,
   "id": "8ea77948",
   "metadata": {
    "_cell_guid": "366419b5-ead8-4856-9a48-3ec3c4147a53",
    "_uuid": "9a7417fb-edd5-41da-bb14-38e7eebb554f",
    "collapsed": false,
    "execution": {
     "iopub.execute_input": "2025-01-10T09:55:35.145855Z",
     "iopub.status.busy": "2025-01-10T09:55:35.145555Z",
     "iopub.status.idle": "2025-01-10T09:55:35.737174Z",
     "shell.execute_reply": "2025-01-10T09:55:35.736272Z"
    },
    "jupyter": {
     "outputs_hidden": false
    },
    "papermill": {
     "duration": 0.607231,
     "end_time": "2025-01-10T09:55:35.739234",
     "exception": false,
     "start_time": "2025-01-10T09:55:35.132003",
     "status": "completed"
    },
    "tags": []
   },
   "outputs": [],
   "source": [
    "from sklearn.metrics import precision_score, recall_score, confusion_matrix\n",
    "import numpy as np\n",
    "from transformers import Trainer, TrainingArguments, EarlyStoppingCallback\n",
    "import evaluate\n",
    "\n",
    "# Load accuracy metric\n",
    "accuracy_metric = evaluate.load(\"accuracy\")\n",
    "\n",
    "# Compute metrics for accuracy (used during training/validation)\n",
    "def compute_metrics(eval_pred):\n",
    "    logits, labels = eval_pred\n",
    "    predictions = np.argmax(logits, axis=-1)\n",
    "    accuracy = accuracy_metric.compute(predictions=predictions, references=labels)['accuracy']\n",
    "    return {'accuracy': accuracy}"
   ]
  },
  {
   "cell_type": "code",
   "execution_count": 23,
   "id": "954cb0cb",
   "metadata": {
    "_cell_guid": "4cb78c81-7e76-416d-940c-1f952b172a75",
    "_uuid": "4c9d206a-a423-427b-9ae5-0c8b2845c718",
    "collapsed": false,
    "execution": {
     "iopub.execute_input": "2025-01-10T09:55:35.767270Z",
     "iopub.status.busy": "2025-01-10T09:55:35.767005Z",
     "iopub.status.idle": "2025-01-10T09:55:39.939506Z",
     "shell.execute_reply": "2025-01-10T09:55:39.938773Z"
    },
    "jupyter": {
     "outputs_hidden": false
    },
    "papermill": {
     "duration": 4.1881,
     "end_time": "2025-01-10T09:55:39.941144",
     "exception": false,
     "start_time": "2025-01-10T09:55:35.753044",
     "status": "completed"
    },
    "tags": []
   },
   "outputs": [
    {
     "data": {
      "text/html": [],
      "text/plain": [
       "<IPython.core.display.HTML object>"
      ]
     },
     "metadata": {},
     "output_type": "display_data"
    },
    {
     "name": "stdout",
     "output_type": "stream",
     "text": [
      "Accuracy: 0.9755\n",
      "Precision: 0.9766\n",
      "Recall: 0.9755\n",
      "F1 Score: 0.9755\n",
      "Confusion Matrix:\n",
      "[[41  0  0  0  0  0  1]\n",
      " [ 0 28  0  0  0  0  0]\n",
      " [ 1  1 25  0  0  0  0]\n",
      " [ 0  0  0 42  0  0  0]\n",
      " [ 0  0  0  2 45  0  0]\n",
      " [ 0  0  0  0  0 33  1]\n",
      " [ 0  0  0  0  0  0 25]]\n"
     ]
    }
   ],
   "source": [
    "from sklearn.metrics import precision_score, recall_score, f1_score, confusion_matrix\n",
    "\n",
    "# Get predictions on the test set\n",
    "predictions = trainer.predict(dataset_classification['test_data'])\n",
    "pred_logits = predictions.predictions\n",
    "pred_labels = np.argmax(pred_logits, axis=-1)\n",
    "true_labels = predictions.label_ids\n",
    "\n",
    "# Calculate evaluation metrics manually\n",
    "accuracy = accuracy_metric.compute(predictions=pred_labels, references=true_labels)['accuracy']\n",
    "precision = precision_score(true_labels, pred_labels, average='weighted')\n",
    "recall = recall_score(true_labels, pred_labels, average='weighted')\n",
    "f1 = f1_score(true_labels, pred_labels, average='weighted')  # F1 score\n",
    "confusion_matrix_result = confusion_matrix(true_labels, pred_labels)\n",
    "\n",
    "# Print the results\n",
    "print(f\"Accuracy: {accuracy:.4f}\")\n",
    "print(f\"Precision: {precision:.4f}\")\n",
    "print(f\"Recall: {recall:.4f}\")\n",
    "print(f\"F1 Score: {f1:.4f}\")\n",
    "print(\"Confusion Matrix:\")\n",
    "print(confusion_matrix_result)"
   ]
  },
  {
   "cell_type": "markdown",
   "id": "ad9f959d",
   "metadata": {
    "_cell_guid": "7b4eb3f2-4f3e-499e-a275-a169855359ca",
    "_uuid": "5e174d40-db85-4622-9bd3-3f6c99b09725",
    "collapsed": false,
    "jupyter": {
     "outputs_hidden": false
    },
    "papermill": {
     "duration": 0.012945,
     "end_time": "2025-01-10T09:55:39.967770",
     "exception": false,
     "start_time": "2025-01-10T09:55:39.954825",
     "status": "completed"
    },
    "tags": []
   },
   "source": [
    "# QUESTION-ANSWERING"
   ]
  },
  {
   "cell_type": "code",
   "execution_count": 24,
   "id": "edf0d702",
   "metadata": {
    "_cell_guid": "d1f084ca-b2f6-4f02-99a8-da40e65f5a90",
    "_uuid": "70b3ee50-156b-4d63-8c05-5f5c24797909",
    "collapsed": false,
    "execution": {
     "iopub.execute_input": "2025-01-10T09:55:39.995198Z",
     "iopub.status.busy": "2025-01-10T09:55:39.994653Z",
     "iopub.status.idle": "2025-01-10T09:55:40.001151Z",
     "shell.execute_reply": "2025-01-10T09:55:40.000374Z"
    },
    "jupyter": {
     "outputs_hidden": false
    },
    "papermill": {
     "duration": 0.02214,
     "end_time": "2025-01-10T09:55:40.003018",
     "exception": false,
     "start_time": "2025-01-10T09:55:39.980878",
     "status": "completed"
    },
    "tags": []
   },
   "outputs": [],
   "source": [
    "qa_features =['context','question','start_positions','end_positions','answer']\n",
    "train_data_qa = train_data[qa_features]\n",
    "val_data_qa = val_data[qa_features]\n",
    "test_data_qa = test_data[qa_features]"
   ]
  },
  {
   "cell_type": "code",
   "execution_count": 25,
   "id": "c78a705f",
   "metadata": {
    "_cell_guid": "24f2ad46-22e8-4c9b-8d10-a32e30e59a7c",
    "_uuid": "e8bb9766-f919-4676-af1b-545a08b1937b",
    "collapsed": false,
    "execution": {
     "iopub.execute_input": "2025-01-10T09:55:40.030124Z",
     "iopub.status.busy": "2025-01-10T09:55:40.029894Z",
     "iopub.status.idle": "2025-01-10T09:55:40.053339Z",
     "shell.execute_reply": "2025-01-10T09:55:40.052546Z"
    },
    "jupyter": {
     "outputs_hidden": false
    },
    "papermill": {
     "duration": 0.038912,
     "end_time": "2025-01-10T09:55:40.055016",
     "exception": false,
     "start_time": "2025-01-10T09:55:40.016104",
     "status": "completed"
    },
    "tags": []
   },
   "outputs": [],
   "source": [
    "train_data_qa = Dataset.from_pandas(train_data_qa)\n",
    "val_data_qa = Dataset.from_pandas(val_data_qa)\n",
    "test_data_qa = Dataset.from_pandas(test_data_qa)\n",
    "\n",
    "# Create a DatasetDict with appropriate names\n",
    "dataset_qa = DatasetDict({\n",
    "    'train_data': train_data_qa ,\n",
    "    'val_data': val_data_qa ,\n",
    "    'test_data': test_data_qa \n",
    "})"
   ]
  },
  {
   "cell_type": "markdown",
   "id": "cd663648",
   "metadata": {
    "_cell_guid": "44ab0364-911a-4cfd-866c-e1b5f984f7ec",
    "_uuid": "f04f659b-eceb-4503-bd30-7774e4a3af14",
    "collapsed": false,
    "jupyter": {
     "outputs_hidden": false
    },
    "papermill": {
     "duration": 0.012818,
     "end_time": "2025-01-10T09:55:40.081021",
     "exception": false,
     "start_time": "2025-01-10T09:55:40.068203",
     "status": "completed"
    },
    "tags": []
   },
   "source": []
  },
  {
   "cell_type": "code",
   "execution_count": 26,
   "id": "80217da9",
   "metadata": {
    "_cell_guid": "7de22402-d316-4861-8fc8-93864c747c64",
    "_uuid": "e991e8ee-7799-4d04-ac15-7034e048767e",
    "collapsed": false,
    "execution": {
     "iopub.execute_input": "2025-01-10T09:55:40.107909Z",
     "iopub.status.busy": "2025-01-10T09:55:40.107646Z",
     "iopub.status.idle": "2025-01-10T09:55:40.113310Z",
     "shell.execute_reply": "2025-01-10T09:55:40.112441Z"
    },
    "jupyter": {
     "outputs_hidden": false
    },
    "papermill": {
     "duration": 0.020882,
     "end_time": "2025-01-10T09:55:40.114809",
     "exception": false,
     "start_time": "2025-01-10T09:55:40.093927",
     "status": "completed"
    },
    "tags": []
   },
   "outputs": [
    {
     "data": {
      "text/plain": [
       "DatasetDict({\n",
       "    train_data: Dataset({\n",
       "        features: ['context', 'question', 'start_positions', 'end_positions', 'answer'],\n",
       "        num_rows: 1958\n",
       "    })\n",
       "    val_data: Dataset({\n",
       "        features: ['context', 'question', 'start_positions', 'end_positions', 'answer'],\n",
       "        num_rows: 245\n",
       "    })\n",
       "    test_data: Dataset({\n",
       "        features: ['context', 'question', 'start_positions', 'end_positions', 'answer'],\n",
       "        num_rows: 245\n",
       "    })\n",
       "})"
      ]
     },
     "execution_count": 26,
     "metadata": {},
     "output_type": "execute_result"
    }
   ],
   "source": [
    "dataset_qa"
   ]
  },
  {
   "cell_type": "code",
   "execution_count": 27,
   "id": "6c2c5d2f",
   "metadata": {
    "_cell_guid": "f15936ca-fd78-498b-88d8-a2269500623f",
    "_uuid": "e4a6a225-8037-4547-be35-761a3817e9b0",
    "collapsed": false,
    "execution": {
     "iopub.execute_input": "2025-01-10T09:55:40.142081Z",
     "iopub.status.busy": "2025-01-10T09:55:40.141841Z",
     "iopub.status.idle": "2025-01-10T09:55:40.489879Z",
     "shell.execute_reply": "2025-01-10T09:55:40.489227Z"
    },
    "executionInfo": {
     "elapsed": 416,
     "status": "ok",
     "timestamp": 1732227574380,
     "user": {
      "displayName": "Narmada Sahoo",
      "userId": "14973977786916597606"
     },
     "user_tz": -330
    },
    "id": "6txD57vRs7G_",
    "jupyter": {
     "outputs_hidden": false
    },
    "outputId": "62e230e0-96e6-4190-82dc-3f7e9b966bfe",
    "papermill": {
     "duration": 0.363499,
     "end_time": "2025-01-10T09:55:40.491492",
     "exception": false,
     "start_time": "2025-01-10T09:55:40.127993",
     "status": "completed"
    },
    "tags": []
   },
   "outputs": [
    {
     "name": "stderr",
     "output_type": "stream",
     "text": [
      "Some weights of BertForQuestionAnswering were not initialized from the model checkpoint at bert-base-uncased and are newly initialized: ['qa_outputs.bias', 'qa_outputs.weight']\n",
      "You should probably TRAIN this model on a down-stream task to be able to use it for predictions and inference.\n"
     ]
    }
   ],
   "source": [
    "qa_bert = BertForQuestionAnswering.from_pretrained('bert-base-uncased')"
   ]
  },
  {
   "cell_type": "code",
   "execution_count": 28,
   "id": "0076cbee",
   "metadata": {
    "_cell_guid": "9e4bb112-4c43-4a9f-a7e3-b2a5bd830d8f",
    "_uuid": "bee10878-af86-4ce0-bf43-15afdbcfebb8",
    "collapsed": false,
    "execution": {
     "iopub.execute_input": "2025-01-10T09:55:40.519781Z",
     "iopub.status.busy": "2025-01-10T09:55:40.519229Z",
     "iopub.status.idle": "2025-01-10T09:55:40.711031Z",
     "shell.execute_reply": "2025-01-10T09:55:40.710058Z"
    },
    "id": "DhMSjMF8KLvd",
    "jupyter": {
     "outputs_hidden": false
    },
    "papermill": {
     "duration": 0.207955,
     "end_time": "2025-01-10T09:55:40.713048",
     "exception": false,
     "start_time": "2025-01-10T09:55:40.505093",
     "status": "completed"
    },
    "tags": []
   },
   "outputs": [
    {
     "data": {
      "text/plain": [
       "BertForQuestionAnswering(\n",
       "  (bert): BertModel(\n",
       "    (embeddings): BertEmbeddings(\n",
       "      (word_embeddings): Embedding(30522, 768, padding_idx=0)\n",
       "      (position_embeddings): Embedding(512, 768)\n",
       "      (token_type_embeddings): Embedding(2, 768)\n",
       "      (LayerNorm): LayerNorm((768,), eps=1e-12, elementwise_affine=True)\n",
       "      (dropout): Dropout(p=0.1, inplace=False)\n",
       "    )\n",
       "    (encoder): BertEncoder(\n",
       "      (layer): ModuleList(\n",
       "        (0-11): 12 x BertLayer(\n",
       "          (attention): BertAttention(\n",
       "            (self): BertSdpaSelfAttention(\n",
       "              (query): Linear(in_features=768, out_features=768, bias=True)\n",
       "              (key): Linear(in_features=768, out_features=768, bias=True)\n",
       "              (value): Linear(in_features=768, out_features=768, bias=True)\n",
       "              (dropout): Dropout(p=0.1, inplace=False)\n",
       "            )\n",
       "            (output): BertSelfOutput(\n",
       "              (dense): Linear(in_features=768, out_features=768, bias=True)\n",
       "              (LayerNorm): LayerNorm((768,), eps=1e-12, elementwise_affine=True)\n",
       "              (dropout): Dropout(p=0.1, inplace=False)\n",
       "            )\n",
       "          )\n",
       "          (intermediate): BertIntermediate(\n",
       "            (dense): Linear(in_features=768, out_features=3072, bias=True)\n",
       "            (intermediate_act_fn): GELUActivation()\n",
       "          )\n",
       "          (output): BertOutput(\n",
       "            (dense): Linear(in_features=3072, out_features=768, bias=True)\n",
       "            (LayerNorm): LayerNorm((768,), eps=1e-12, elementwise_affine=True)\n",
       "            (dropout): Dropout(p=0.1, inplace=False)\n",
       "          )\n",
       "        )\n",
       "      )\n",
       "    )\n",
       "  )\n",
       "  (qa_outputs): Linear(in_features=768, out_features=2, bias=True)\n",
       ")"
      ]
     },
     "execution_count": 28,
     "metadata": {},
     "output_type": "execute_result"
    }
   ],
   "source": [
    "qa_bert.to(device)"
   ]
  },
  {
   "cell_type": "markdown",
   "id": "595b1501",
   "metadata": {
    "_cell_guid": "29ded34d-b6bf-4beb-a870-e0873181232a",
    "_uuid": "58203d12-da17-4867-8024-767da1828f4e",
    "collapsed": false,
    "jupyter": {
     "outputs_hidden": false
    },
    "papermill": {
     "duration": 0.016536,
     "end_time": "2025-01-10T09:55:40.756622",
     "exception": false,
     "start_time": "2025-01-10T09:55:40.740086",
     "status": "completed"
    },
    "tags": []
   },
   "source": [
    "**QUESTION-ANSWERING-UNIT**"
   ]
  },
  {
   "cell_type": "code",
   "execution_count": 29,
   "id": "d7dba7cf",
   "metadata": {
    "_cell_guid": "9576bda5-2bd9-470d-be03-b46870c8dc78",
    "_uuid": "e6f1839a-e0bd-4ecf-b3c5-af9c039be6a3",
    "collapsed": false,
    "execution": {
     "iopub.execute_input": "2025-01-10T09:55:40.788409Z",
     "iopub.status.busy": "2025-01-10T09:55:40.788091Z",
     "iopub.status.idle": "2025-01-10T09:55:41.017689Z",
     "shell.execute_reply": "2025-01-10T09:55:41.016863Z"
    },
    "executionInfo": {
     "elapsed": 434,
     "status": "ok",
     "timestamp": 1732227575837,
     "user": {
      "displayName": "Narmada Sahoo",
      "userId": "14973977786916597606"
     },
     "user_tz": -330
    },
    "id": "NQ9HN7-lwihd",
    "jupyter": {
     "outputs_hidden": false
    },
    "outputId": "e5af65bf-391a-4ba5-8a36-d80eb550e98c",
    "papermill": {
     "duration": 0.246203,
     "end_time": "2025-01-10T09:55:41.019614",
     "exception": false,
     "start_time": "2025-01-10T09:55:40.773411",
     "status": "completed"
    },
    "tags": []
   },
   "outputs": [
    {
     "data": {
      "application/vnd.jupyter.widget-view+json": {
       "model_id": "a6abee766e1d4b6a9bd0e9f90acee4cf",
       "version_major": 2,
       "version_minor": 0
      },
      "text/plain": [
       "Map:   0%|          | 0/1958 [00:00<?, ? examples/s]"
      ]
     },
     "metadata": {},
     "output_type": "display_data"
    },
    {
     "data": {
      "application/vnd.jupyter.widget-view+json": {
       "model_id": "955290aaae034f97af922387243bfb82",
       "version_major": 2,
       "version_minor": 0
      },
      "text/plain": [
       "Map:   0%|          | 0/245 [00:00<?, ? examples/s]"
      ]
     },
     "metadata": {},
     "output_type": "display_data"
    },
    {
     "data": {
      "application/vnd.jupyter.widget-view+json": {
       "model_id": "fd6b420dd8a3475fad21eb5451d99a2d",
       "version_major": 2,
       "version_minor": 0
      },
      "text/plain": [
       "Map:   0%|          | 0/245 [00:00<?, ? examples/s]"
      ]
     },
     "metadata": {},
     "output_type": "display_data"
    }
   ],
   "source": [
    "# preprocessing here with truncation to truncate longer text\n",
    "\n",
    "def preprocess(data):\n",
    "\n",
    "    return bert_tokenizer(data['question'], data['context'], truncation=True) # anything pass window of 512\n",
    "\n",
    "                                                                              # should be truncated\n",
    "dataset_qa = dataset_qa.map(preprocess, batched=True)"
   ]
  },
  {
   "cell_type": "markdown",
   "id": "7dcb8ac9",
   "metadata": {
    "_cell_guid": "96c58d87-73e6-4ca9-b1bf-9415f2df01a8",
    "_uuid": "580028da-246e-4548-907a-d16126ce3a36",
    "collapsed": false,
    "id": "WtKZWyB7wuoh",
    "jupyter": {
     "outputs_hidden": false
    },
    "papermill": {
     "duration": 0.013542,
     "end_time": "2025-01-10T09:55:41.047425",
     "exception": false,
     "start_time": "2025-01-10T09:55:41.033883",
     "status": "completed"
    },
    "tags": []
   },
   "source": [
    "Freeze BERT's Parameter"
   ]
  },
  {
   "cell_type": "code",
   "execution_count": 30,
   "id": "95e6ae6f",
   "metadata": {
    "_cell_guid": "d08a66c7-0c77-41c3-9295-fe02bc0116c7",
    "_uuid": "35089673-6b97-4e94-b3cd-a541fe0bcd1b",
    "collapsed": false,
    "execution": {
     "iopub.execute_input": "2025-01-10T09:55:41.076198Z",
     "iopub.status.busy": "2025-01-10T09:55:41.075466Z",
     "iopub.status.idle": "2025-01-10T09:55:41.080292Z",
     "shell.execute_reply": "2025-01-10T09:55:41.079620Z"
    },
    "executionInfo": {
     "elapsed": 11,
     "status": "ok",
     "timestamp": 1732227575837,
     "user": {
      "displayName": "Narmada Sahoo",
      "userId": "14973977786916597606"
     },
     "user_tz": -330
    },
    "id": "xwKZP8wYwk--",
    "jupyter": {
     "outputs_hidden": false
    },
    "papermill": {
     "duration": 0.020733,
     "end_time": "2025-01-10T09:55:41.081716",
     "exception": false,
     "start_time": "2025-01-10T09:55:41.060983",
     "status": "completed"
    },
    "tags": []
   },
   "outputs": [],
   "source": [
    "# to speed up training, freeze all but the last 2 encoder layers in BERT\n",
    "\n",
    "for name, param in qa_bert.bert.named_parameters():\n",
    "\n",
    "    if 'encoder.layer.20' in name: # our large model has 24 encoder so everything until last 2 are removed\n",
    "\n",
    "        break\n",
    "\n",
    "    param.requires_grad = False  # disable training in BERT"
   ]
  },
  {
   "cell_type": "code",
   "execution_count": 31,
   "id": "d73db1a0",
   "metadata": {
    "_cell_guid": "d201dcbd-ecd3-4479-b22e-a1f60db04dad",
    "_uuid": "ca701372-bed2-422a-9bd4-f68787a10c78",
    "collapsed": false,
    "execution": {
     "iopub.execute_input": "2025-01-10T09:55:41.111175Z",
     "iopub.status.busy": "2025-01-10T09:55:41.110658Z",
     "iopub.status.idle": "2025-01-10T09:55:41.114649Z",
     "shell.execute_reply": "2025-01-10T09:55:41.113478Z"
    },
    "executionInfo": {
     "elapsed": 11,
     "status": "ok",
     "timestamp": 1732227575838,
     "user": {
      "displayName": "Narmada Sahoo",
      "userId": "14973977786916597606"
     },
     "user_tz": -330
    },
    "id": "U4-pT4jNwrAb",
    "jupyter": {
     "outputs_hidden": false
    },
    "papermill": {
     "duration": 0.02084,
     "end_time": "2025-01-10T09:55:41.116283",
     "exception": false,
     "start_time": "2025-01-10T09:55:41.095443",
     "status": "completed"
    },
    "tags": []
   },
   "outputs": [],
   "source": [
    "# Dynamic padding to speed up training\n",
    "\n",
    "data_collator = DataCollatorWithPadding(tokenizer=bert_tokenizer)"
   ]
  },
  {
   "cell_type": "markdown",
   "id": "dd72503a",
   "metadata": {
    "_cell_guid": "5a3660be-5239-4707-83ea-71525fec6690",
    "_uuid": "de069753-57cb-47a7-8527-6e48d5ed138f",
    "collapsed": false,
    "id": "k8nC_5jewz9w",
    "jupyter": {
     "outputs_hidden": false
    },
    "papermill": {
     "duration": 0.013657,
     "end_time": "2025-01-10T09:55:41.144185",
     "exception": false,
     "start_time": "2025-01-10T09:55:41.130528",
     "status": "completed"
    },
    "tags": []
   },
   "source": [
    "Fine Tuning"
   ]
  },
  {
   "cell_type": "code",
   "execution_count": 32,
   "id": "e4590ce1",
   "metadata": {
    "_cell_guid": "ff97ed45-fd5f-4929-9611-ca8652afce9b",
    "_uuid": "c410c553-d574-45d6-a9e3-599e3d5fca3b",
    "collapsed": false,
    "execution": {
     "iopub.execute_input": "2025-01-10T09:55:41.172768Z",
     "iopub.status.busy": "2025-01-10T09:55:41.172516Z",
     "iopub.status.idle": "2025-01-10T09:55:41.801544Z",
     "shell.execute_reply": "2025-01-10T09:55:41.800732Z"
    },
    "executionInfo": {
     "elapsed": 137593,
     "status": "ok",
     "timestamp": 1732227713421,
     "user": {
      "displayName": "Narmada Sahoo",
      "userId": "14973977786916597606"
     },
     "user_tz": -330
    },
    "id": "vYtHMqHXw2RN",
    "jupyter": {
     "outputs_hidden": false
    },
    "outputId": "50e61d54-232f-4a7b-fdde-ea878bd1deb2",
    "papermill": {
     "duration": 0.645102,
     "end_time": "2025-01-10T09:55:41.803181",
     "exception": false,
     "start_time": "2025-01-10T09:55:41.158079",
     "status": "completed"
    },
    "tags": []
   },
   "outputs": [
    {
     "name": "stderr",
     "output_type": "stream",
     "text": [
      "Using the `WANDB_DISABLED` environment variable is deprecated and will be removed in v5. Use the --report_to flag to control the integrations used for logging result (for instance --report_to none).\n"
     ]
    },
    {
     "data": {
      "text/html": [
       "\n",
       "    <div>\n",
       "      \n",
       "      <progress value='98' max='49' style='width:300px; height:20px; vertical-align: middle;'></progress>\n",
       "      [49/49 00:08]\n",
       "    </div>\n",
       "    "
      ],
      "text/plain": [
       "<IPython.core.display.HTML object>"
      ]
     },
     "metadata": {},
     "output_type": "display_data"
    },
    {
     "data": {
      "text/plain": [
       "{'eval_loss': 3.758636713027954,\n",
       " 'eval_model_preparation_time': 0.0031,\n",
       " 'eval_runtime': 0.583,\n",
       " 'eval_samples_per_second': 420.242,\n",
       " 'eval_steps_per_second': 84.048}"
      ]
     },
     "execution_count": 32,
     "metadata": {},
     "output_type": "execute_result"
    }
   ],
   "source": [
    "batch_size = 5\n",
    "epochs = 20\n",
    "\n",
    "training_args = TrainingArguments(\n",
    "    output_dir='./qsn_anw/results',\n",
    "    num_train_epochs=epochs,\n",
    "    per_device_train_batch_size=batch_size,\n",
    "    per_device_eval_batch_size=batch_size,\n",
    "    logging_dir='./qsn_anw/logs',\n",
    "    save_strategy='epoch',\n",
    "    logging_steps=10,\n",
    "    evaluation_strategy='epoch',\n",
    "    load_best_model_at_end=True\n",
    ")\n",
    "\n",
    "trainer = Trainer(\n",
    "    model=qa_bert, # pretrained BERT\n",
    "    args=training_args,\n",
    "    train_dataset=dataset_qa['train_data'],\n",
    "    eval_dataset=dataset_qa['val_data'],\n",
    "    data_collator=data_collator,\n",
    "    callbacks=[EarlyStoppingCallback(early_stopping_patience=2)]  # Stop training after 2 eval steps with no improvement\n",
    ")\n",
    "\n",
    "\n",
    "\n",
    "# Get initial metrics\n",
    "\n",
    "trainer.evaluate()"
   ]
  },
  {
   "cell_type": "code",
   "execution_count": 33,
   "id": "685444ba",
   "metadata": {
    "_cell_guid": "b2bfe143-9d29-4f68-b34e-b191c1fb6d9e",
    "_uuid": "3aeb48e2-923a-4dba-af5b-20c14e9c8058",
    "collapsed": false,
    "execution": {
     "iopub.execute_input": "2025-01-10T09:55:41.833718Z",
     "iopub.status.busy": "2025-01-10T09:55:41.832978Z",
     "iopub.status.idle": "2025-01-10T09:58:24.788128Z",
     "shell.execute_reply": "2025-01-10T09:58:24.787271Z"
    },
    "executionInfo": {
     "elapsed": 1439318,
     "status": "ok",
     "timestamp": 1732229153356,
     "user": {
      "displayName": "Narmada Sahoo",
      "userId": "14973977786916597606"
     },
     "user_tz": -330
    },
    "id": "SVcdqD07xX4i",
    "jupyter": {
     "outputs_hidden": false
    },
    "outputId": "87aa0fb5-c2bc-416c-af1b-fb233a6fe359",
    "papermill": {
     "duration": 162.972106,
     "end_time": "2025-01-10T09:58:24.789912",
     "exception": false,
     "start_time": "2025-01-10T09:55:41.817806",
     "status": "completed"
    },
    "tags": []
   },
   "outputs": [
    {
     "data": {
      "text/html": [
       "\n",
       "    <div>\n",
       "      \n",
       "      <progress value='7840' max='7840' style='width:300px; height:20px; vertical-align: middle;'></progress>\n",
       "      [7840/7840 02:42, Epoch 20/20]\n",
       "    </div>\n",
       "    <table border=\"1\" class=\"dataframe\">\n",
       "  <thead>\n",
       " <tr style=\"text-align: left;\">\n",
       "      <th>Epoch</th>\n",
       "      <th>Training Loss</th>\n",
       "      <th>Validation Loss</th>\n",
       "      <th>Model Preparation Time</th>\n",
       "    </tr>\n",
       "  </thead>\n",
       "  <tbody>\n",
       "    <tr>\n",
       "      <td>1</td>\n",
       "      <td>2.536900</td>\n",
       "      <td>2.472771</td>\n",
       "      <td>0.003100</td>\n",
       "    </tr>\n",
       "    <tr>\n",
       "      <td>2</td>\n",
       "      <td>1.898900</td>\n",
       "      <td>1.719534</td>\n",
       "      <td>0.003100</td>\n",
       "    </tr>\n",
       "    <tr>\n",
       "      <td>3</td>\n",
       "      <td>1.401400</td>\n",
       "      <td>1.307587</td>\n",
       "      <td>0.003100</td>\n",
       "    </tr>\n",
       "    <tr>\n",
       "      <td>4</td>\n",
       "      <td>1.217000</td>\n",
       "      <td>1.075943</td>\n",
       "      <td>0.003100</td>\n",
       "    </tr>\n",
       "    <tr>\n",
       "      <td>5</td>\n",
       "      <td>1.066600</td>\n",
       "      <td>0.935220</td>\n",
       "      <td>0.003100</td>\n",
       "    </tr>\n",
       "    <tr>\n",
       "      <td>6</td>\n",
       "      <td>0.815300</td>\n",
       "      <td>0.844128</td>\n",
       "      <td>0.003100</td>\n",
       "    </tr>\n",
       "    <tr>\n",
       "      <td>7</td>\n",
       "      <td>0.880800</td>\n",
       "      <td>0.782189</td>\n",
       "      <td>0.003100</td>\n",
       "    </tr>\n",
       "    <tr>\n",
       "      <td>8</td>\n",
       "      <td>0.718300</td>\n",
       "      <td>0.737219</td>\n",
       "      <td>0.003100</td>\n",
       "    </tr>\n",
       "    <tr>\n",
       "      <td>9</td>\n",
       "      <td>0.945100</td>\n",
       "      <td>0.704184</td>\n",
       "      <td>0.003100</td>\n",
       "    </tr>\n",
       "    <tr>\n",
       "      <td>10</td>\n",
       "      <td>0.609200</td>\n",
       "      <td>0.678756</td>\n",
       "      <td>0.003100</td>\n",
       "    </tr>\n",
       "    <tr>\n",
       "      <td>11</td>\n",
       "      <td>0.718300</td>\n",
       "      <td>0.658938</td>\n",
       "      <td>0.003100</td>\n",
       "    </tr>\n",
       "    <tr>\n",
       "      <td>12</td>\n",
       "      <td>0.679400</td>\n",
       "      <td>0.643087</td>\n",
       "      <td>0.003100</td>\n",
       "    </tr>\n",
       "    <tr>\n",
       "      <td>13</td>\n",
       "      <td>0.655100</td>\n",
       "      <td>0.630764</td>\n",
       "      <td>0.003100</td>\n",
       "    </tr>\n",
       "    <tr>\n",
       "      <td>14</td>\n",
       "      <td>0.652300</td>\n",
       "      <td>0.620839</td>\n",
       "      <td>0.003100</td>\n",
       "    </tr>\n",
       "    <tr>\n",
       "      <td>15</td>\n",
       "      <td>0.711800</td>\n",
       "      <td>0.613085</td>\n",
       "      <td>0.003100</td>\n",
       "    </tr>\n",
       "    <tr>\n",
       "      <td>16</td>\n",
       "      <td>0.521800</td>\n",
       "      <td>0.607186</td>\n",
       "      <td>0.003100</td>\n",
       "    </tr>\n",
       "    <tr>\n",
       "      <td>17</td>\n",
       "      <td>0.781200</td>\n",
       "      <td>0.602685</td>\n",
       "      <td>0.003100</td>\n",
       "    </tr>\n",
       "    <tr>\n",
       "      <td>18</td>\n",
       "      <td>0.718200</td>\n",
       "      <td>0.599644</td>\n",
       "      <td>0.003100</td>\n",
       "    </tr>\n",
       "    <tr>\n",
       "      <td>19</td>\n",
       "      <td>0.629500</td>\n",
       "      <td>0.597794</td>\n",
       "      <td>0.003100</td>\n",
       "    </tr>\n",
       "    <tr>\n",
       "      <td>20</td>\n",
       "      <td>0.628700</td>\n",
       "      <td>0.597200</td>\n",
       "      <td>0.003100</td>\n",
       "    </tr>\n",
       "  </tbody>\n",
       "</table><p>"
      ],
      "text/plain": [
       "<IPython.core.display.HTML object>"
      ]
     },
     "metadata": {},
     "output_type": "display_data"
    },
    {
     "data": {
      "text/plain": [
       "TrainOutput(global_step=7840, training_loss=1.016774168610573, metrics={'train_runtime': 162.5168, 'train_samples_per_second': 240.96, 'train_steps_per_second': 48.241, 'total_flos': 734694521264484.0, 'train_loss': 1.016774168610573, 'epoch': 20.0})"
      ]
     },
     "execution_count": 33,
     "metadata": {},
     "output_type": "execute_result"
    }
   ],
   "source": [
    "trainer.train()"
   ]
  },
  {
   "cell_type": "code",
   "execution_count": 34,
   "id": "37145bd4",
   "metadata": {
    "_cell_guid": "a4059fca-aaa3-45ae-aff5-14fe0a6269cf",
    "_uuid": "6130a526-840a-46a3-b67e-58e4d2832169",
    "collapsed": false,
    "execution": {
     "iopub.execute_input": "2025-01-10T09:58:24.827776Z",
     "iopub.status.busy": "2025-01-10T09:58:24.827416Z",
     "iopub.status.idle": "2025-01-10T09:58:24.833431Z",
     "shell.execute_reply": "2025-01-10T09:58:24.832642Z"
    },
    "jupyter": {
     "outputs_hidden": false
    },
    "papermill": {
     "duration": 0.023366,
     "end_time": "2025-01-10T09:58:24.835116",
     "exception": false,
     "start_time": "2025-01-10T09:58:24.811750",
     "status": "completed"
    },
    "tags": []
   },
   "outputs": [],
   "source": [
    "epochs = [1, 2, 3, 4, 5, 6, 7, 8, 9, 10, 11, 12, 13, 14, 15, 16, 17, 18, 19, 20]\n",
    "\n",
    "training_losses = [\n",
    "    2.518300, 2.122600, 1.575000, 1.296300, 1.323400, 1.062000, 1.094800,\n",
    "    0.985000, 1.002900, 0.801900, 0.980700, 0.816100, 0.744500, 0.793500,\n",
    "    0.870100, 0.797300, 0.861200, 0.854900, 0.775300, 0.783500\n",
    "]\n",
    "\n",
    "validation_losses = [\n",
    "    2.444236, 1.856344, 1.507815, 1.286834, 1.139749, 1.037776, 0.961717,\n",
    "    0.905212, 0.862946, 0.828748, 0.800936, 0.779642, 0.763247, 0.749343,\n",
    "    0.737656, 0.729281, 0.722626, 0.717947, 0.715428, 0.714611\n",
    "]\n",
    "\n",
    "accuracy = [\n",
    "    # You can calculate the accuracy for each epoch based on your model's performance.\n",
    "    # Example (values are placeholders):\n",
    "    0.68, 0.72, 0.75, 0.78, 0.80, 0.83, 0.84, 0.85, 0.86, 0.87, 0.88, 0.89, \n",
    "    0.90, 0.91, 0.92, 0.93, 0.94, 0.95, 0.96, 0.97\n",
    "]"
   ]
  },
  {
   "cell_type": "code",
   "execution_count": 35,
   "id": "bb6a1a1b",
   "metadata": {
    "_cell_guid": "ed530caa-3922-41c5-a25b-33608265d454",
    "_uuid": "291fe747-33fc-4b29-9536-d67ec5578571",
    "collapsed": false,
    "execution": {
     "iopub.execute_input": "2025-01-10T09:58:24.867004Z",
     "iopub.status.busy": "2025-01-10T09:58:24.866420Z",
     "iopub.status.idle": "2025-01-10T09:58:25.299648Z",
     "shell.execute_reply": "2025-01-10T09:58:25.298662Z"
    },
    "jupyter": {
     "outputs_hidden": false
    },
    "papermill": {
     "duration": 0.451637,
     "end_time": "2025-01-10T09:58:25.301440",
     "exception": false,
     "start_time": "2025-01-10T09:58:24.849803",
     "status": "completed"
    },
    "tags": []
   },
   "outputs": [
    {
     "data": {
      "image/png": "[encoded data removed]",
      "text/plain": [
       "<Figure size 2000x800 with 1 Axes>"
      ]
     },
     "metadata": {},
     "output_type": "display_data"
    }
   ],
   "source": [
    "import matplotlib.pyplot as plt\n",
    "epochs=20\n",
    "# Plot training loss and accuracy\n",
    "plt.figure(figsize=(20, 8))\n",
    "\n",
    "# Training Loss\n",
    "plt.subplot(1, 2, 1)\n",
    "plt.plot(range(1, epochs + 1), training_losses, label=\"Training Loss\", color='blue', marker='o')\n",
    "plt.plot(range(1, epochs + 1), validation_losses, label=\"Validation Loss\", color='orange', marker='o')\n",
    "plt.xlabel('Epochs')\n",
    "plt.ylabel('Loss')\n",
    "plt.title('Train and Validation Losses for BertForQuestionAnswering')\n",
    "plt.legend()\n",
    "\n",
    "\n",
    "plt.tight_layout()\n",
    "plt.show()"
   ]
  },
  {
   "cell_type": "code",
   "execution_count": 36,
   "id": "1ea77c21",
   "metadata": {
    "_cell_guid": "01557ac6-02be-4e0e-9299-1b4d83b5af8a",
    "_uuid": "097d1b80-dd92-4c2e-add6-157b150c637f",
    "collapsed": false,
    "execution": {
     "iopub.execute_input": "2025-01-10T09:58:25.378200Z",
     "iopub.status.busy": "2025-01-10T09:58:25.377388Z",
     "iopub.status.idle": "2025-01-10T09:58:26.418050Z",
     "shell.execute_reply": "2025-01-10T09:58:26.417136Z"
    },
    "jupyter": {
     "outputs_hidden": false
    },
    "papermill": {
     "duration": 1.059705,
     "end_time": "2025-01-10T09:58:26.419885",
     "exception": false,
     "start_time": "2025-01-10T09:58:25.360180",
     "status": "completed"
    },
    "tags": []
   },
   "outputs": [
    {
     "name": "stdout",
     "output_type": "stream",
     "text": [
      "Model and tokenizer saved in: ./question_answering\n"
     ]
    }
   ],
   "source": [
    "\n",
    "import os\n",
    "\n",
    "# Create a directory for saving the model\n",
    "save_directory = './question_answering'\n",
    "os.makedirs(save_directory, exist_ok=True)\n",
    "\n",
    "# Save the model and tokenizer\n",
    "trainer.save_model(save_directory)  # Saves the model, config, and tokenizer\n",
    "bert_tokenizer.save_pretrained(save_directory)  # Saves the tokenizer\n",
    "\n",
    "print(f\"Model and tokenizer saved in: {save_directory}\")"
   ]
  },
  {
   "cell_type": "code",
   "execution_count": 37,
   "id": "419d7ab1",
   "metadata": {
    "_cell_guid": "f697d50d-530d-4a0e-8bb5-f6784a11eb6f",
    "_uuid": "cc498a2c-fdc8-48e5-b8c0-8cf5bd49cd0b",
    "collapsed": false,
    "execution": {
     "iopub.execute_input": "2025-01-10T09:58:26.454520Z",
     "iopub.status.busy": "2025-01-10T09:58:26.454196Z",
     "iopub.status.idle": "2025-01-10T09:58:30.138166Z",
     "shell.execute_reply": "2025-01-10T09:58:30.137201Z"
    },
    "jupyter": {
     "outputs_hidden": false
    },
    "papermill": {
     "duration": 3.704007,
     "end_time": "2025-01-10T09:58:30.139935",
     "exception": false,
     "start_time": "2025-01-10T09:58:26.435928",
     "status": "completed"
    },
    "tags": []
   },
   "outputs": [
    {
     "data": {
      "application/vnd.jupyter.widget-view+json": {
       "model_id": "e9434df3af9d46d1b20e3307ecb5cec0",
       "version_major": 2,
       "version_minor": 0
      },
      "text/plain": [
       "Downloading builder script:   0%|          | 0.00/6.47k [00:00<?, ?B/s]"
      ]
     },
     "metadata": {},
     "output_type": "display_data"
    },
    {
     "data": {
      "application/vnd.jupyter.widget-view+json": {
       "model_id": "8ac8e1706bca4c49860b872034b4854c",
       "version_major": 2,
       "version_minor": 0
      },
      "text/plain": [
       "Downloading extra modules:   0%|          | 0.00/11.3k [00:00<?, ?B/s]"
      ]
     },
     "metadata": {},
     "output_type": "display_data"
    },
    {
     "name": "stderr",
     "output_type": "stream",
     "text": [
      "You seem to be using the pipelines sequentially on GPU. In order to maximize efficiency please use a dataset\n"
     ]
    },
    {
     "name": "stdout",
     "output_type": "stream",
     "text": [
      "Exact Match: 67.76\n",
      "F1 Score: 86.78\n"
     ]
    }
   ],
   "source": [
    "from transformers import pipeline\n",
    "from evaluate import load\n",
    "import re\n",
    "\n",
    "# Load SQuAD v2 evaluation metric\n",
    "squad_metric = load(\"squad_v2\")\n",
    "\n",
    "# Load the QA model and tokenizer\n",
    "qa_model_path = \"./question_answering\"\n",
    "qa_pipeline = pipeline(\"question-answering\", model=qa_model_path, tokenizer=qa_model_path, device=0)\n",
    "\n",
    "test_data=dataset_qa['test_data']\n",
    "\n",
    "# Helper function to normalize text\n",
    "def normalize_text(text):\n",
    "    text = text.lower()\n",
    "    text = re.sub(r'\\b(a|an|the)\\b', ' ', text)  # Remove articles\n",
    "    text = re.sub(r'[^a-z0-9]', ' ', text)  # Remove punctuation\n",
    "    text = re.sub(r'\\s+', ' ', text).strip()  # Remove extra spaces\n",
    "    return text\n",
    "\n",
    "# Prepare predictions and references\n",
    "predictions = []\n",
    "references = []\n",
    "\n",
    "# Assume `test_data` is a list of dictionaries with keys: \"context\", \"question\", and \"answer\"\n",
    "for idx, data in enumerate(test_data):\n",
    "    # Perform QA\n",
    "    qa_result = qa_pipeline({\"context\": data[\"context\"], \"question\": data[\"question\"]})\n",
    "    \n",
    "     # Normalize predicted and actual answers\n",
    "    predictions.append({\n",
    "        \"id\": str(len(predictions)),\n",
    "        \"prediction_text\": normalize_text(qa_result[\"answer\"]),\n",
    "        \"no_answer_probability\": 0.0  # Assuming all questions have answers\n",
    "    })\n",
    "    references.append({\n",
    "        \"id\": str(len(references)),\n",
    "        \"answers\": {\"text\": [normalize_text(data[\"answer\"])],\n",
    "                    \"answer_start\": [0]}\n",
    "    })\n",
    "\n",
    "# Compute metrics\n",
    "results = squad_metric.compute(predictions=predictions, references=references)\n",
    "\n",
    "# # Print results\n",
    "print(f\"Exact Match: {results['exact']:.2f}\")\n",
    "print(f\"F1 Score: {results['f1']:.2f}\")"
   ]
  },
  {
   "cell_type": "code",
   "execution_count": 38,
   "id": "33627b4a",
   "metadata": {
    "_cell_guid": "b81d107b-434f-4d0e-9360-405644e3eb7d",
    "_uuid": "64da6ecd-e0af-4b25-8b90-15703e276fc8",
    "collapsed": false,
    "execution": {
     "iopub.execute_input": "2025-01-10T09:58:30.173895Z",
     "iopub.status.busy": "2025-01-10T09:58:30.173554Z",
     "iopub.status.idle": "2025-01-10T09:58:30.179054Z",
     "shell.execute_reply": "2025-01-10T09:58:30.178267Z"
    },
    "jupyter": {
     "outputs_hidden": false
    },
    "papermill": {
     "duration": 0.024288,
     "end_time": "2025-01-10T09:58:30.180771",
     "exception": false,
     "start_time": "2025-01-10T09:58:30.156483",
     "status": "completed"
    },
    "tags": []
   },
   "outputs": [
    {
     "data": {
      "text/plain": [
       "{'exact': 67.75510204081633,\n",
       " 'f1': 86.7792715793992,\n",
       " 'total': 245,\n",
       " 'HasAns_exact': 67.75510204081633,\n",
       " 'HasAns_f1': 86.7792715793992,\n",
       " 'HasAns_total': 245,\n",
       " 'best_exact': 67.75510204081633,\n",
       " 'best_exact_thresh': 0.0,\n",
       " 'best_f1': 86.7792715793992,\n",
       " 'best_f1_thresh': 0.0}"
      ]
     },
     "execution_count": 38,
     "metadata": {},
     "output_type": "execute_result"
    }
   ],
   "source": [
    "results"
   ]
  },
  {
   "cell_type": "code",
   "execution_count": null,
   "id": "e6791c50",
   "metadata": {
    "_cell_guid": "921b4875-2940-4635-9036-f686504f2745",
    "_uuid": "beaefdf4-6826-4e1b-a112-1b394936ca65",
    "collapsed": false,
    "jupyter": {
     "outputs_hidden": false
    },
    "papermill": {
     "duration": 0.021136,
     "end_time": "2025-01-10T09:58:30.244475",
     "exception": false,
     "start_time": "2025-01-10T09:58:30.223339",
     "status": "completed"
    },
    "tags": []
   },
   "outputs": [],
   "source": []
  }
 ],
 "metadata": {
  "accelerator": "GPU",
  "colab": {
   "authorship_tag": "ABX9TyPdWzGxNqakeCjas/6qzs8v",
   "gpuType": "T4",
   "provenance": []
  },
  "kaggle": {
   "accelerator": "gpu",
   "dataSources": [
    {
     "sourceId": 216936306,
     "sourceType": "kernelVersion"
    }
   ],
   "dockerImageVersionId": 30787,
   "isGpuEnabled": true,
   "isInternetEnabled": true,
   "language": "python",
   "sourceType": "notebook"
  },
  "kernelspec": {
   "display_name": "Python 3",
   "language": "python",
   "name": "python3"
  },
  "language_info": {
   "codemirror_mode": {
    "name": "ipython",
    "version": 3
   },
   "file_extension": ".py",
   "mimetype": "text/x-python",
   "name": "python",
   "nbconvert_exporter": "python",
   "pygments_lexer": "ipython3",
   "version": "3.10.14"
  },
  "papermill": {
   "default_parameters": {},
   "duration": 1181.1417,
   "end_time": "2025-01-10T09:58:33.681815",
   "environment_variables": {},
   "exception": null,
   "input_path": "__notebook__.ipynb",
   "output_path": "__notebook__.ipynb",
   "parameters": {},
   "start_time": "2025-01-10T09:38:52.540115",
   "version": "2.6.0"
  },
  "widgets": {
   "application/vnd.jupyter.widget-state+json": {
    "state": {
     "035e31e6539f4e87b7c6aa000a2f9342": {
      "model_module": "@jupyter-widgets/controls",
      "model_module_version": "1.5.0",
      "model_name": "HTMLModel",
      "state": {
       "_dom_classes": [],
       "_model_module": "@jupyter-widgets/controls",
       "_model_module_version": "1.5.0",
       "_model_name": "HTMLModel",
       "_view_count": null,
       "_view_module": "@jupyter-widgets/controls",
       "_view_module_version": "1.5.0",
       "_view_name": "HTMLView",
       "description": "",
       "description_tooltip": null,
       "layout": "IPY_MODEL_a0090e28d56b44109a54bae21664fef8",
       "placeholder": "​",
       "style": "IPY_MODEL_3bd5fa568fec47d39e9dd0d5bcc16368",
       "value": "Map: 100%"
      }
     },
     "03a5250d02e54532b3b0dbf783da9c95": {
      "model_module": "@jupyter-widgets/controls",
      "model_module_version": "1.5.0",
      "model_name": "DescriptionStyleModel",
      "state": {
       "_model_module": "@jupyter-widgets/controls",
       "_model_module_version": "1.5.0",
       "_model_name": "DescriptionStyleModel",
       "_view_count": null,
       "_view_module": "@jupyter-widgets/base",
       "_view_module_version": "1.2.0",
       "_view_name": "StyleView",
       "description_width": ""
      }
     },
     "04cd0a181ff745b28080d3daf090fd36": {
      "model_module": "@jupyter-widgets/controls",
      "model_module_version": "1.5.0",
      "model_name": "HTMLModel",
      "state": {
       "_dom_classes": [],
       "_model_module": "@jupyter-widgets/controls",
       "_model_module_version": "1.5.0",
       "_model_name": "HTMLModel",
       "_view_count": null,
       "_view_module": "@jupyter-widgets/controls",
       "_view_module_version": "1.5.0",
       "_view_name": "HTMLView",
       "description": "",
       "description_tooltip": null,
       "layout": "IPY_MODEL_7d387b65808c474397aa287484a18148",
       "placeholder": "​",
       "style": "IPY_MODEL_9165cba23bd64ce9aa30705ad853a9d8",
       "value": "Map: 100%"
      }
     },
     "0591ad7022c54f809a3af3b7ddb2c7f6": {
      "model_module": "@jupyter-widgets/controls",
      "model_module_version": "1.5.0",
      "model_name": "DescriptionStyleModel",
      "state": {
       "_model_module": "@jupyter-widgets/controls",
       "_model_module_version": "1.5.0",
       "_model_name": "DescriptionStyleModel",
       "_view_count": null,
       "_view_module": "@jupyter-widgets/base",
       "_view_module_version": "1.2.0",
       "_view_name": "StyleView",
       "description_width": ""
      }
     },
     "099abfa8ef1f44d7b27514ed6eff1d11": {
      "model_module": "@jupyter-widgets/controls",
      "model_module_version": "1.5.0",
      "model_name": "DescriptionStyleModel",
      "state": {
       "_model_module": "@jupyter-widgets/controls",
       "_model_module_version": "1.5.0",
       "_model_name": "DescriptionStyleModel",
       "_view_count": null,
       "_view_module": "@jupyter-widgets/base",
       "_view_module_version": "1.2.0",
       "_view_name": "StyleView",
       "description_width": ""
      }
     },
     "0a7429ded0c74c9fac51a924732a41b4": {
      "model_module": "@jupyter-widgets/controls",
      "model_module_version": "1.5.0",
      "model_name": "ProgressStyleModel",
      "state": {
       "_model_module": "@jupyter-widgets/controls",
       "_model_module_version": "1.5.0",
       "_model_name": "ProgressStyleModel",
       "_view_count": null,
       "_view_module": "@jupyter-widgets/base",
       "_view_module_version": "1.2.0",
       "_view_name": "StyleView",
       "bar_color": null,
       "description_width": ""
      }
     },
     "0f63a829a596478e88c5ee27bc6a7b7a": {
      "model_module": "@jupyter-widgets/controls",
      "model_module_version": "1.5.0",
      "model_name": "DescriptionStyleModel",
      "state": {
       "_model_module": "@jupyter-widgets/controls",
       "_model_module_version": "1.5.0",
       "_model_name": "DescriptionStyleModel",
       "_view_count": null,
       "_view_module": "@jupyter-widgets/base",
       "_view_module_version": "1.2.0",
       "_view_name": "StyleView",
       "description_width": ""
      }
     },
     "11c4321aac04419abd9c86b564a91b15": {
      "model_module": "@jupyter-widgets/controls",
      "model_module_version": "1.5.0",
      "model_name": "DescriptionStyleModel",
      "state": {
       "_model_module": "@jupyter-widgets/controls",
       "_model_module_version": "1.5.0",
       "_model_name": "DescriptionStyleModel",
       "_view_count": null,
       "_view_module": "@jupyter-widgets/base",
       "_view_module_version": "1.2.0",
       "_view_name": "StyleView",
       "description_width": ""
      }
     },
     "12d34401384e4481ac874ad859f28fdd": {
      "model_module": "@jupyter-widgets/controls",
      "model_module_version": "1.5.0",
      "model_name": "ProgressStyleModel",
      "state": {
       "_model_module": "@jupyter-widgets/controls",
       "_model_module_version": "1.5.0",
       "_model_name": "ProgressStyleModel",
       "_view_count": null,
       "_view_module": "@jupyter-widgets/base",
       "_view_module_version": "1.2.0",
       "_view_name": "StyleView",
       "bar_color": null,
       "description_width": ""
      }
     },
     "141dc762a5cb4d7d8d0271d8b5d97c6f": {
      "model_module": "@jupyter-widgets/controls",
      "model_module_version": "1.5.0",
      "model_name": "HBoxModel",
      "state": {
       "_dom_classes": [],
       "_model_module": "@jupyter-widgets/controls",
       "_model_module_version": "1.5.0",
       "_model_name": "HBoxModel",
       "_view_count": null,
       "_view_module": "@jupyter-widgets/controls",
       "_view_module_version": "1.5.0",
       "_view_name": "HBoxView",
       "box_style": "",
       "children": [
        "IPY_MODEL_c8c90e9822d54afba2defa56cd9c6a69",
        "IPY_MODEL_a7450b628bc6495d87caec5b91646815",
        "IPY_MODEL_9fdd876bac7643e6bb4b1cbd0a7cbd0d"
       ],
       "layout": "IPY_MODEL_2a8bb5a1020446d59df7be9b8d9614df"
      }
     },
     "16043afb84d641dd985dff7c8f60dfe2": {
      "model_module": "@jupyter-widgets/controls",
      "model_module_version": "1.5.0",
      "model_name": "HBoxModel",
      "state": {
       "_dom_classes": [],
       "_model_module": "@jupyter-widgets/controls",
       "_model_module_version": "1.5.0",
       "_model_name": "HBoxModel",
       "_view_count": null,
       "_view_module": "@jupyter-widgets/controls",
       "_view_module_version": "1.5.0",
       "_view_name": "HBoxView",
       "box_style": "",
       "children": [
        "IPY_MODEL_94edfe21128b46418364d136aa494b81",
        "IPY_MODEL_6153d3a095fc401b875230d33466a701",
        "IPY_MODEL_26befe9365004fbf809c0e975e442578"
       ],
       "layout": "IPY_MODEL_28950bceba5d46d38fdccf68fcca0d36"
      }
     },
     "185b783a2c014f4380de9b0dbb795b79": {
      "model_module": "@jupyter-widgets/base",
      "model_module_version": "1.2.0",
      "model_name": "LayoutModel",
      "state": {
       "_model_module": "@jupyter-widgets/base",
       "_model_module_version": "1.2.0",
       "_model_name": "LayoutModel",
       "_view_count": null,
       "_view_module": "@jupyter-widgets/base",
       "_view_module_version": "1.2.0",
       "_view_name": "LayoutView",
       "align_content": null,
       "align_items": null,
       "align_self": null,
       "border": null,
       "bottom": null,
       "display": null,
       "flex": null,
       "flex_flow": null,
       "grid_area": null,
       "grid_auto_columns": null,
       "grid_auto_flow": null,
       "grid_auto_rows": null,
       "grid_column": null,
       "grid_gap": null,
       "grid_row": null,
       "grid_template_areas": null,
       "grid_template_columns": null,
       "grid_template_rows": null,
       "height": null,
       "justify_content": null,
       "justify_items": null,
       "left": null,
       "margin": null,
       "max_height": null,
       "max_width": null,
       "min_height": null,
       "min_width": null,
       "object_fit": null,
       "object_position": null,
       "order": null,
       "overflow": null,
       "overflow_x": null,
       "overflow_y": null,
       "padding": null,
       "right": null,
       "top": null,
       "visibility": null,
       "width": null
      }
     },
     "18fd0879f6754f3c9e54768fcfa6baf6": {
      "model_module": "@jupyter-widgets/controls",
      "model_module_version": "1.5.0",
      "model_name": "HTMLModel",
      "state": {
       "_dom_classes": [],
       "_model_module": "@jupyter-widgets/controls",
       "_model_module_version": "1.5.0",
       "_model_name": "HTMLModel",
       "_view_count": null,
       "_view_module": "@jupyter-widgets/controls",
       "_view_module_version": "1.5.0",
       "_view_name": "HTMLView",
       "description": "",
       "description_tooltip": null,
       "layout": "IPY_MODEL_ef38eb9296f24165bda1da99182a2d62",
       "placeholder": "​",
       "style": "IPY_MODEL_7a3f2f23477346148cb122eb6253ec94",
       "value": " 11.3k/11.3k [00:00&lt;00:00, 1.08MB/s]"
      }
     },
     "1a3ec44e6166412bb0bac72f73754002": {
      "model_module": "@jupyter-widgets/controls",
      "model_module_version": "1.5.0",
      "model_name": "ProgressStyleModel",
      "state": {
       "_model_module": "@jupyter-widgets/controls",
       "_model_module_version": "1.5.0",
       "_model_name": "ProgressStyleModel",
       "_view_count": null,
       "_view_module": "@jupyter-widgets/base",
       "_view_module_version": "1.2.0",
       "_view_name": "StyleView",
       "bar_color": null,
       "description_width": ""
      }
     },
     "1ce5cc56f29048b5abeb9d28288ce498": {
      "model_module": "@jupyter-widgets/controls",
      "model_module_version": "1.5.0",
      "model_name": "ProgressStyleModel",
      "state": {
       "_model_module": "@jupyter-widgets/controls",
       "_model_module_version": "1.5.0",
       "_model_name": "ProgressStyleModel",
       "_view_count": null,
       "_view_module": "@jupyter-widgets/base",
       "_view_module_version": "1.2.0",
       "_view_name": "StyleView",
       "bar_color": null,
       "description_width": ""
      }
     },
     "1f719fbbb48144b196b527f59686fc6d": {
      "model_module": "@jupyter-widgets/controls",
      "model_module_version": "1.5.0",
      "model_name": "HTMLModel",
      "state": {
       "_dom_classes": [],
       "_model_module": "@jupyter-widgets/controls",
       "_model_module_version": "1.5.0",
       "_model_name": "HTMLModel",
       "_view_count": null,
       "_view_module": "@jupyter-widgets/controls",
       "_view_module_version": "1.5.0",
       "_view_name": "HTMLView",
       "description": "",
       "description_tooltip": null,
       "layout": "IPY_MODEL_48fdf4d268be47f0a3e4296d584c3773",
       "placeholder": "​",
       "style": "IPY_MODEL_60144bbe14244123a34d68a650695709",
       "value": " 245/245 [00:00&lt;00:00, 7879.80 examples/s]"
      }
     },
     "20687e07135d42e59b56422cf31c1cac": {
      "model_module": "@jupyter-widgets/controls",
      "model_module_version": "1.5.0",
      "model_name": "ProgressStyleModel",
      "state": {
       "_model_module": "@jupyter-widgets/controls",
       "_model_module_version": "1.5.0",
       "_model_name": "ProgressStyleModel",
       "_view_count": null,
       "_view_module": "@jupyter-widgets/base",
       "_view_module_version": "1.2.0",
       "_view_name": "StyleView",
       "bar_color": null,
       "description_width": ""
      }
     },
     "254957044866480ca29d67ad21465fcb": {
      "model_module": "@jupyter-widgets/controls",
      "model_module_version": "1.5.0",
      "model_name": "DescriptionStyleModel",
      "state": {
       "_model_module": "@jupyter-widgets/controls",
       "_model_module_version": "1.5.0",
       "_model_name": "DescriptionStyleModel",
       "_view_count": null,
       "_view_module": "@jupyter-widgets/base",
       "_view_module_version": "1.2.0",
       "_view_name": "StyleView",
       "description_width": ""
      }
     },
     "264d5e63d0c846f1acc24e391e93fb56": {
      "model_module": "@jupyter-widgets/controls",
      "model_module_version": "1.5.0",
      "model_name": "DescriptionStyleModel",
      "state": {
       "_model_module": "@jupyter-widgets/controls",
       "_model_module_version": "1.5.0",
       "_model_name": "DescriptionStyleModel",
       "_view_count": null,
       "_view_module": "@jupyter-widgets/base",
       "_view_module_version": "1.2.0",
       "_view_name": "StyleView",
       "description_width": ""
      }
     },
     "26befe9365004fbf809c0e975e442578": {
      "model_module": "@jupyter-widgets/controls",
      "model_module_version": "1.5.0",
      "model_name": "HTMLModel",
      "state": {
       "_dom_classes": [],
       "_model_module": "@jupyter-widgets/controls",
       "_model_module_version": "1.5.0",
       "_model_name": "HTMLModel",
       "_view_count": null,
       "_view_module": "@jupyter-widgets/controls",
       "_view_module_version": "1.5.0",
       "_view_name": "HTMLView",
       "description": "",
       "description_tooltip": null,
       "layout": "IPY_MODEL_d3eb6606451e4be7af834c27b0a0c4b3",
       "placeholder": "​",
       "style": "IPY_MODEL_3e8dd139364c4f828ec3f12ee2c71fdb",
       "value": " 4.20k/4.20k [00:00&lt;00:00, 413kB/s]"
      }
     },
     "26dc4da56bf74c5da145e2cfd2efd6d6": {
      "model_module": "@jupyter-widgets/base",
      "model_module_version": "1.2.0",
      "model_name": "LayoutModel",
      "state": {
       "_model_module": "@jupyter-widgets/base",
       "_model_module_version": "1.2.0",
       "_model_name": "LayoutModel",
       "_view_count": null,
       "_view_module": "@jupyter-widgets/base",
       "_view_module_version": "1.2.0",
       "_view_name": "LayoutView",
       "align_content": null,
       "align_items": null,
       "align_self": null,
       "border": null,
       "bottom": null,
       "display": null,
       "flex": null,
       "flex_flow": null,
       "grid_area": null,
       "grid_auto_columns": null,
       "grid_auto_flow": null,
       "grid_auto_rows": null,
       "grid_column": null,
       "grid_gap": null,
       "grid_row": null,
       "grid_template_areas": null,
       "grid_template_columns": null,
       "grid_template_rows": null,
       "height": null,
       "justify_content": null,
       "justify_items": null,
       "left": null,
       "margin": null,
       "max_height": null,
       "max_width": null,
       "min_height": null,
       "min_width": null,
       "object_fit": null,
       "object_position": null,
       "order": null,
       "overflow": null,
       "overflow_x": null,
       "overflow_y": null,
       "padding": null,
       "right": null,
       "top": null,
       "visibility": null,
       "width": null
      }
     },
     "28950bceba5d46d38fdccf68fcca0d36": {
      "model_module": "@jupyter-widgets/base",
      "model_module_version": "1.2.0",
      "model_name": "LayoutModel",
      "state": {
       "_model_module": "@jupyter-widgets/base",
       "_model_module_version": "1.2.0",
       "_model_name": "LayoutModel",
       "_view_count": null,
       "_view_module": "@jupyter-widgets/base",
       "_view_module_version": "1.2.0",
       "_view_name": "LayoutView",
       "align_content": null,
       "align_items": null,
       "align_self": null,
       "border": null,
       "bottom": null,
       "display": null,
       "flex": null,
       "flex_flow": null,
       "grid_area": null,
       "grid_auto_columns": null,
       "grid_auto_flow": null,
       "grid_auto_rows": null,
       "grid_column": null,
       "grid_gap": null,
       "grid_row": null,
       "grid_template_areas": null,
       "grid_template_columns": null,
       "grid_template_rows": null,
       "height": null,
       "justify_content": null,
       "justify_items": null,
       "left": null,
       "margin": null,
       "max_height": null,
       "max_width": null,
       "min_height": null,
       "min_width": null,
       "object_fit": null,
       "object_position": null,
       "order": null,
       "overflow": null,
       "overflow_x": null,
       "overflow_y": null,
       "padding": null,
       "right": null,
       "top": null,
       "visibility": null,
       "width": null
      }
     },
     "28b24a963b624aebbd6bdc7e8f4b1ac8": {
      "model_module": "@jupyter-widgets/base",
      "model_module_version": "1.2.0",
      "model_name": "LayoutModel",
      "state": {
       "_model_module": "@jupyter-widgets/base",
       "_model_module_version": "1.2.0",
       "_model_name": "LayoutModel",
       "_view_count": null,
       "_view_module": "@jupyter-widgets/base",
       "_view_module_version": "1.2.0",
       "_view_name": "LayoutView",
       "align_content": null,
       "align_items": null,
       "align_self": null,
       "border": null,
       "bottom": null,
       "display": null,
       "flex": null,
       "flex_flow": null,
       "grid_area": null,
       "grid_auto_columns": null,
       "grid_auto_flow": null,
       "grid_auto_rows": null,
       "grid_column": null,
       "grid_gap": null,
       "grid_row": null,
       "grid_template_areas": null,
       "grid_template_columns": null,
       "grid_template_rows": null,
       "height": null,
       "justify_content": null,
       "justify_items": null,
       "left": null,
       "margin": null,
       "max_height": null,
       "max_width": null,
       "min_height": null,
       "min_width": null,
       "object_fit": null,
       "object_position": null,
       "order": null,
       "overflow": null,
       "overflow_x": null,
       "overflow_y": null,
       "padding": null,
       "right": null,
       "top": null,
       "visibility": null,
       "width": null
      }
     },
     "2a8bb5a1020446d59df7be9b8d9614df": {
      "model_module": "@jupyter-widgets/base",
      "model_module_version": "1.2.0",
      "model_name": "LayoutModel",
      "state": {
       "_model_module": "@jupyter-widgets/base",
       "_model_module_version": "1.2.0",
       "_model_name": "LayoutModel",
       "_view_count": null,
       "_view_module": "@jupyter-widgets/base",
       "_view_module_version": "1.2.0",
       "_view_name": "LayoutView",
       "align_content": null,
       "align_items": null,
       "align_self": null,
       "border": null,
       "bottom": null,
       "display": null,
       "flex": null,
       "flex_flow": null,
       "grid_area": null,
       "grid_auto_columns": null,
       "grid_auto_flow": null,
       "grid_auto_rows": null,
       "grid_column": null,
       "grid_gap": null,
       "grid_row": null,
       "grid_template_areas": null,
       "grid_template_columns": null,
       "grid_template_rows": null,
       "height": null,
       "justify_content": null,
       "justify_items": null,
       "left": null,
       "margin": null,
       "max_height": null,
       "max_width": null,
       "min_height": null,
       "min_width": null,
       "object_fit": null,
       "object_position": null,
       "order": null,
       "overflow": null,
       "overflow_x": null,
       "overflow_y": null,
       "padding": null,
       "right": null,
       "top": null,
       "visibility": null,
       "width": null
      }
     },
     "2b8fe1b858fe4d2a9b18154083e91ed4": {
      "model_module": "@jupyter-widgets/base",
      "model_module_version": "1.2.0",
      "model_name": "LayoutModel",
      "state": {
       "_model_module": "@jupyter-widgets/base",
       "_model_module_version": "1.2.0",
       "_model_name": "LayoutModel",
       "_view_count": null,
       "_view_module": "@jupyter-widgets/base",
       "_view_module_version": "1.2.0",
       "_view_name": "LayoutView",
       "align_content": null,
       "align_items": null,
       "align_self": null,
       "border": null,
       "bottom": null,
       "display": null,
       "flex": null,
       "flex_flow": null,
       "grid_area": null,
       "grid_auto_columns": null,
       "grid_auto_flow": null,
       "grid_auto_rows": null,
       "grid_column": null,
       "grid_gap": null,
       "grid_row": null,
       "grid_template_areas": null,
       "grid_template_columns": null,
       "grid_template_rows": null,
       "height": null,
       "justify_content": null,
       "justify_items": null,
       "left": null,
       "margin": null,
       "max_height": null,
       "max_width": null,
       "min_height": null,
       "min_width": null,
       "object_fit": null,
       "object_position": null,
       "order": null,
       "overflow": null,
       "overflow_x": null,
       "overflow_y": null,
       "padding": null,
       "right": null,
       "top": null,
       "visibility": null,
       "width": null
      }
     },
     "3035bd1c1b3a464c94695639a9f03fc1": {
      "model_module": "@jupyter-widgets/base",
      "model_module_version": "1.2.0",
      "model_name": "LayoutModel",
      "state": {
       "_model_module": "@jupyter-widgets/base",
       "_model_module_version": "1.2.0",
       "_model_name": "LayoutModel",
       "_view_count": null,
       "_view_module": "@jupyter-widgets/base",
       "_view_module_version": "1.2.0",
       "_view_name": "LayoutView",
       "align_content": null,
       "align_items": null,
       "align_self": null,
       "border": null,
       "bottom": null,
       "display": null,
       "flex": null,
       "flex_flow": null,
       "grid_area": null,
       "grid_auto_columns": null,
       "grid_auto_flow": null,
       "grid_auto_rows": null,
       "grid_column": null,
       "grid_gap": null,
       "grid_row": null,
       "grid_template_areas": null,
       "grid_template_columns": null,
       "grid_template_rows": null,
       "height": null,
       "justify_content": null,
       "justify_items": null,
       "left": null,
       "margin": null,
       "max_height": null,
       "max_width": null,
       "min_height": null,
       "min_width": null,
       "object_fit": null,
       "object_position": null,
       "order": null,
       "overflow": null,
       "overflow_x": null,
       "overflow_y": null,
       "padding": null,
       "right": null,
       "top": null,
       "visibility": null,
       "width": null
      }
     },
     "308dda68e25c4f94b060f63c8757e9f8": {
      "model_module": "@jupyter-widgets/controls",
      "model_module_version": "1.5.0",
      "model_name": "HTMLModel",
      "state": {
       "_dom_classes": [],
       "_model_module": "@jupyter-widgets/controls",
       "_model_module_version": "1.5.0",
       "_model_name": "HTMLModel",
       "_view_count": null,
       "_view_module": "@jupyter-widgets/controls",
       "_view_module_version": "1.5.0",
       "_view_name": "HTMLView",
       "description": "",
       "description_tooltip": null,
       "layout": "IPY_MODEL_9adbf94711684c51a1d32f2d53f5bb04",
       "placeholder": "​",
       "style": "IPY_MODEL_0591ad7022c54f809a3af3b7ddb2c7f6",
       "value": "Downloading extra modules: 100%"
      }
     },
     "333f52c8e3cb49bd886cf5df7b67e663": {
      "model_module": "@jupyter-widgets/controls",
      "model_module_version": "1.5.0",
      "model_name": "HTMLModel",
      "state": {
       "_dom_classes": [],
       "_model_module": "@jupyter-widgets/controls",
       "_model_module_version": "1.5.0",
       "_model_name": "HTMLModel",
       "_view_count": null,
       "_view_module": "@jupyter-widgets/controls",
       "_view_module_version": "1.5.0",
       "_view_name": "HTMLView",
       "description": "",
       "description_tooltip": null,
       "layout": "IPY_MODEL_3035bd1c1b3a464c94695639a9f03fc1",
       "placeholder": "​",
       "style": "IPY_MODEL_099abfa8ef1f44d7b27514ed6eff1d11",
       "value": " 570/570 [00:00&lt;00:00, 55.6kB/s]"
      }
     },
     "352aded8853f4175a46476475f7a7c22": {
      "model_module": "@jupyter-widgets/base",
      "model_module_version": "1.2.0",
      "model_name": "LayoutModel",
      "state": {
       "_model_module": "@jupyter-widgets/base",
       "_model_module_version": "1.2.0",
       "_model_name": "LayoutModel",
       "_view_count": null,
       "_view_module": "@jupyter-widgets/base",
       "_view_module_version": "1.2.0",
       "_view_name": "LayoutView",
       "align_content": null,
       "align_items": null,
       "align_self": null,
       "border": null,
       "bottom": null,
       "display": null,
       "flex": null,
       "flex_flow": null,
       "grid_area": null,
       "grid_auto_columns": null,
       "grid_auto_flow": null,
       "grid_auto_rows": null,
       "grid_column": null,
       "grid_gap": null,
       "grid_row": null,
       "grid_template_areas": null,
       "grid_template_columns": null,
       "grid_template_rows": null,
       "height": null,
       "justify_content": null,
       "justify_items": null,
       "left": null,
       "margin": null,
       "max_height": null,
       "max_width": null,
       "min_height": null,
       "min_width": null,
       "object_fit": null,
       "object_position": null,
       "order": null,
       "overflow": null,
       "overflow_x": null,
       "overflow_y": null,
       "padding": null,
       "right": null,
       "top": null,
       "visibility": null,
       "width": null
      }
     },
     "362a2dea65cd49f48d5f307002b3534a": {
      "model_module": "@jupyter-widgets/base",
      "model_module_version": "1.2.0",
      "model_name": "LayoutModel",
      "state": {
       "_model_module": "@jupyter-widgets/base",
       "_model_module_version": "1.2.0",
       "_model_name": "LayoutModel",
       "_view_count": null,
       "_view_module": "@jupyter-widgets/base",
       "_view_module_version": "1.2.0",
       "_view_name": "LayoutView",
       "align_content": null,
       "align_items": null,
       "align_self": null,
       "border": null,
       "bottom": null,
       "display": null,
       "flex": null,
       "flex_flow": null,
       "grid_area": null,
       "grid_auto_columns": null,
       "grid_auto_flow": null,
       "grid_auto_rows": null,
       "grid_column": null,
       "grid_gap": null,
       "grid_row": null,
       "grid_template_areas": null,
       "grid_template_columns": null,
       "grid_template_rows": null,
       "height": null,
       "justify_content": null,
       "justify_items": null,
       "left": null,
       "margin": null,
       "max_height": null,
       "max_width": null,
       "min_height": null,
       "min_width": null,
       "object_fit": null,
       "object_position": null,
       "order": null,
       "overflow": null,
       "overflow_x": null,
       "overflow_y": null,
       "padding": null,
       "right": null,
       "top": null,
       "visibility": null,
       "width": null
      }
     },
     "371012cbb92f4fdb87f14968d7939a95": {
      "model_module": "@jupyter-widgets/controls",
      "model_module_version": "1.5.0",
      "model_name": "HTMLModel",
      "state": {
       "_dom_classes": [],
       "_model_module": "@jupyter-widgets/controls",
       "_model_module_version": "1.5.0",
       "_model_name": "HTMLModel",
       "_view_count": null,
       "_view_module": "@jupyter-widgets/controls",
       "_view_module_version": "1.5.0",
       "_view_name": "HTMLView",
       "description": "",
       "description_tooltip": null,
       "layout": "IPY_MODEL_4e819505d7a8408796d5a69b310a4af9",
       "placeholder": "​",
       "style": "IPY_MODEL_a852a81900f647829341ab32d06706f1",
       "value": "Map: 100%"
      }
     },
     "3888e2a2d9ce4afd9797afefd421e3fa": {
      "model_module": "@jupyter-widgets/controls",
      "model_module_version": "1.5.0",
      "model_name": "FloatProgressModel",
      "state": {
       "_dom_classes": [],
       "_model_module": "@jupyter-widgets/controls",
       "_model_module_version": "1.5.0",
       "_model_name": "FloatProgressModel",
       "_view_count": null,
       "_view_module": "@jupyter-widgets/controls",
       "_view_module_version": "1.5.0",
       "_view_name": "ProgressView",
       "bar_style": "success",
       "description": "",
       "description_tooltip": null,
       "layout": "IPY_MODEL_d1466bfccf024115bfc522072fa897e5",
       "max": 245.0,
       "min": 0.0,
       "orientation": "horizontal",
       "style": "IPY_MODEL_d69c863f289b4520952cd5e4a67c9b88",
       "value": 245.0
      }
     },
     "3bd5fa568fec47d39e9dd0d5bcc16368": {
      "model_module": "@jupyter-widgets/controls",
      "model_module_version": "1.5.0",
      "model_name": "DescriptionStyleModel",
      "state": {
       "_model_module": "@jupyter-widgets/controls",
       "_model_module_version": "1.5.0",
       "_model_name": "DescriptionStyleModel",
       "_view_count": null,
       "_view_module": "@jupyter-widgets/base",
       "_view_module_version": "1.2.0",
       "_view_name": "StyleView",
       "description_width": ""
      }
     },
     "3c8f82f7c0dd4f0985e88a1e48586306": {
      "model_module": "@jupyter-widgets/base",
      "model_module_version": "1.2.0",
      "model_name": "LayoutModel",
      "state": {
       "_model_module": "@jupyter-widgets/base",
       "_model_module_version": "1.2.0",
       "_model_name": "LayoutModel",
       "_view_count": null,
       "_view_module": "@jupyter-widgets/base",
       "_view_module_version": "1.2.0",
       "_view_name": "LayoutView",
       "align_content": null,
       "align_items": null,
       "align_self": null,
       "border": null,
       "bottom": null,
       "display": null,
       "flex": null,
       "flex_flow": null,
       "grid_area": null,
       "grid_auto_columns": null,
       "grid_auto_flow": null,
       "grid_auto_rows": null,
       "grid_column": null,
       "grid_gap": null,
       "grid_row": null,
       "grid_template_areas": null,
       "grid_template_columns": null,
       "grid_template_rows": null,
       "height": null,
       "justify_content": null,
       "justify_items": null,
       "left": null,
       "margin": null,
       "max_height": null,
       "max_width": null,
       "min_height": null,
       "min_width": null,
       "object_fit": null,
       "object_position": null,
       "order": null,
       "overflow": null,
       "overflow_x": null,
       "overflow_y": null,
       "padding": null,
       "right": null,
       "top": null,
       "visibility": null,
       "width": null
      }
     },
     "3e34e7375d9945029a547f7b1b36458e": {
      "model_module": "@jupyter-widgets/controls",
      "model_module_version": "1.5.0",
      "model_name": "ProgressStyleModel",
      "state": {
       "_model_module": "@jupyter-widgets/controls",
       "_model_module_version": "1.5.0",
       "_model_name": "ProgressStyleModel",
       "_view_count": null,
       "_view_module": "@jupyter-widgets/base",
       "_view_module_version": "1.2.0",
       "_view_name": "StyleView",
       "bar_color": null,
       "description_width": ""
      }
     },
     "3e8dd139364c4f828ec3f12ee2c71fdb": {
      "model_module": "@jupyter-widgets/controls",
      "model_module_version": "1.5.0",
      "model_name": "DescriptionStyleModel",
      "state": {
       "_model_module": "@jupyter-widgets/controls",
       "_model_module_version": "1.5.0",
       "_model_name": "DescriptionStyleModel",
       "_view_count": null,
       "_view_module": "@jupyter-widgets/base",
       "_view_module_version": "1.2.0",
       "_view_name": "StyleView",
       "description_width": ""
      }
     },
     "4867e8d5d3c94dab99f5a1d699ceefac": {
      "model_module": "@jupyter-widgets/controls",
      "model_module_version": "1.5.0",
      "model_name": "HTMLModel",
      "state": {
       "_dom_classes": [],
       "_model_module": "@jupyter-widgets/controls",
       "_model_module_version": "1.5.0",
       "_model_name": "HTMLModel",
       "_view_count": null,
       "_view_module": "@jupyter-widgets/controls",
       "_view_module_version": "1.5.0",
       "_view_name": "HTMLView",
       "description": "",
       "description_tooltip": null,
       "layout": "IPY_MODEL_a2f8e50328744d7b99875ae53c305625",
       "placeholder": "​",
       "style": "IPY_MODEL_9f0e6e4955c34829aa8b98aebaca38d7",
       "value": "vocab.txt: 100%"
      }
     },
     "48fdf4d268be47f0a3e4296d584c3773": {
      "model_module": "@jupyter-widgets/base",
      "model_module_version": "1.2.0",
      "model_name": "LayoutModel",
      "state": {
       "_model_module": "@jupyter-widgets/base",
       "_model_module_version": "1.2.0",
       "_model_name": "LayoutModel",
       "_view_count": null,
       "_view_module": "@jupyter-widgets/base",
       "_view_module_version": "1.2.0",
       "_view_name": "LayoutView",
       "align_content": null,
       "align_items": null,
       "align_self": null,
       "border": null,
       "bottom": null,
       "display": null,
       "flex": null,
       "flex_flow": null,
       "grid_area": null,
       "grid_auto_columns": null,
       "grid_auto_flow": null,
       "grid_auto_rows": null,
       "grid_column": null,
       "grid_gap": null,
       "grid_row": null,
       "grid_template_areas": null,
       "grid_template_columns": null,
       "grid_template_rows": null,
       "height": null,
       "justify_content": null,
       "justify_items": null,
       "left": null,
       "margin": null,
       "max_height": null,
       "max_width": null,
       "min_height": null,
       "min_width": null,
       "object_fit": null,
       "object_position": null,
       "order": null,
       "overflow": null,
       "overflow_x": null,
       "overflow_y": null,
       "padding": null,
       "right": null,
       "top": null,
       "visibility": null,
       "width": null
      }
     },
     "4991f5f8980149f3a1925e1f2c1e8d65": {
      "model_module": "@jupyter-widgets/base",
      "model_module_version": "1.2.0",
      "model_name": "LayoutModel",
      "state": {
       "_model_module": "@jupyter-widgets/base",
       "_model_module_version": "1.2.0",
       "_model_name": "LayoutModel",
       "_view_count": null,
       "_view_module": "@jupyter-widgets/base",
       "_view_module_version": "1.2.0",
       "_view_name": "LayoutView",
       "align_content": null,
       "align_items": null,
       "align_self": null,
       "border": null,
       "bottom": null,
       "display": null,
       "flex": null,
       "flex_flow": null,
       "grid_area": null,
       "grid_auto_columns": null,
       "grid_auto_flow": null,
       "grid_auto_rows": null,
       "grid_column": null,
       "grid_gap": null,
       "grid_row": null,
       "grid_template_areas": null,
       "grid_template_columns": null,
       "grid_template_rows": null,
       "height": null,
       "justify_content": null,
       "justify_items": null,
       "left": null,
       "margin": null,
       "max_height": null,
       "max_width": null,
       "min_height": null,
       "min_width": null,
       "object_fit": null,
       "object_position": null,
       "order": null,
       "overflow": null,
       "overflow_x": null,
       "overflow_y": null,
       "padding": null,
       "right": null,
       "top": null,
       "visibility": null,
       "width": null
      }
     },
     "4bbf2a52c979431a98278f666e4daa86": {
      "model_module": "@jupyter-widgets/controls",
      "model_module_version": "1.5.0",
      "model_name": "ProgressStyleModel",
      "state": {
       "_model_module": "@jupyter-widgets/controls",
       "_model_module_version": "1.5.0",
       "_model_name": "ProgressStyleModel",
       "_view_count": null,
       "_view_module": "@jupyter-widgets/base",
       "_view_module_version": "1.2.0",
       "_view_name": "StyleView",
       "bar_color": null,
       "description_width": ""
      }
     },
     "4db26ea8d26f4a1d834ef33531283aac": {
      "model_module": "@jupyter-widgets/base",
      "model_module_version": "1.2.0",
      "model_name": "LayoutModel",
      "state": {
       "_model_module": "@jupyter-widgets/base",
       "_model_module_version": "1.2.0",
       "_model_name": "LayoutModel",
       "_view_count": null,
       "_view_module": "@jupyter-widgets/base",
       "_view_module_version": "1.2.0",
       "_view_name": "LayoutView",
       "align_content": null,
       "align_items": null,
       "align_self": null,
       "border": null,
       "bottom": null,
       "display": null,
       "flex": null,
       "flex_flow": null,
       "grid_area": null,
       "grid_auto_columns": null,
       "grid_auto_flow": null,
       "grid_auto_rows": null,
       "grid_column": null,
       "grid_gap": null,
       "grid_row": null,
       "grid_template_areas": null,
       "grid_template_columns": null,
       "grid_template_rows": null,
       "height": null,
       "justify_content": null,
       "justify_items": null,
       "left": null,
       "margin": null,
       "max_height": null,
       "max_width": null,
       "min_height": null,
       "min_width": null,
       "object_fit": null,
       "object_position": null,
       "order": null,
       "overflow": null,
       "overflow_x": null,
       "overflow_y": null,
       "padding": null,
       "right": null,
       "top": null,
       "visibility": null,
       "width": null
      }
     },
     "4e819505d7a8408796d5a69b310a4af9": {
      "model_module": "@jupyter-widgets/base",
      "model_module_version": "1.2.0",
      "model_name": "LayoutModel",
      "state": {
       "_model_module": "@jupyter-widgets/base",
       "_model_module_version": "1.2.0",
       "_model_name": "LayoutModel",
       "_view_count": null,
       "_view_module": "@jupyter-widgets/base",
       "_view_module_version": "1.2.0",
       "_view_name": "LayoutView",
       "align_content": null,
       "align_items": null,
       "align_self": null,
       "border": null,
       "bottom": null,
       "display": null,
       "flex": null,
       "flex_flow": null,
       "grid_area": null,
       "grid_auto_columns": null,
       "grid_auto_flow": null,
       "grid_auto_rows": null,
       "grid_column": null,
       "grid_gap": null,
       "grid_row": null,
       "grid_template_areas": null,
       "grid_template_columns": null,
       "grid_template_rows": null,
       "height": null,
       "justify_content": null,
       "justify_items": null,
       "left": null,
       "margin": null,
       "max_height": null,
       "max_width": null,
       "min_height": null,
       "min_width": null,
       "object_fit": null,
       "object_position": null,
       "order": null,
       "overflow": null,
       "overflow_x": null,
       "overflow_y": null,
       "padding": null,
       "right": null,
       "top": null,
       "visibility": null,
       "width": null
      }
     },
     "50deaf46890742eb8a5ebc257f34ca9b": {
      "model_module": "@jupyter-widgets/controls",
      "model_module_version": "1.5.0",
      "model_name": "ProgressStyleModel",
      "state": {
       "_model_module": "@jupyter-widgets/controls",
       "_model_module_version": "1.5.0",
       "_model_name": "ProgressStyleModel",
       "_view_count": null,
       "_view_module": "@jupyter-widgets/base",
       "_view_module_version": "1.2.0",
       "_view_name": "StyleView",
       "bar_color": null,
       "description_width": ""
      }
     },
     "50fe49c1ca224132b04f1cd83d241aa1": {
      "model_module": "@jupyter-widgets/controls",
      "model_module_version": "1.5.0",
      "model_name": "DescriptionStyleModel",
      "state": {
       "_model_module": "@jupyter-widgets/controls",
       "_model_module_version": "1.5.0",
       "_model_name": "DescriptionStyleModel",
       "_view_count": null,
       "_view_module": "@jupyter-widgets/base",
       "_view_module_version": "1.2.0",
       "_view_name": "StyleView",
       "description_width": ""
      }
     },
     "557533134780472aba376d13234c690b": {
      "model_module": "@jupyter-widgets/base",
      "model_module_version": "1.2.0",
      "model_name": "LayoutModel",
      "state": {
       "_model_module": "@jupyter-widgets/base",
       "_model_module_version": "1.2.0",
       "_model_name": "LayoutModel",
       "_view_count": null,
       "_view_module": "@jupyter-widgets/base",
       "_view_module_version": "1.2.0",
       "_view_name": "LayoutView",
       "align_content": null,
       "align_items": null,
       "align_self": null,
       "border": null,
       "bottom": null,
       "display": null,
       "flex": null,
       "flex_flow": null,
       "grid_area": null,
       "grid_auto_columns": null,
       "grid_auto_flow": null,
       "grid_auto_rows": null,
       "grid_column": null,
       "grid_gap": null,
       "grid_row": null,
       "grid_template_areas": null,
       "grid_template_columns": null,
       "grid_template_rows": null,
       "height": null,
       "justify_content": null,
       "justify_items": null,
       "left": null,
       "margin": null,
       "max_height": null,
       "max_width": null,
       "min_height": null,
       "min_width": null,
       "object_fit": null,
       "object_position": null,
       "order": null,
       "overflow": null,
       "overflow_x": null,
       "overflow_y": null,
       "padding": null,
       "right": null,
       "top": null,
       "visibility": null,
       "width": null
      }
     },
     "562b2666530c494d94a8d01ae18296c1": {
      "model_module": "@jupyter-widgets/controls",
      "model_module_version": "1.5.0",
      "model_name": "ProgressStyleModel",
      "state": {
       "_model_module": "@jupyter-widgets/controls",
       "_model_module_version": "1.5.0",
       "_model_name": "ProgressStyleModel",
       "_view_count": null,
       "_view_module": "@jupyter-widgets/base",
       "_view_module_version": "1.2.0",
       "_view_name": "StyleView",
       "bar_color": null,
       "description_width": ""
      }
     },
     "57098443a92b45b98898835f8c865d6d": {
      "model_module": "@jupyter-widgets/base",
      "model_module_version": "1.2.0",
      "model_name": "LayoutModel",
      "state": {
       "_model_module": "@jupyter-widgets/base",
       "_model_module_version": "1.2.0",
       "_model_name": "LayoutModel",
       "_view_count": null,
       "_view_module": "@jupyter-widgets/base",
       "_view_module_version": "1.2.0",
       "_view_name": "LayoutView",
       "align_content": null,
       "align_items": null,
       "align_self": null,
       "border": null,
       "bottom": null,
       "display": null,
       "flex": null,
       "flex_flow": null,
       "grid_area": null,
       "grid_auto_columns": null,
       "grid_auto_flow": null,
       "grid_auto_rows": null,
       "grid_column": null,
       "grid_gap": null,
       "grid_row": null,
       "grid_template_areas": null,
       "grid_template_columns": null,
       "grid_template_rows": null,
       "height": null,
       "justify_content": null,
       "justify_items": null,
       "left": null,
       "margin": null,
       "max_height": null,
       "max_width": null,
       "min_height": null,
       "min_width": null,
       "object_fit": null,
       "object_position": null,
       "order": null,
       "overflow": null,
       "overflow_x": null,
       "overflow_y": null,
       "padding": null,
       "right": null,
       "top": null,
       "visibility": null,
       "width": null
      }
     },
     "577b87ceaec64a6299f29e45ca5e6691": {
      "model_module": "@jupyter-widgets/controls",
      "model_module_version": "1.5.0",
      "model_name": "HBoxModel",
      "state": {
       "_dom_classes": [],
       "_model_module": "@jupyter-widgets/controls",
       "_model_module_version": "1.5.0",
       "_model_name": "HBoxModel",
       "_view_count": null,
       "_view_module": "@jupyter-widgets/controls",
       "_view_module_version": "1.5.0",
       "_view_name": "HBoxView",
       "box_style": "",
       "children": [
        "IPY_MODEL_b40ad19d71ff4d84a7531d3f00e996b5",
        "IPY_MODEL_9cc30eb22c9b4771b27c54a86d46ef98",
        "IPY_MODEL_333f52c8e3cb49bd886cf5df7b67e663"
       ],
       "layout": "IPY_MODEL_8a1d9fe492b54d9f924ab8f3d45b0ce4"
      }
     },
     "57b5c7b1d51b430c83f49a9e332a441b": {
      "model_module": "@jupyter-widgets/controls",
      "model_module_version": "1.5.0",
      "model_name": "HTMLModel",
      "state": {
       "_dom_classes": [],
       "_model_module": "@jupyter-widgets/controls",
       "_model_module_version": "1.5.0",
       "_model_name": "HTMLModel",
       "_view_count": null,
       "_view_module": "@jupyter-widgets/controls",
       "_view_module_version": "1.5.0",
       "_view_name": "HTMLView",
       "description": "",
       "description_tooltip": null,
       "layout": "IPY_MODEL_60c6841c20e2472597b59b3097261189",
       "placeholder": "​",
       "style": "IPY_MODEL_d1e0ed2c06b34cb58151e604e8778f1e",
       "value": " 245/245 [00:00&lt;00:00, 3250.78 examples/s]"
      }
     },
     "59ec26c9d9b14eaa848c9988c21a8b10": {
      "model_module": "@jupyter-widgets/base",
      "model_module_version": "1.2.0",
      "model_name": "LayoutModel",
      "state": {
       "_model_module": "@jupyter-widgets/base",
       "_model_module_version": "1.2.0",
       "_model_name": "LayoutModel",
       "_view_count": null,
       "_view_module": "@jupyter-widgets/base",
       "_view_module_version": "1.2.0",
       "_view_name": "LayoutView",
       "align_content": null,
       "align_items": null,
       "align_self": null,
       "border": null,
       "bottom": null,
       "display": null,
       "flex": null,
       "flex_flow": null,
       "grid_area": null,
       "grid_auto_columns": null,
       "grid_auto_flow": null,
       "grid_auto_rows": null,
       "grid_column": null,
       "grid_gap": null,
       "grid_row": null,
       "grid_template_areas": null,
       "grid_template_columns": null,
       "grid_template_rows": null,
       "height": null,
       "justify_content": null,
       "justify_items": null,
       "left": null,
       "margin": null,
       "max_height": null,
       "max_width": null,
       "min_height": null,
       "min_width": null,
       "object_fit": null,
       "object_position": null,
       "order": null,
       "overflow": null,
       "overflow_x": null,
       "overflow_y": null,
       "padding": null,
       "right": null,
       "top": null,
       "visibility": null,
       "width": null
      }
     },
     "5be5ab62f65142c3b141aad933dbaf25": {
      "model_module": "@jupyter-widgets/base",
      "model_module_version": "1.2.0",
      "model_name": "LayoutModel",
      "state": {
       "_model_module": "@jupyter-widgets/base",
       "_model_module_version": "1.2.0",
       "_model_name": "LayoutModel",
       "_view_count": null,
       "_view_module": "@jupyter-widgets/base",
       "_view_module_version": "1.2.0",
       "_view_name": "LayoutView",
       "align_content": null,
       "align_items": null,
       "align_self": null,
       "border": null,
       "bottom": null,
       "display": null,
       "flex": null,
       "flex_flow": null,
       "grid_area": null,
       "grid_auto_columns": null,
       "grid_auto_flow": null,
       "grid_auto_rows": null,
       "grid_column": null,
       "grid_gap": null,
       "grid_row": null,
       "grid_template_areas": null,
       "grid_template_columns": null,
       "grid_template_rows": null,
       "height": null,
       "justify_content": null,
       "justify_items": null,
       "left": null,
       "margin": null,
       "max_height": null,
       "max_width": null,
       "min_height": null,
       "min_width": null,
       "object_fit": null,
       "object_position": null,
       "order": null,
       "overflow": null,
       "overflow_x": null,
       "overflow_y": null,
       "padding": null,
       "right": null,
       "top": null,
       "visibility": null,
       "width": null
      }
     },
     "5e6200c97e544daa8023d72ad6e3f3ed": {
      "model_module": "@jupyter-widgets/controls",
      "model_module_version": "1.5.0",
      "model_name": "HTMLModel",
      "state": {
       "_dom_classes": [],
       "_model_module": "@jupyter-widgets/controls",
       "_model_module_version": "1.5.0",
       "_model_name": "HTMLModel",
       "_view_count": null,
       "_view_module": "@jupyter-widgets/controls",
       "_view_module_version": "1.5.0",
       "_view_name": "HTMLView",
       "description": "",
       "description_tooltip": null,
       "layout": "IPY_MODEL_28b24a963b624aebbd6bdc7e8f4b1ac8",
       "placeholder": "​",
       "style": "IPY_MODEL_651b715e91a541529d0272e0bdf3ee37",
       "value": "Map: 100%"
      }
     },
     "60144bbe14244123a34d68a650695709": {
      "model_module": "@jupyter-widgets/controls",
      "model_module_version": "1.5.0",
      "model_name": "DescriptionStyleModel",
      "state": {
       "_model_module": "@jupyter-widgets/controls",
       "_model_module_version": "1.5.0",
       "_model_name": "DescriptionStyleModel",
       "_view_count": null,
       "_view_module": "@jupyter-widgets/base",
       "_view_module_version": "1.2.0",
       "_view_name": "StyleView",
       "description_width": ""
      }
     },
     "6059f1d6c6804c86aba1bce69cd818f9": {
      "model_module": "@jupyter-widgets/base",
      "model_module_version": "1.2.0",
      "model_name": "LayoutModel",
      "state": {
       "_model_module": "@jupyter-widgets/base",
       "_model_module_version": "1.2.0",
       "_model_name": "LayoutModel",
       "_view_count": null,
       "_view_module": "@jupyter-widgets/base",
       "_view_module_version": "1.2.0",
       "_view_name": "LayoutView",
       "align_content": null,
       "align_items": null,
       "align_self": null,
       "border": null,
       "bottom": null,
       "display": null,
       "flex": null,
       "flex_flow": null,
       "grid_area": null,
       "grid_auto_columns": null,
       "grid_auto_flow": null,
       "grid_auto_rows": null,
       "grid_column": null,
       "grid_gap": null,
       "grid_row": null,
       "grid_template_areas": null,
       "grid_template_columns": null,
       "grid_template_rows": null,
       "height": null,
       "justify_content": null,
       "justify_items": null,
       "left": null,
       "margin": null,
       "max_height": null,
       "max_width": null,
       "min_height": null,
       "min_width": null,
       "object_fit": null,
       "object_position": null,
       "order": null,
       "overflow": null,
       "overflow_x": null,
       "overflow_y": null,
       "padding": null,
       "right": null,
       "top": null,
       "visibility": null,
       "width": null
      }
     },
     "60c6841c20e2472597b59b3097261189": {
      "model_module": "@jupyter-widgets/base",
      "model_module_version": "1.2.0",
      "model_name": "LayoutModel",
      "state": {
       "_model_module": "@jupyter-widgets/base",
       "_model_module_version": "1.2.0",
       "_model_name": "LayoutModel",
       "_view_count": null,
       "_view_module": "@jupyter-widgets/base",
       "_view_module_version": "1.2.0",
       "_view_name": "LayoutView",
       "align_content": null,
       "align_items": null,
       "align_self": null,
       "border": null,
       "bottom": null,
       "display": null,
       "flex": null,
       "flex_flow": null,
       "grid_area": null,
       "grid_auto_columns": null,
       "grid_auto_flow": null,
       "grid_auto_rows": null,
       "grid_column": null,
       "grid_gap": null,
       "grid_row": null,
       "grid_template_areas": null,
       "grid_template_columns": null,
       "grid_template_rows": null,
       "height": null,
       "justify_content": null,
       "justify_items": null,
       "left": null,
       "margin": null,
       "max_height": null,
       "max_width": null,
       "min_height": null,
       "min_width": null,
       "object_fit": null,
       "object_position": null,
       "order": null,
       "overflow": null,
       "overflow_x": null,
       "overflow_y": null,
       "padding": null,
       "right": null,
       "top": null,
       "visibility": null,
       "width": null
      }
     },
     "6153d3a095fc401b875230d33466a701": {
      "model_module": "@jupyter-widgets/controls",
      "model_module_version": "1.5.0",
      "model_name": "FloatProgressModel",
      "state": {
       "_dom_classes": [],
       "_model_module": "@jupyter-widgets/controls",
       "_model_module_version": "1.5.0",
       "_model_name": "FloatProgressModel",
       "_view_count": null,
       "_view_module": "@jupyter-widgets/controls",
       "_view_module_version": "1.5.0",
       "_view_name": "ProgressView",
       "bar_style": "success",
       "description": "",
       "description_tooltip": null,
       "layout": "IPY_MODEL_df08022014754ba897b82e53ad686efa",
       "max": 4203.0,
       "min": 0.0,
       "orientation": "horizontal",
       "style": "IPY_MODEL_e9845aef3b3c4b8e91bb2b977cc6445f",
       "value": 4203.0
      }
     },
     "6232ec88aca54c74b29e886960e0624d": {
      "model_module": "@jupyter-widgets/controls",
      "model_module_version": "1.5.0",
      "model_name": "FloatProgressModel",
      "state": {
       "_dom_classes": [],
       "_model_module": "@jupyter-widgets/controls",
       "_model_module_version": "1.5.0",
       "_model_name": "FloatProgressModel",
       "_view_count": null,
       "_view_module": "@jupyter-widgets/controls",
       "_view_module_version": "1.5.0",
       "_view_name": "ProgressView",
       "bar_style": "success",
       "description": "",
       "description_tooltip": null,
       "layout": "IPY_MODEL_76891e518b9c471abf4c66ba33e046a9",
       "max": 440449768.0,
       "min": 0.0,
       "orientation": "horizontal",
       "style": "IPY_MODEL_f39ba17c31644f819688d663b20679af",
       "value": 440449768.0
      }
     },
     "651b715e91a541529d0272e0bdf3ee37": {
      "model_module": "@jupyter-widgets/controls",
      "model_module_version": "1.5.0",
      "model_name": "DescriptionStyleModel",
      "state": {
       "_model_module": "@jupyter-widgets/controls",
       "_model_module_version": "1.5.0",
       "_model_name": "DescriptionStyleModel",
       "_view_count": null,
       "_view_module": "@jupyter-widgets/base",
       "_view_module_version": "1.2.0",
       "_view_name": "StyleView",
       "description_width": ""
      }
     },
     "660d6ccb6c1b4b72a1ca553a305e11ee": {
      "model_module": "@jupyter-widgets/base",
      "model_module_version": "1.2.0",
      "model_name": "LayoutModel",
      "state": {
       "_model_module": "@jupyter-widgets/base",
       "_model_module_version": "1.2.0",
       "_model_name": "LayoutModel",
       "_view_count": null,
       "_view_module": "@jupyter-widgets/base",
       "_view_module_version": "1.2.0",
       "_view_name": "LayoutView",
       "align_content": null,
       "align_items": null,
       "align_self": null,
       "border": null,
       "bottom": null,
       "display": null,
       "flex": null,
       "flex_flow": null,
       "grid_area": null,
       "grid_auto_columns": null,
       "grid_auto_flow": null,
       "grid_auto_rows": null,
       "grid_column": null,
       "grid_gap": null,
       "grid_row": null,
       "grid_template_areas": null,
       "grid_template_columns": null,
       "grid_template_rows": null,
       "height": null,
       "justify_content": null,
       "justify_items": null,
       "left": null,
       "margin": null,
       "max_height": null,
       "max_width": null,
       "min_height": null,
       "min_width": null,
       "object_fit": null,
       "object_position": null,
       "order": null,
       "overflow": null,
       "overflow_x": null,
       "overflow_y": null,
       "padding": null,
       "right": null,
       "top": null,
       "visibility": null,
       "width": null
      }
     },
     "6745dcbf3bd04f6a8c07d87f31bbd5fd": {
      "model_module": "@jupyter-widgets/base",
      "model_module_version": "1.2.0",
      "model_name": "LayoutModel",
      "state": {
       "_model_module": "@jupyter-widgets/base",
       "_model_module_version": "1.2.0",
       "_model_name": "LayoutModel",
       "_view_count": null,
       "_view_module": "@jupyter-widgets/base",
       "_view_module_version": "1.2.0",
       "_view_name": "LayoutView",
       "align_content": null,
       "align_items": null,
       "align_self": null,
       "border": null,
       "bottom": null,
       "display": null,
       "flex": null,
       "flex_flow": null,
       "grid_area": null,
       "grid_auto_columns": null,
       "grid_auto_flow": null,
       "grid_auto_rows": null,
       "grid_column": null,
       "grid_gap": null,
       "grid_row": null,
       "grid_template_areas": null,
       "grid_template_columns": null,
       "grid_template_rows": null,
       "height": null,
       "justify_content": null,
       "justify_items": null,
       "left": null,
       "margin": null,
       "max_height": null,
       "max_width": null,
       "min_height": null,
       "min_width": null,
       "object_fit": null,
       "object_position": null,
       "order": null,
       "overflow": null,
       "overflow_x": null,
       "overflow_y": null,
       "padding": null,
       "right": null,
       "top": null,
       "visibility": null,
       "width": null
      }
     },
     "6835af49973d45d2ae649ddaafc89f00": {
      "model_module": "@jupyter-widgets/controls",
      "model_module_version": "1.5.0",
      "model_name": "HTMLModel",
      "state": {
       "_dom_classes": [],
       "_model_module": "@jupyter-widgets/controls",
       "_model_module_version": "1.5.0",
       "_model_name": "HTMLModel",
       "_view_count": null,
       "_view_module": "@jupyter-widgets/controls",
       "_view_module_version": "1.5.0",
       "_view_name": "HTMLView",
       "description": "",
       "description_tooltip": null,
       "layout": "IPY_MODEL_4db26ea8d26f4a1d834ef33531283aac",
       "placeholder": "​",
       "style": "IPY_MODEL_11c4321aac04419abd9c86b564a91b15",
       "value": " 245/245 [00:00&lt;00:00, 3374.03 examples/s]"
      }
     },
     "6abe1bddf0874ef6b9b1a2c0d2be2379": {
      "model_module": "@jupyter-widgets/base",
      "model_module_version": "1.2.0",
      "model_name": "LayoutModel",
      "state": {
       "_model_module": "@jupyter-widgets/base",
       "_model_module_version": "1.2.0",
       "_model_name": "LayoutModel",
       "_view_count": null,
       "_view_module": "@jupyter-widgets/base",
       "_view_module_version": "1.2.0",
       "_view_name": "LayoutView",
       "align_content": null,
       "align_items": null,
       "align_self": null,
       "border": null,
       "bottom": null,
       "display": null,
       "flex": null,
       "flex_flow": null,
       "grid_area": null,
       "grid_auto_columns": null,
       "grid_auto_flow": null,
       "grid_auto_rows": null,
       "grid_column": null,
       "grid_gap": null,
       "grid_row": null,
       "grid_template_areas": null,
       "grid_template_columns": null,
       "grid_template_rows": null,
       "height": null,
       "justify_content": null,
       "justify_items": null,
       "left": null,
       "margin": null,
       "max_height": null,
       "max_width": null,
       "min_height": null,
       "min_width": null,
       "object_fit": null,
       "object_position": null,
       "order": null,
       "overflow": null,
       "overflow_x": null,
       "overflow_y": null,
       "padding": null,
       "right": null,
       "top": null,
       "visibility": null,
       "width": null
      }
     },
     "6ac75799f64144d2869e0cb7042df4c4": {
      "model_module": "@jupyter-widgets/controls",
      "model_module_version": "1.5.0",
      "model_name": "HTMLModel",
      "state": {
       "_dom_classes": [],
       "_model_module": "@jupyter-widgets/controls",
       "_model_module_version": "1.5.0",
       "_model_name": "HTMLModel",
       "_view_count": null,
       "_view_module": "@jupyter-widgets/controls",
       "_view_module_version": "1.5.0",
       "_view_name": "HTMLView",
       "description": "",
       "description_tooltip": null,
       "layout": "IPY_MODEL_e43b8d77ee844118a00fbf43818f57da",
       "placeholder": "​",
       "style": "IPY_MODEL_d330267eadb54f11a293f9ca6dc994d2",
       "value": "model.safetensors: 100%"
      }
     },
     "6b5e86c846994b389baf7f044f26ffd6": {
      "model_module": "@jupyter-widgets/base",
      "model_module_version": "1.2.0",
      "model_name": "LayoutModel",
      "state": {
       "_model_module": "@jupyter-widgets/base",
       "_model_module_version": "1.2.0",
       "_model_name": "LayoutModel",
       "_view_count": null,
       "_view_module": "@jupyter-widgets/base",
       "_view_module_version": "1.2.0",
       "_view_name": "LayoutView",
       "align_content": null,
       "align_items": null,
       "align_self": null,
       "border": null,
       "bottom": null,
       "display": null,
       "flex": null,
       "flex_flow": null,
       "grid_area": null,
       "grid_auto_columns": null,
       "grid_auto_flow": null,
       "grid_auto_rows": null,
       "grid_column": null,
       "grid_gap": null,
       "grid_row": null,
       "grid_template_areas": null,
       "grid_template_columns": null,
       "grid_template_rows": null,
       "height": null,
       "justify_content": null,
       "justify_items": null,
       "left": null,
       "margin": null,
       "max_height": null,
       "max_width": null,
       "min_height": null,
       "min_width": null,
       "object_fit": null,
       "object_position": null,
       "order": null,
       "overflow": null,
       "overflow_x": null,
       "overflow_y": null,
       "padding": null,
       "right": null,
       "top": null,
       "visibility": null,
       "width": null
      }
     },
     "6bb43b20d5614df7a8bec40f0d834583": {
      "model_module": "@jupyter-widgets/controls",
      "model_module_version": "1.5.0",
      "model_name": "DescriptionStyleModel",
      "state": {
       "_model_module": "@jupyter-widgets/controls",
       "_model_module_version": "1.5.0",
       "_model_name": "DescriptionStyleModel",
       "_view_count": null,
       "_view_module": "@jupyter-widgets/base",
       "_view_module_version": "1.2.0",
       "_view_name": "StyleView",
       "description_width": ""
      }
     },
     "736c5b2bfca94c379d7d637fbc7783b3": {
      "model_module": "@jupyter-widgets/controls",
      "model_module_version": "1.5.0",
      "model_name": "HTMLModel",
      "state": {
       "_dom_classes": [],
       "_model_module": "@jupyter-widgets/controls",
       "_model_module_version": "1.5.0",
       "_model_name": "HTMLModel",
       "_view_count": null,
       "_view_module": "@jupyter-widgets/controls",
       "_view_module_version": "1.5.0",
       "_view_name": "HTMLView",
       "description": "",
       "description_tooltip": null,
       "layout": "IPY_MODEL_76445867711d4fe19ae738626c8ae22f",
       "placeholder": "​",
       "style": "IPY_MODEL_a8ac1da74a1d4c88815967864b9c21ca",
       "value": "tokenizer_config.json: 100%"
      }
     },
     "76445867711d4fe19ae738626c8ae22f": {
      "model_module": "@jupyter-widgets/base",
      "model_module_version": "1.2.0",
      "model_name": "LayoutModel",
      "state": {
       "_model_module": "@jupyter-widgets/base",
       "_model_module_version": "1.2.0",
       "_model_name": "LayoutModel",
       "_view_count": null,
       "_view_module": "@jupyter-widgets/base",
       "_view_module_version": "1.2.0",
       "_view_name": "LayoutView",
       "align_content": null,
       "align_items": null,
       "align_self": null,
       "border": null,
       "bottom": null,
       "display": null,
       "flex": null,
       "flex_flow": null,
       "grid_area": null,
       "grid_auto_columns": null,
       "grid_auto_flow": null,
       "grid_auto_rows": null,
       "grid_column": null,
       "grid_gap": null,
       "grid_row": null,
       "grid_template_areas": null,
       "grid_template_columns": null,
       "grid_template_rows": null,
       "height": null,
       "justify_content": null,
       "justify_items": null,
       "left": null,
       "margin": null,
       "max_height": null,
       "max_width": null,
       "min_height": null,
       "min_width": null,
       "object_fit": null,
       "object_position": null,
       "order": null,
       "overflow": null,
       "overflow_x": null,
       "overflow_y": null,
       "padding": null,
       "right": null,
       "top": null,
       "visibility": null,
       "width": null
      }
     },
     "76891e518b9c471abf4c66ba33e046a9": {
      "model_module": "@jupyter-widgets/base",
      "model_module_version": "1.2.0",
      "model_name": "LayoutModel",
      "state": {
       "_model_module": "@jupyter-widgets/base",
       "_model_module_version": "1.2.0",
       "_model_name": "LayoutModel",
       "_view_count": null,
       "_view_module": "@jupyter-widgets/base",
       "_view_module_version": "1.2.0",
       "_view_name": "LayoutView",
       "align_content": null,
       "align_items": null,
       "align_self": null,
       "border": null,
       "bottom": null,
       "display": null,
       "flex": null,
       "flex_flow": null,
       "grid_area": null,
       "grid_auto_columns": null,
       "grid_auto_flow": null,
       "grid_auto_rows": null,
       "grid_column": null,
       "grid_gap": null,
       "grid_row": null,
       "grid_template_areas": null,
       "grid_template_columns": null,
       "grid_template_rows": null,
       "height": null,
       "justify_content": null,
       "justify_items": null,
       "left": null,
       "margin": null,
       "max_height": null,
       "max_width": null,
       "min_height": null,
       "min_width": null,
       "object_fit": null,
       "object_position": null,
       "order": null,
       "overflow": null,
       "overflow_x": null,
       "overflow_y": null,
       "padding": null,
       "right": null,
       "top": null,
       "visibility": null,
       "width": null
      }
     },
     "778f35af28f848f0bf9f0a9a7808251b": {
      "model_module": "@jupyter-widgets/base",
      "model_module_version": "1.2.0",
      "model_name": "LayoutModel",
      "state": {
       "_model_module": "@jupyter-widgets/base",
       "_model_module_version": "1.2.0",
       "_model_name": "LayoutModel",
       "_view_count": null,
       "_view_module": "@jupyter-widgets/base",
       "_view_module_version": "1.2.0",
       "_view_name": "LayoutView",
       "align_content": null,
       "align_items": null,
       "align_self": null,
       "border": null,
       "bottom": null,
       "display": null,
       "flex": null,
       "flex_flow": null,
       "grid_area": null,
       "grid_auto_columns": null,
       "grid_auto_flow": null,
       "grid_auto_rows": null,
       "grid_column": null,
       "grid_gap": null,
       "grid_row": null,
       "grid_template_areas": null,
       "grid_template_columns": null,
       "grid_template_rows": null,
       "height": null,
       "justify_content": null,
       "justify_items": null,
       "left": null,
       "margin": null,
       "max_height": null,
       "max_width": null,
       "min_height": null,
       "min_width": null,
       "object_fit": null,
       "object_position": null,
       "order": null,
       "overflow": null,
       "overflow_x": null,
       "overflow_y": null,
       "padding": null,
       "right": null,
       "top": null,
       "visibility": null,
       "width": null
      }
     },
     "79360030326849978701d6e2e17de592": {
      "model_module": "@jupyter-widgets/controls",
      "model_module_version": "1.5.0",
      "model_name": "ProgressStyleModel",
      "state": {
       "_model_module": "@jupyter-widgets/controls",
       "_model_module_version": "1.5.0",
       "_model_name": "ProgressStyleModel",
       "_view_count": null,
       "_view_module": "@jupyter-widgets/base",
       "_view_module_version": "1.2.0",
       "_view_name": "StyleView",
       "bar_color": null,
       "description_width": ""
      }
     },
     "7a3f2f23477346148cb122eb6253ec94": {
      "model_module": "@jupyter-widgets/controls",
      "model_module_version": "1.5.0",
      "model_name": "DescriptionStyleModel",
      "state": {
       "_model_module": "@jupyter-widgets/controls",
       "_model_module_version": "1.5.0",
       "_model_name": "DescriptionStyleModel",
       "_view_count": null,
       "_view_module": "@jupyter-widgets/base",
       "_view_module_version": "1.2.0",
       "_view_name": "StyleView",
       "description_width": ""
      }
     },
     "7b027181db7642ebbb78827670e063fe": {
      "model_module": "@jupyter-widgets/controls",
      "model_module_version": "1.5.0",
      "model_name": "HTMLModel",
      "state": {
       "_dom_classes": [],
       "_model_module": "@jupyter-widgets/controls",
       "_model_module_version": "1.5.0",
       "_model_name": "HTMLModel",
       "_view_count": null,
       "_view_module": "@jupyter-widgets/controls",
       "_view_module_version": "1.5.0",
       "_view_name": "HTMLView",
       "description": "",
       "description_tooltip": null,
       "layout": "IPY_MODEL_93b6f39431af49bdb966e520f0592d85",
       "placeholder": "​",
       "style": "IPY_MODEL_d426311f5c714312a2c4bb2999a97d66",
       "value": "Downloading builder script: 100%"
      }
     },
     "7d387b65808c474397aa287484a18148": {
      "model_module": "@jupyter-widgets/base",
      "model_module_version": "1.2.0",
      "model_name": "LayoutModel",
      "state": {
       "_model_module": "@jupyter-widgets/base",
       "_model_module_version": "1.2.0",
       "_model_name": "LayoutModel",
       "_view_count": null,
       "_view_module": "@jupyter-widgets/base",
       "_view_module_version": "1.2.0",
       "_view_name": "LayoutView",
       "align_content": null,
       "align_items": null,
       "align_self": null,
       "border": null,
       "bottom": null,
       "display": null,
       "flex": null,
       "flex_flow": null,
       "grid_area": null,
       "grid_auto_columns": null,
       "grid_auto_flow": null,
       "grid_auto_rows": null,
       "grid_column": null,
       "grid_gap": null,
       "grid_row": null,
       "grid_template_areas": null,
       "grid_template_columns": null,
       "grid_template_rows": null,
       "height": null,
       "justify_content": null,
       "justify_items": null,
       "left": null,
       "margin": null,
       "max_height": null,
       "max_width": null,
       "min_height": null,
       "min_width": null,
       "object_fit": null,
       "object_position": null,
       "order": null,
       "overflow": null,
       "overflow_x": null,
       "overflow_y": null,
       "padding": null,
       "right": null,
       "top": null,
       "visibility": null,
       "width": null
      }
     },
     "82af58bf836440b0bfb1db5bd6da8fe3": {
      "model_module": "@jupyter-widgets/controls",
      "model_module_version": "1.5.0",
      "model_name": "FloatProgressModel",
      "state": {
       "_dom_classes": [],
       "_model_module": "@jupyter-widgets/controls",
       "_model_module_version": "1.5.0",
       "_model_name": "FloatProgressModel",
       "_view_count": null,
       "_view_module": "@jupyter-widgets/controls",
       "_view_module_version": "1.5.0",
       "_view_name": "ProgressView",
       "bar_style": "success",
       "description": "",
       "description_tooltip": null,
       "layout": "IPY_MODEL_9f2f3dcdabc74018b3052142fde46e54",
       "max": 1958.0,
       "min": 0.0,
       "orientation": "horizontal",
       "style": "IPY_MODEL_562b2666530c494d94a8d01ae18296c1",
       "value": 1958.0
      }
     },
     "870da534a2fc42829e58e4e0bbea490a": {
      "model_module": "@jupyter-widgets/controls",
      "model_module_version": "1.5.0",
      "model_name": "DescriptionStyleModel",
      "state": {
       "_model_module": "@jupyter-widgets/controls",
       "_model_module_version": "1.5.0",
       "_model_name": "DescriptionStyleModel",
       "_view_count": null,
       "_view_module": "@jupyter-widgets/base",
       "_view_module_version": "1.2.0",
       "_view_name": "StyleView",
       "description_width": ""
      }
     },
     "876e7f91f44644009290821e3c87a78e": {
      "model_module": "@jupyter-widgets/controls",
      "model_module_version": "1.5.0",
      "model_name": "HBoxModel",
      "state": {
       "_dom_classes": [],
       "_model_module": "@jupyter-widgets/controls",
       "_model_module_version": "1.5.0",
       "_model_name": "HBoxModel",
       "_view_count": null,
       "_view_module": "@jupyter-widgets/controls",
       "_view_module_version": "1.5.0",
       "_view_name": "HBoxView",
       "box_style": "",
       "children": [
        "IPY_MODEL_736c5b2bfca94c379d7d637fbc7783b3",
        "IPY_MODEL_8a95c39bd3ee46bfb90919a7776990c5",
        "IPY_MODEL_c46204a259f249b1af46c5b6cd7bd8ee"
       ],
       "layout": "IPY_MODEL_df3bcfd722424532b94cea0629bacab1"
      }
     },
     "88ae7c45b00f462db3f59e7cec724ffb": {
      "model_module": "@jupyter-widgets/controls",
      "model_module_version": "1.5.0",
      "model_name": "DescriptionStyleModel",
      "state": {
       "_model_module": "@jupyter-widgets/controls",
       "_model_module_version": "1.5.0",
       "_model_name": "DescriptionStyleModel",
       "_view_count": null,
       "_view_module": "@jupyter-widgets/base",
       "_view_module_version": "1.2.0",
       "_view_name": "StyleView",
       "description_width": ""
      }
     },
     "8978244ef4254b2fbd6b34f10b2711fe": {
      "model_module": "@jupyter-widgets/controls",
      "model_module_version": "1.5.0",
      "model_name": "FloatProgressModel",
      "state": {
       "_dom_classes": [],
       "_model_module": "@jupyter-widgets/controls",
       "_model_module_version": "1.5.0",
       "_model_name": "FloatProgressModel",
       "_view_count": null,
       "_view_module": "@jupyter-widgets/controls",
       "_view_module_version": "1.5.0",
       "_view_name": "ProgressView",
       "bar_style": "success",
       "description": "",
       "description_tooltip": null,
       "layout": "IPY_MODEL_352aded8853f4175a46476475f7a7c22",
       "max": 231508.0,
       "min": 0.0,
       "orientation": "horizontal",
       "style": "IPY_MODEL_3e34e7375d9945029a547f7b1b36458e",
       "value": 231508.0
      }
     },
     "8a0024b8daf04ddf9df71b49282a3a91": {
      "model_module": "@jupyter-widgets/controls",
      "model_module_version": "1.5.0",
      "model_name": "HTMLModel",
      "state": {
       "_dom_classes": [],
       "_model_module": "@jupyter-widgets/controls",
       "_model_module_version": "1.5.0",
       "_model_name": "HTMLModel",
       "_view_count": null,
       "_view_module": "@jupyter-widgets/controls",
       "_view_module_version": "1.5.0",
       "_view_name": "HTMLView",
       "description": "",
       "description_tooltip": null,
       "layout": "IPY_MODEL_6745dcbf3bd04f6a8c07d87f31bbd5fd",
       "placeholder": "​",
       "style": "IPY_MODEL_264d5e63d0c846f1acc24e391e93fb56",
       "value": " 232k/232k [00:00&lt;00:00, 1.43MB/s]"
      }
     },
     "8a1d9fe492b54d9f924ab8f3d45b0ce4": {
      "model_module": "@jupyter-widgets/base",
      "model_module_version": "1.2.0",
      "model_name": "LayoutModel",
      "state": {
       "_model_module": "@jupyter-widgets/base",
       "_model_module_version": "1.2.0",
       "_model_name": "LayoutModel",
       "_view_count": null,
       "_view_module": "@jupyter-widgets/base",
       "_view_module_version": "1.2.0",
       "_view_name": "LayoutView",
       "align_content": null,
       "align_items": null,
       "align_self": null,
       "border": null,
       "bottom": null,
       "display": null,
       "flex": null,
       "flex_flow": null,
       "grid_area": null,
       "grid_auto_columns": null,
       "grid_auto_flow": null,
       "grid_auto_rows": null,
       "grid_column": null,
       "grid_gap": null,
       "grid_row": null,
       "grid_template_areas": null,
       "grid_template_columns": null,
       "grid_template_rows": null,
       "height": null,
       "justify_content": null,
       "justify_items": null,
       "left": null,
       "margin": null,
       "max_height": null,
       "max_width": null,
       "min_height": null,
       "min_width": null,
       "object_fit": null,
       "object_position": null,
       "order": null,
       "overflow": null,
       "overflow_x": null,
       "overflow_y": null,
       "padding": null,
       "right": null,
       "top": null,
       "visibility": null,
       "width": null
      }
     },
     "8a95c39bd3ee46bfb90919a7776990c5": {
      "model_module": "@jupyter-widgets/controls",
      "model_module_version": "1.5.0",
      "model_name": "FloatProgressModel",
      "state": {
       "_dom_classes": [],
       "_model_module": "@jupyter-widgets/controls",
       "_model_module_version": "1.5.0",
       "_model_name": "FloatProgressModel",
       "_view_count": null,
       "_view_module": "@jupyter-widgets/controls",
       "_view_module_version": "1.5.0",
       "_view_name": "ProgressView",
       "bar_style": "success",
       "description": "",
       "description_tooltip": null,
       "layout": "IPY_MODEL_3c8f82f7c0dd4f0985e88a1e48586306",
       "max": 48.0,
       "min": 0.0,
       "orientation": "horizontal",
       "style": "IPY_MODEL_79360030326849978701d6e2e17de592",
       "value": 48.0
      }
     },
     "8ac8e1706bca4c49860b872034b4854c": {
      "model_module": "@jupyter-widgets/controls",
      "model_module_version": "1.5.0",
      "model_name": "HBoxModel",
      "state": {
       "_dom_classes": [],
       "_model_module": "@jupyter-widgets/controls",
       "_model_module_version": "1.5.0",
       "_model_name": "HBoxModel",
       "_view_count": null,
       "_view_module": "@jupyter-widgets/controls",
       "_view_module_version": "1.5.0",
       "_view_name": "HBoxView",
       "box_style": "",
       "children": [
        "IPY_MODEL_308dda68e25c4f94b060f63c8757e9f8",
        "IPY_MODEL_90eacae30fc9469fb8959ef048656a99",
        "IPY_MODEL_18fd0879f6754f3c9e54768fcfa6baf6"
       ],
       "layout": "IPY_MODEL_96961c2e206949b4a27f814894dec97b"
      }
     },
     "90020b9266fc43ac9fdb5134012d708e": {
      "model_module": "@jupyter-widgets/base",
      "model_module_version": "1.2.0",
      "model_name": "LayoutModel",
      "state": {
       "_model_module": "@jupyter-widgets/base",
       "_model_module_version": "1.2.0",
       "_model_name": "LayoutModel",
       "_view_count": null,
       "_view_module": "@jupyter-widgets/base",
       "_view_module_version": "1.2.0",
       "_view_name": "LayoutView",
       "align_content": null,
       "align_items": null,
       "align_self": null,
       "border": null,
       "bottom": null,
       "display": null,
       "flex": null,
       "flex_flow": null,
       "grid_area": null,
       "grid_auto_columns": null,
       "grid_auto_flow": null,
       "grid_auto_rows": null,
       "grid_column": null,
       "grid_gap": null,
       "grid_row": null,
       "grid_template_areas": null,
       "grid_template_columns": null,
       "grid_template_rows": null,
       "height": null,
       "justify_content": null,
       "justify_items": null,
       "left": null,
       "margin": null,
       "max_height": null,
       "max_width": null,
       "min_height": null,
       "min_width": null,
       "object_fit": null,
       "object_position": null,
       "order": null,
       "overflow": null,
       "overflow_x": null,
       "overflow_y": null,
       "padding": null,
       "right": null,
       "top": null,
       "visibility": null,
       "width": null
      }
     },
     "90eacae30fc9469fb8959ef048656a99": {
      "model_module": "@jupyter-widgets/controls",
      "model_module_version": "1.5.0",
      "model_name": "FloatProgressModel",
      "state": {
       "_dom_classes": [],
       "_model_module": "@jupyter-widgets/controls",
       "_model_module_version": "1.5.0",
       "_model_name": "FloatProgressModel",
       "_view_count": null,
       "_view_module": "@jupyter-widgets/controls",
       "_view_module_version": "1.5.0",
       "_view_name": "ProgressView",
       "bar_style": "success",
       "description": "",
       "description_tooltip": null,
       "layout": "IPY_MODEL_949d80f149a04ad09cd6c8c34de1f00f",
       "max": 11263.0,
       "min": 0.0,
       "orientation": "horizontal",
       "style": "IPY_MODEL_20687e07135d42e59b56422cf31c1cac",
       "value": 11263.0
      }
     },
     "9165cba23bd64ce9aa30705ad853a9d8": {
      "model_module": "@jupyter-widgets/controls",
      "model_module_version": "1.5.0",
      "model_name": "DescriptionStyleModel",
      "state": {
       "_model_module": "@jupyter-widgets/controls",
       "_model_module_version": "1.5.0",
       "_model_name": "DescriptionStyleModel",
       "_view_count": null,
       "_view_module": "@jupyter-widgets/base",
       "_view_module_version": "1.2.0",
       "_view_name": "StyleView",
       "description_width": ""
      }
     },
     "93b6f39431af49bdb966e520f0592d85": {
      "model_module": "@jupyter-widgets/base",
      "model_module_version": "1.2.0",
      "model_name": "LayoutModel",
      "state": {
       "_model_module": "@jupyter-widgets/base",
       "_model_module_version": "1.2.0",
       "_model_name": "LayoutModel",
       "_view_count": null,
       "_view_module": "@jupyter-widgets/base",
       "_view_module_version": "1.2.0",
       "_view_name": "LayoutView",
       "align_content": null,
       "align_items": null,
       "align_self": null,
       "border": null,
       "bottom": null,
       "display": null,
       "flex": null,
       "flex_flow": null,
       "grid_area": null,
       "grid_auto_columns": null,
       "grid_auto_flow": null,
       "grid_auto_rows": null,
       "grid_column": null,
       "grid_gap": null,
       "grid_row": null,
       "grid_template_areas": null,
       "grid_template_columns": null,
       "grid_template_rows": null,
       "height": null,
       "justify_content": null,
       "justify_items": null,
       "left": null,
       "margin": null,
       "max_height": null,
       "max_width": null,
       "min_height": null,
       "min_width": null,
       "object_fit": null,
       "object_position": null,
       "order": null,
       "overflow": null,
       "overflow_x": null,
       "overflow_y": null,
       "padding": null,
       "right": null,
       "top": null,
       "visibility": null,
       "width": null
      }
     },
     "949d80f149a04ad09cd6c8c34de1f00f": {
      "model_module": "@jupyter-widgets/base",
      "model_module_version": "1.2.0",
      "model_name": "LayoutModel",
      "state": {
       "_model_module": "@jupyter-widgets/base",
       "_model_module_version": "1.2.0",
       "_model_name": "LayoutModel",
       "_view_count": null,
       "_view_module": "@jupyter-widgets/base",
       "_view_module_version": "1.2.0",
       "_view_name": "LayoutView",
       "align_content": null,
       "align_items": null,
       "align_self": null,
       "border": null,
       "bottom": null,
       "display": null,
       "flex": null,
       "flex_flow": null,
       "grid_area": null,
       "grid_auto_columns": null,
       "grid_auto_flow": null,
       "grid_auto_rows": null,
       "grid_column": null,
       "grid_gap": null,
       "grid_row": null,
       "grid_template_areas": null,
       "grid_template_columns": null,
       "grid_template_rows": null,
       "height": null,
       "justify_content": null,
       "justify_items": null,
       "left": null,
       "margin": null,
       "max_height": null,
       "max_width": null,
       "min_height": null,
       "min_width": null,
       "object_fit": null,
       "object_position": null,
       "order": null,
       "overflow": null,
       "overflow_x": null,
       "overflow_y": null,
       "padding": null,
       "right": null,
       "top": null,
       "visibility": null,
       "width": null
      }
     },
     "94edfe21128b46418364d136aa494b81": {
      "model_module": "@jupyter-widgets/controls",
      "model_module_version": "1.5.0",
      "model_name": "HTMLModel",
      "state": {
       "_dom_classes": [],
       "_model_module": "@jupyter-widgets/controls",
       "_model_module_version": "1.5.0",
       "_model_name": "HTMLModel",
       "_view_count": null,
       "_view_module": "@jupyter-widgets/controls",
       "_view_module_version": "1.5.0",
       "_view_name": "HTMLView",
       "description": "",
       "description_tooltip": null,
       "layout": "IPY_MODEL_5be5ab62f65142c3b141aad933dbaf25",
       "placeholder": "​",
       "style": "IPY_MODEL_870da534a2fc42829e58e4e0bbea490a",
       "value": "Downloading builder script: 100%"
      }
     },
     "955290aaae034f97af922387243bfb82": {
      "model_module": "@jupyter-widgets/controls",
      "model_module_version": "1.5.0",
      "model_name": "HBoxModel",
      "state": {
       "_dom_classes": [],
       "_model_module": "@jupyter-widgets/controls",
       "_model_module_version": "1.5.0",
       "_model_name": "HBoxModel",
       "_view_count": null,
       "_view_module": "@jupyter-widgets/controls",
       "_view_module_version": "1.5.0",
       "_view_name": "HBoxView",
       "box_style": "",
       "children": [
        "IPY_MODEL_d99e04825ead4e9791e42c931cb74a54",
        "IPY_MODEL_ee3ac5f65dbd4b0891039b73210f3b03",
        "IPY_MODEL_1f719fbbb48144b196b527f59686fc6d"
       ],
       "layout": "IPY_MODEL_6059f1d6c6804c86aba1bce69cd818f9"
      }
     },
     "96961c2e206949b4a27f814894dec97b": {
      "model_module": "@jupyter-widgets/base",
      "model_module_version": "1.2.0",
      "model_name": "LayoutModel",
      "state": {
       "_model_module": "@jupyter-widgets/base",
       "_model_module_version": "1.2.0",
       "_model_name": "LayoutModel",
       "_view_count": null,
       "_view_module": "@jupyter-widgets/base",
       "_view_module_version": "1.2.0",
       "_view_name": "LayoutView",
       "align_content": null,
       "align_items": null,
       "align_self": null,
       "border": null,
       "bottom": null,
       "display": null,
       "flex": null,
       "flex_flow": null,
       "grid_area": null,
       "grid_auto_columns": null,
       "grid_auto_flow": null,
       "grid_auto_rows": null,
       "grid_column": null,
       "grid_gap": null,
       "grid_row": null,
       "grid_template_areas": null,
       "grid_template_columns": null,
       "grid_template_rows": null,
       "height": null,
       "justify_content": null,
       "justify_items": null,
       "left": null,
       "margin": null,
       "max_height": null,
       "max_width": null,
       "min_height": null,
       "min_width": null,
       "object_fit": null,
       "object_position": null,
       "order": null,
       "overflow": null,
       "overflow_x": null,
       "overflow_y": null,
       "padding": null,
       "right": null,
       "top": null,
       "visibility": null,
       "width": null
      }
     },
     "99fe33343a844759b6397f3effa9b04e": {
      "model_module": "@jupyter-widgets/controls",
      "model_module_version": "1.5.0",
      "model_name": "HTMLModel",
      "state": {
       "_dom_classes": [],
       "_model_module": "@jupyter-widgets/controls",
       "_model_module_version": "1.5.0",
       "_model_name": "HTMLModel",
       "_view_count": null,
       "_view_module": "@jupyter-widgets/controls",
       "_view_module_version": "1.5.0",
       "_view_name": "HTMLView",
       "description": "",
       "description_tooltip": null,
       "layout": "IPY_MODEL_e972a5ed35c2408e880b53c14d887a5c",
       "placeholder": "​",
       "style": "IPY_MODEL_0f63a829a596478e88c5ee27bc6a7b7a",
       "value": " 245/245 [00:00&lt;00:00, 7614.54 examples/s]"
      }
     },
     "9adbf94711684c51a1d32f2d53f5bb04": {
      "model_module": "@jupyter-widgets/base",
      "model_module_version": "1.2.0",
      "model_name": "LayoutModel",
      "state": {
       "_model_module": "@jupyter-widgets/base",
       "_model_module_version": "1.2.0",
       "_model_name": "LayoutModel",
       "_view_count": null,
       "_view_module": "@jupyter-widgets/base",
       "_view_module_version": "1.2.0",
       "_view_name": "LayoutView",
       "align_content": null,
       "align_items": null,
       "align_self": null,
       "border": null,
       "bottom": null,
       "display": null,
       "flex": null,
       "flex_flow": null,
       "grid_area": null,
       "grid_auto_columns": null,
       "grid_auto_flow": null,
       "grid_auto_rows": null,
       "grid_column": null,
       "grid_gap": null,
       "grid_row": null,
       "grid_template_areas": null,
       "grid_template_columns": null,
       "grid_template_rows": null,
       "height": null,
       "justify_content": null,
       "justify_items": null,
       "left": null,
       "margin": null,
       "max_height": null,
       "max_width": null,
       "min_height": null,
       "min_width": null,
       "object_fit": null,
       "object_position": null,
       "order": null,
       "overflow": null,
       "overflow_x": null,
       "overflow_y": null,
       "padding": null,
       "right": null,
       "top": null,
       "visibility": null,
       "width": null
      }
     },
     "9c39e5a769b84c9f869e03cd09da9302": {
      "model_module": "@jupyter-widgets/base",
      "model_module_version": "1.2.0",
      "model_name": "LayoutModel",
      "state": {
       "_model_module": "@jupyter-widgets/base",
       "_model_module_version": "1.2.0",
       "_model_name": "LayoutModel",
       "_view_count": null,
       "_view_module": "@jupyter-widgets/base",
       "_view_module_version": "1.2.0",
       "_view_name": "LayoutView",
       "align_content": null,
       "align_items": null,
       "align_self": null,
       "border": null,
       "bottom": null,
       "display": null,
       "flex": null,
       "flex_flow": null,
       "grid_area": null,
       "grid_auto_columns": null,
       "grid_auto_flow": null,
       "grid_auto_rows": null,
       "grid_column": null,
       "grid_gap": null,
       "grid_row": null,
       "grid_template_areas": null,
       "grid_template_columns": null,
       "grid_template_rows": null,
       "height": null,
       "justify_content": null,
       "justify_items": null,
       "left": null,
       "margin": null,
       "max_height": null,
       "max_width": null,
       "min_height": null,
       "min_width": null,
       "object_fit": null,
       "object_position": null,
       "order": null,
       "overflow": null,
       "overflow_x": null,
       "overflow_y": null,
       "padding": null,
       "right": null,
       "top": null,
       "visibility": null,
       "width": null
      }
     },
     "9c93d149fa9f42588b4ddd0aef689e15": {
      "model_module": "@jupyter-widgets/controls",
      "model_module_version": "1.5.0",
      "model_name": "HBoxModel",
      "state": {
       "_dom_classes": [],
       "_model_module": "@jupyter-widgets/controls",
       "_model_module_version": "1.5.0",
       "_model_name": "HBoxModel",
       "_view_count": null,
       "_view_module": "@jupyter-widgets/controls",
       "_view_module_version": "1.5.0",
       "_view_name": "HBoxView",
       "box_style": "",
       "children": [
        "IPY_MODEL_04cd0a181ff745b28080d3daf090fd36",
        "IPY_MODEL_bd944bbb5d67464caefd12628f85ab39",
        "IPY_MODEL_57b5c7b1d51b430c83f49a9e332a441b"
       ],
       "layout": "IPY_MODEL_57098443a92b45b98898835f8c865d6d"
      }
     },
     "9cc30eb22c9b4771b27c54a86d46ef98": {
      "model_module": "@jupyter-widgets/controls",
      "model_module_version": "1.5.0",
      "model_name": "FloatProgressModel",
      "state": {
       "_dom_classes": [],
       "_model_module": "@jupyter-widgets/controls",
       "_model_module_version": "1.5.0",
       "_model_name": "FloatProgressModel",
       "_view_count": null,
       "_view_module": "@jupyter-widgets/controls",
       "_view_module_version": "1.5.0",
       "_view_name": "ProgressView",
       "bar_style": "success",
       "description": "",
       "description_tooltip": null,
       "layout": "IPY_MODEL_9c39e5a769b84c9f869e03cd09da9302",
       "max": 570.0,
       "min": 0.0,
       "orientation": "horizontal",
       "style": "IPY_MODEL_b98f3436aac543acb975a28061166e49",
       "value": 570.0
      }
     },
     "9f0e6e4955c34829aa8b98aebaca38d7": {
      "model_module": "@jupyter-widgets/controls",
      "model_module_version": "1.5.0",
      "model_name": "DescriptionStyleModel",
      "state": {
       "_model_module": "@jupyter-widgets/controls",
       "_model_module_version": "1.5.0",
       "_model_name": "DescriptionStyleModel",
       "_view_count": null,
       "_view_module": "@jupyter-widgets/base",
       "_view_module_version": "1.2.0",
       "_view_name": "StyleView",
       "description_width": ""
      }
     },
     "9f2f3dcdabc74018b3052142fde46e54": {
      "model_module": "@jupyter-widgets/base",
      "model_module_version": "1.2.0",
      "model_name": "LayoutModel",
      "state": {
       "_model_module": "@jupyter-widgets/base",
       "_model_module_version": "1.2.0",
       "_model_name": "LayoutModel",
       "_view_count": null,
       "_view_module": "@jupyter-widgets/base",
       "_view_module_version": "1.2.0",
       "_view_name": "LayoutView",
       "align_content": null,
       "align_items": null,
       "align_self": null,
       "border": null,
       "bottom": null,
       "display": null,
       "flex": null,
       "flex_flow": null,
       "grid_area": null,
       "grid_auto_columns": null,
       "grid_auto_flow": null,
       "grid_auto_rows": null,
       "grid_column": null,
       "grid_gap": null,
       "grid_row": null,
       "grid_template_areas": null,
       "grid_template_columns": null,
       "grid_template_rows": null,
       "height": null,
       "justify_content": null,
       "justify_items": null,
       "left": null,
       "margin": null,
       "max_height": null,
       "max_width": null,
       "min_height": null,
       "min_width": null,
       "object_fit": null,
       "object_position": null,
       "order": null,
       "overflow": null,
       "overflow_x": null,
       "overflow_y": null,
       "padding": null,
       "right": null,
       "top": null,
       "visibility": null,
       "width": null
      }
     },
     "9fdd876bac7643e6bb4b1cbd0a7cbd0d": {
      "model_module": "@jupyter-widgets/controls",
      "model_module_version": "1.5.0",
      "model_name": "HTMLModel",
      "state": {
       "_dom_classes": [],
       "_model_module": "@jupyter-widgets/controls",
       "_model_module_version": "1.5.0",
       "_model_name": "HTMLModel",
       "_view_count": null,
       "_view_module": "@jupyter-widgets/controls",
       "_view_module_version": "1.5.0",
       "_view_name": "HTMLView",
       "description": "",
       "description_tooltip": null,
       "layout": "IPY_MODEL_26dc4da56bf74c5da145e2cfd2efd6d6",
       "placeholder": "​",
       "style": "IPY_MODEL_9fdf866cece043be851e2dc671ea87f8",
       "value": " 466k/466k [00:00&lt;00:00, 2.87MB/s]"
      }
     },
     "9fdf866cece043be851e2dc671ea87f8": {
      "model_module": "@jupyter-widgets/controls",
      "model_module_version": "1.5.0",
      "model_name": "DescriptionStyleModel",
      "state": {
       "_model_module": "@jupyter-widgets/controls",
       "_model_module_version": "1.5.0",
       "_model_name": "DescriptionStyleModel",
       "_view_count": null,
       "_view_module": "@jupyter-widgets/base",
       "_view_module_version": "1.2.0",
       "_view_name": "StyleView",
       "description_width": ""
      }
     },
     "a0090e28d56b44109a54bae21664fef8": {
      "model_module": "@jupyter-widgets/base",
      "model_module_version": "1.2.0",
      "model_name": "LayoutModel",
      "state": {
       "_model_module": "@jupyter-widgets/base",
       "_model_module_version": "1.2.0",
       "_model_name": "LayoutModel",
       "_view_count": null,
       "_view_module": "@jupyter-widgets/base",
       "_view_module_version": "1.2.0",
       "_view_name": "LayoutView",
       "align_content": null,
       "align_items": null,
       "align_self": null,
       "border": null,
       "bottom": null,
       "display": null,
       "flex": null,
       "flex_flow": null,
       "grid_area": null,
       "grid_auto_columns": null,
       "grid_auto_flow": null,
       "grid_auto_rows": null,
       "grid_column": null,
       "grid_gap": null,
       "grid_row": null,
       "grid_template_areas": null,
       "grid_template_columns": null,
       "grid_template_rows": null,
       "height": null,
       "justify_content": null,
       "justify_items": null,
       "left": null,
       "margin": null,
       "max_height": null,
       "max_width": null,
       "min_height": null,
       "min_width": null,
       "object_fit": null,
       "object_position": null,
       "order": null,
       "overflow": null,
       "overflow_x": null,
       "overflow_y": null,
       "padding": null,
       "right": null,
       "top": null,
       "visibility": null,
       "width": null
      }
     },
     "a049d132753f4a708c05a563aab27fca": {
      "model_module": "@jupyter-widgets/base",
      "model_module_version": "1.2.0",
      "model_name": "LayoutModel",
      "state": {
       "_model_module": "@jupyter-widgets/base",
       "_model_module_version": "1.2.0",
       "_model_name": "LayoutModel",
       "_view_count": null,
       "_view_module": "@jupyter-widgets/base",
       "_view_module_version": "1.2.0",
       "_view_name": "LayoutView",
       "align_content": null,
       "align_items": null,
       "align_self": null,
       "border": null,
       "bottom": null,
       "display": null,
       "flex": null,
       "flex_flow": null,
       "grid_area": null,
       "grid_auto_columns": null,
       "grid_auto_flow": null,
       "grid_auto_rows": null,
       "grid_column": null,
       "grid_gap": null,
       "grid_row": null,
       "grid_template_areas": null,
       "grid_template_columns": null,
       "grid_template_rows": null,
       "height": null,
       "justify_content": null,
       "justify_items": null,
       "left": null,
       "margin": null,
       "max_height": null,
       "max_width": null,
       "min_height": null,
       "min_width": null,
       "object_fit": null,
       "object_position": null,
       "order": null,
       "overflow": null,
       "overflow_x": null,
       "overflow_y": null,
       "padding": null,
       "right": null,
       "top": null,
       "visibility": null,
       "width": null
      }
     },
     "a2f8e50328744d7b99875ae53c305625": {
      "model_module": "@jupyter-widgets/base",
      "model_module_version": "1.2.0",
      "model_name": "LayoutModel",
      "state": {
       "_model_module": "@jupyter-widgets/base",
       "_model_module_version": "1.2.0",
       "_model_name": "LayoutModel",
       "_view_count": null,
       "_view_module": "@jupyter-widgets/base",
       "_view_module_version": "1.2.0",
       "_view_name": "LayoutView",
       "align_content": null,
       "align_items": null,
       "align_self": null,
       "border": null,
       "bottom": null,
       "display": null,
       "flex": null,
       "flex_flow": null,
       "grid_area": null,
       "grid_auto_columns": null,
       "grid_auto_flow": null,
       "grid_auto_rows": null,
       "grid_column": null,
       "grid_gap": null,
       "grid_row": null,
       "grid_template_areas": null,
       "grid_template_columns": null,
       "grid_template_rows": null,
       "height": null,
       "justify_content": null,
       "justify_items": null,
       "left": null,
       "margin": null,
       "max_height": null,
       "max_width": null,
       "min_height": null,
       "min_width": null,
       "object_fit": null,
       "object_position": null,
       "order": null,
       "overflow": null,
       "overflow_x": null,
       "overflow_y": null,
       "padding": null,
       "right": null,
       "top": null,
       "visibility": null,
       "width": null
      }
     },
     "a5311980d53a4201b47708597bde92c6": {
      "model_module": "@jupyter-widgets/controls",
      "model_module_version": "1.5.0",
      "model_name": "HTMLModel",
      "state": {
       "_dom_classes": [],
       "_model_module": "@jupyter-widgets/controls",
       "_model_module_version": "1.5.0",
       "_model_name": "HTMLModel",
       "_view_count": null,
       "_view_module": "@jupyter-widgets/controls",
       "_view_module_version": "1.5.0",
       "_view_name": "HTMLView",
       "description": "",
       "description_tooltip": null,
       "layout": "IPY_MODEL_6b5e86c846994b389baf7f044f26ffd6",
       "placeholder": "​",
       "style": "IPY_MODEL_88ae7c45b00f462db3f59e7cec724ffb",
       "value": " 440M/440M [00:01&lt;00:00, 246MB/s]"
      }
     },
     "a6abee766e1d4b6a9bd0e9f90acee4cf": {
      "model_module": "@jupyter-widgets/controls",
      "model_module_version": "1.5.0",
      "model_name": "HBoxModel",
      "state": {
       "_dom_classes": [],
       "_model_module": "@jupyter-widgets/controls",
       "_model_module_version": "1.5.0",
       "_model_name": "HBoxModel",
       "_view_count": null,
       "_view_module": "@jupyter-widgets/controls",
       "_view_module_version": "1.5.0",
       "_view_name": "HBoxView",
       "box_style": "",
       "children": [
        "IPY_MODEL_371012cbb92f4fdb87f14968d7939a95",
        "IPY_MODEL_82af58bf836440b0bfb1db5bd6da8fe3",
        "IPY_MODEL_a8661677788d4ae9b787140374ac999f"
       ],
       "layout": "IPY_MODEL_c8ce5cf52ac64327b217955b0315617c"
      }
     },
     "a7450b628bc6495d87caec5b91646815": {
      "model_module": "@jupyter-widgets/controls",
      "model_module_version": "1.5.0",
      "model_name": "FloatProgressModel",
      "state": {
       "_dom_classes": [],
       "_model_module": "@jupyter-widgets/controls",
       "_model_module_version": "1.5.0",
       "_model_name": "FloatProgressModel",
       "_view_count": null,
       "_view_module": "@jupyter-widgets/controls",
       "_view_module_version": "1.5.0",
       "_view_name": "ProgressView",
       "bar_style": "success",
       "description": "",
       "description_tooltip": null,
       "layout": "IPY_MODEL_557533134780472aba376d13234c690b",
       "max": 466062.0,
       "min": 0.0,
       "orientation": "horizontal",
       "style": "IPY_MODEL_12d34401384e4481ac874ad859f28fdd",
       "value": 466062.0
      }
     },
     "a852a81900f647829341ab32d06706f1": {
      "model_module": "@jupyter-widgets/controls",
      "model_module_version": "1.5.0",
      "model_name": "DescriptionStyleModel",
      "state": {
       "_model_module": "@jupyter-widgets/controls",
       "_model_module_version": "1.5.0",
       "_model_name": "DescriptionStyleModel",
       "_view_count": null,
       "_view_module": "@jupyter-widgets/base",
       "_view_module_version": "1.2.0",
       "_view_name": "StyleView",
       "description_width": ""
      }
     },
     "a8661677788d4ae9b787140374ac999f": {
      "model_module": "@jupyter-widgets/controls",
      "model_module_version": "1.5.0",
      "model_name": "HTMLModel",
      "state": {
       "_dom_classes": [],
       "_model_module": "@jupyter-widgets/controls",
       "_model_module_version": "1.5.0",
       "_model_name": "HTMLModel",
       "_view_count": null,
       "_view_module": "@jupyter-widgets/controls",
       "_view_module_version": "1.5.0",
       "_view_name": "HTMLView",
       "description": "",
       "description_tooltip": null,
       "layout": "IPY_MODEL_f3d8906afa8544a99efba4261d5692e0",
       "placeholder": "​",
       "style": "IPY_MODEL_ce2eaaaac86d425cb78bc4ecd60a6a43",
       "value": " 1958/1958 [00:00&lt;00:00, 14464.87 examples/s]"
      }
     },
     "a8ac1da74a1d4c88815967864b9c21ca": {
      "model_module": "@jupyter-widgets/controls",
      "model_module_version": "1.5.0",
      "model_name": "DescriptionStyleModel",
      "state": {
       "_model_module": "@jupyter-widgets/controls",
       "_model_module_version": "1.5.0",
       "_model_name": "DescriptionStyleModel",
       "_view_count": null,
       "_view_module": "@jupyter-widgets/base",
       "_view_module_version": "1.2.0",
       "_view_name": "StyleView",
       "description_width": ""
      }
     },
     "ab328ce8e0e04fc8905e0ec21f135021": {
      "model_module": "@jupyter-widgets/controls",
      "model_module_version": "1.5.0",
      "model_name": "HBoxModel",
      "state": {
       "_dom_classes": [],
       "_model_module": "@jupyter-widgets/controls",
       "_model_module_version": "1.5.0",
       "_model_name": "HBoxModel",
       "_view_count": null,
       "_view_module": "@jupyter-widgets/controls",
       "_view_module_version": "1.5.0",
       "_view_name": "HBoxView",
       "box_style": "",
       "children": [
        "IPY_MODEL_4867e8d5d3c94dab99f5a1d699ceefac",
        "IPY_MODEL_8978244ef4254b2fbd6b34f10b2711fe",
        "IPY_MODEL_8a0024b8daf04ddf9df71b49282a3a91"
       ],
       "layout": "IPY_MODEL_ac012586bed140acb958d87542a1241b"
      }
     },
     "ac012586bed140acb958d87542a1241b": {
      "model_module": "@jupyter-widgets/base",
      "model_module_version": "1.2.0",
      "model_name": "LayoutModel",
      "state": {
       "_model_module": "@jupyter-widgets/base",
       "_model_module_version": "1.2.0",
       "_model_name": "LayoutModel",
       "_view_count": null,
       "_view_module": "@jupyter-widgets/base",
       "_view_module_version": "1.2.0",
       "_view_name": "LayoutView",
       "align_content": null,
       "align_items": null,
       "align_self": null,
       "border": null,
       "bottom": null,
       "display": null,
       "flex": null,
       "flex_flow": null,
       "grid_area": null,
       "grid_auto_columns": null,
       "grid_auto_flow": null,
       "grid_auto_rows": null,
       "grid_column": null,
       "grid_gap": null,
       "grid_row": null,
       "grid_template_areas": null,
       "grid_template_columns": null,
       "grid_template_rows": null,
       "height": null,
       "justify_content": null,
       "justify_items": null,
       "left": null,
       "margin": null,
       "max_height": null,
       "max_width": null,
       "min_height": null,
       "min_width": null,
       "object_fit": null,
       "object_position": null,
       "order": null,
       "overflow": null,
       "overflow_x": null,
       "overflow_y": null,
       "padding": null,
       "right": null,
       "top": null,
       "visibility": null,
       "width": null
      }
     },
     "b2ac73be472a482e9df9afdeece9d7a2": {
      "model_module": "@jupyter-widgets/controls",
      "model_module_version": "1.5.0",
      "model_name": "HBoxModel",
      "state": {
       "_dom_classes": [],
       "_model_module": "@jupyter-widgets/controls",
       "_model_module_version": "1.5.0",
       "_model_name": "HBoxModel",
       "_view_count": null,
       "_view_module": "@jupyter-widgets/controls",
       "_view_module_version": "1.5.0",
       "_view_name": "HBoxView",
       "box_style": "",
       "children": [
        "IPY_MODEL_5e6200c97e544daa8023d72ad6e3f3ed",
        "IPY_MODEL_b744616169694f53900851749657379d",
        "IPY_MODEL_b47aee8bd530465e8138554a0df3f9d7"
       ],
       "layout": "IPY_MODEL_660d6ccb6c1b4b72a1ca553a305e11ee"
      }
     },
     "b40ad19d71ff4d84a7531d3f00e996b5": {
      "model_module": "@jupyter-widgets/controls",
      "model_module_version": "1.5.0",
      "model_name": "HTMLModel",
      "state": {
       "_dom_classes": [],
       "_model_module": "@jupyter-widgets/controls",
       "_model_module_version": "1.5.0",
       "_model_name": "HTMLModel",
       "_view_count": null,
       "_view_module": "@jupyter-widgets/controls",
       "_view_module_version": "1.5.0",
       "_view_name": "HTMLView",
       "description": "",
       "description_tooltip": null,
       "layout": "IPY_MODEL_185b783a2c014f4380de9b0dbb795b79",
       "placeholder": "​",
       "style": "IPY_MODEL_fbf4ec0084b2444fb09d2be16aa3db63",
       "value": "config.json: 100%"
      }
     },
     "b47aee8bd530465e8138554a0df3f9d7": {
      "model_module": "@jupyter-widgets/controls",
      "model_module_version": "1.5.0",
      "model_name": "HTMLModel",
      "state": {
       "_dom_classes": [],
       "_model_module": "@jupyter-widgets/controls",
       "_model_module_version": "1.5.0",
       "_model_name": "HTMLModel",
       "_view_count": null,
       "_view_module": "@jupyter-widgets/controls",
       "_view_module_version": "1.5.0",
       "_view_name": "HTMLView",
       "description": "",
       "description_tooltip": null,
       "layout": "IPY_MODEL_dd09fe9135cf4417a4f4c6df9dfa18f9",
       "placeholder": "​",
       "style": "IPY_MODEL_c2c772dae7b64a37ba290293cecc6134",
       "value": " 1958/1958 [00:00&lt;00:00, 3723.50 examples/s]"
      }
     },
     "b744616169694f53900851749657379d": {
      "model_module": "@jupyter-widgets/controls",
      "model_module_version": "1.5.0",
      "model_name": "FloatProgressModel",
      "state": {
       "_dom_classes": [],
       "_model_module": "@jupyter-widgets/controls",
       "_model_module_version": "1.5.0",
       "_model_name": "FloatProgressModel",
       "_view_count": null,
       "_view_module": "@jupyter-widgets/controls",
       "_view_module_version": "1.5.0",
       "_view_name": "ProgressView",
       "bar_style": "success",
       "description": "",
       "description_tooltip": null,
       "layout": "IPY_MODEL_90020b9266fc43ac9fdb5134012d708e",
       "max": 1958.0,
       "min": 0.0,
       "orientation": "horizontal",
       "style": "IPY_MODEL_1a3ec44e6166412bb0bac72f73754002",
       "value": 1958.0
      }
     },
     "b98f3436aac543acb975a28061166e49": {
      "model_module": "@jupyter-widgets/controls",
      "model_module_version": "1.5.0",
      "model_name": "ProgressStyleModel",
      "state": {
       "_model_module": "@jupyter-widgets/controls",
       "_model_module_version": "1.5.0",
       "_model_name": "ProgressStyleModel",
       "_view_count": null,
       "_view_module": "@jupyter-widgets/base",
       "_view_module_version": "1.2.0",
       "_view_name": "StyleView",
       "bar_color": null,
       "description_width": ""
      }
     },
     "bd944bbb5d67464caefd12628f85ab39": {
      "model_module": "@jupyter-widgets/controls",
      "model_module_version": "1.5.0",
      "model_name": "FloatProgressModel",
      "state": {
       "_dom_classes": [],
       "_model_module": "@jupyter-widgets/controls",
       "_model_module_version": "1.5.0",
       "_model_name": "FloatProgressModel",
       "_view_count": null,
       "_view_module": "@jupyter-widgets/controls",
       "_view_module_version": "1.5.0",
       "_view_name": "ProgressView",
       "bar_style": "success",
       "description": "",
       "description_tooltip": null,
       "layout": "IPY_MODEL_f3c0e281dd9646ddbef728c9c8e0418a",
       "max": 245.0,
       "min": 0.0,
       "orientation": "horizontal",
       "style": "IPY_MODEL_50deaf46890742eb8a5ebc257f34ca9b",
       "value": 245.0
      }
     },
     "c2c772dae7b64a37ba290293cecc6134": {
      "model_module": "@jupyter-widgets/controls",
      "model_module_version": "1.5.0",
      "model_name": "DescriptionStyleModel",
      "state": {
       "_model_module": "@jupyter-widgets/controls",
       "_model_module_version": "1.5.0",
       "_model_name": "DescriptionStyleModel",
       "_view_count": null,
       "_view_module": "@jupyter-widgets/base",
       "_view_module_version": "1.2.0",
       "_view_name": "StyleView",
       "description_width": ""
      }
     },
     "c46204a259f249b1af46c5b6cd7bd8ee": {
      "model_module": "@jupyter-widgets/controls",
      "model_module_version": "1.5.0",
      "model_name": "HTMLModel",
      "state": {
       "_dom_classes": [],
       "_model_module": "@jupyter-widgets/controls",
       "_model_module_version": "1.5.0",
       "_model_name": "HTMLModel",
       "_view_count": null,
       "_view_module": "@jupyter-widgets/controls",
       "_view_module_version": "1.5.0",
       "_view_name": "HTMLView",
       "description": "",
       "description_tooltip": null,
       "layout": "IPY_MODEL_2b8fe1b858fe4d2a9b18154083e91ed4",
       "placeholder": "​",
       "style": "IPY_MODEL_e082e1c12d224031b5741094f78d21d3",
       "value": " 48.0/48.0 [00:00&lt;00:00, 4.63kB/s]"
      }
     },
     "c7e707a4daab46b98c070fa3e7133ad1": {
      "model_module": "@jupyter-widgets/base",
      "model_module_version": "1.2.0",
      "model_name": "LayoutModel",
      "state": {
       "_model_module": "@jupyter-widgets/base",
       "_model_module_version": "1.2.0",
       "_model_name": "LayoutModel",
       "_view_count": null,
       "_view_module": "@jupyter-widgets/base",
       "_view_module_version": "1.2.0",
       "_view_name": "LayoutView",
       "align_content": null,
       "align_items": null,
       "align_self": null,
       "border": null,
       "bottom": null,
       "display": null,
       "flex": null,
       "flex_flow": null,
       "grid_area": null,
       "grid_auto_columns": null,
       "grid_auto_flow": null,
       "grid_auto_rows": null,
       "grid_column": null,
       "grid_gap": null,
       "grid_row": null,
       "grid_template_areas": null,
       "grid_template_columns": null,
       "grid_template_rows": null,
       "height": null,
       "justify_content": null,
       "justify_items": null,
       "left": null,
       "margin": null,
       "max_height": null,
       "max_width": null,
       "min_height": null,
       "min_width": null,
       "object_fit": null,
       "object_position": null,
       "order": null,
       "overflow": null,
       "overflow_x": null,
       "overflow_y": null,
       "padding": null,
       "right": null,
       "top": null,
       "visibility": null,
       "width": null
      }
     },
     "c8c90e9822d54afba2defa56cd9c6a69": {
      "model_module": "@jupyter-widgets/controls",
      "model_module_version": "1.5.0",
      "model_name": "HTMLModel",
      "state": {
       "_dom_classes": [],
       "_model_module": "@jupyter-widgets/controls",
       "_model_module_version": "1.5.0",
       "_model_name": "HTMLModel",
       "_view_count": null,
       "_view_module": "@jupyter-widgets/controls",
       "_view_module_version": "1.5.0",
       "_view_name": "HTMLView",
       "description": "",
       "description_tooltip": null,
       "layout": "IPY_MODEL_4991f5f8980149f3a1925e1f2c1e8d65",
       "placeholder": "​",
       "style": "IPY_MODEL_6bb43b20d5614df7a8bec40f0d834583",
       "value": "tokenizer.json: 100%"
      }
     },
     "c8ce5cf52ac64327b217955b0315617c": {
      "model_module": "@jupyter-widgets/base",
      "model_module_version": "1.2.0",
      "model_name": "LayoutModel",
      "state": {
       "_model_module": "@jupyter-widgets/base",
       "_model_module_version": "1.2.0",
       "_model_name": "LayoutModel",
       "_view_count": null,
       "_view_module": "@jupyter-widgets/base",
       "_view_module_version": "1.2.0",
       "_view_name": "LayoutView",
       "align_content": null,
       "align_items": null,
       "align_self": null,
       "border": null,
       "bottom": null,
       "display": null,
       "flex": null,
       "flex_flow": null,
       "grid_area": null,
       "grid_auto_columns": null,
       "grid_auto_flow": null,
       "grid_auto_rows": null,
       "grid_column": null,
       "grid_gap": null,
       "grid_row": null,
       "grid_template_areas": null,
       "grid_template_columns": null,
       "grid_template_rows": null,
       "height": null,
       "justify_content": null,
       "justify_items": null,
       "left": null,
       "margin": null,
       "max_height": null,
       "max_width": null,
       "min_height": null,
       "min_width": null,
       "object_fit": null,
       "object_position": null,
       "order": null,
       "overflow": null,
       "overflow_x": null,
       "overflow_y": null,
       "padding": null,
       "right": null,
       "top": null,
       "visibility": null,
       "width": null
      }
     },
     "cadd86173d6e469ab6697edead138e4f": {
      "model_module": "@jupyter-widgets/base",
      "model_module_version": "1.2.0",
      "model_name": "LayoutModel",
      "state": {
       "_model_module": "@jupyter-widgets/base",
       "_model_module_version": "1.2.0",
       "_model_name": "LayoutModel",
       "_view_count": null,
       "_view_module": "@jupyter-widgets/base",
       "_view_module_version": "1.2.0",
       "_view_name": "LayoutView",
       "align_content": null,
       "align_items": null,
       "align_self": null,
       "border": null,
       "bottom": null,
       "display": null,
       "flex": null,
       "flex_flow": null,
       "grid_area": null,
       "grid_auto_columns": null,
       "grid_auto_flow": null,
       "grid_auto_rows": null,
       "grid_column": null,
       "grid_gap": null,
       "grid_row": null,
       "grid_template_areas": null,
       "grid_template_columns": null,
       "grid_template_rows": null,
       "height": null,
       "justify_content": null,
       "justify_items": null,
       "left": null,
       "margin": null,
       "max_height": null,
       "max_width": null,
       "min_height": null,
       "min_width": null,
       "object_fit": null,
       "object_position": null,
       "order": null,
       "overflow": null,
       "overflow_x": null,
       "overflow_y": null,
       "padding": null,
       "right": null,
       "top": null,
       "visibility": null,
       "width": null
      }
     },
     "ce2eaaaac86d425cb78bc4ecd60a6a43": {
      "model_module": "@jupyter-widgets/controls",
      "model_module_version": "1.5.0",
      "model_name": "DescriptionStyleModel",
      "state": {
       "_model_module": "@jupyter-widgets/controls",
       "_model_module_version": "1.5.0",
       "_model_name": "DescriptionStyleModel",
       "_view_count": null,
       "_view_module": "@jupyter-widgets/base",
       "_view_module_version": "1.2.0",
       "_view_name": "StyleView",
       "description_width": ""
      }
     },
     "cec21c915ae840aea9a4c57dd6989e06": {
      "model_module": "@jupyter-widgets/base",
      "model_module_version": "1.2.0",
      "model_name": "LayoutModel",
      "state": {
       "_model_module": "@jupyter-widgets/base",
       "_model_module_version": "1.2.0",
       "_model_name": "LayoutModel",
       "_view_count": null,
       "_view_module": "@jupyter-widgets/base",
       "_view_module_version": "1.2.0",
       "_view_name": "LayoutView",
       "align_content": null,
       "align_items": null,
       "align_self": null,
       "border": null,
       "bottom": null,
       "display": null,
       "flex": null,
       "flex_flow": null,
       "grid_area": null,
       "grid_auto_columns": null,
       "grid_auto_flow": null,
       "grid_auto_rows": null,
       "grid_column": null,
       "grid_gap": null,
       "grid_row": null,
       "grid_template_areas": null,
       "grid_template_columns": null,
       "grid_template_rows": null,
       "height": null,
       "justify_content": null,
       "justify_items": null,
       "left": null,
       "margin": null,
       "max_height": null,
       "max_width": null,
       "min_height": null,
       "min_width": null,
       "object_fit": null,
       "object_position": null,
       "order": null,
       "overflow": null,
       "overflow_x": null,
       "overflow_y": null,
       "padding": null,
       "right": null,
       "top": null,
       "visibility": null,
       "width": null
      }
     },
     "cedb7a954dc541478d4d5473cdb98a64": {
      "model_module": "@jupyter-widgets/controls",
      "model_module_version": "1.5.0",
      "model_name": "FloatProgressModel",
      "state": {
       "_dom_classes": [],
       "_model_module": "@jupyter-widgets/controls",
       "_model_module_version": "1.5.0",
       "_model_name": "FloatProgressModel",
       "_view_count": null,
       "_view_module": "@jupyter-widgets/controls",
       "_view_module_version": "1.5.0",
       "_view_name": "ProgressView",
       "bar_style": "success",
       "description": "",
       "description_tooltip": null,
       "layout": "IPY_MODEL_6abe1bddf0874ef6b9b1a2c0d2be2379",
       "max": 245.0,
       "min": 0.0,
       "orientation": "horizontal",
       "style": "IPY_MODEL_1ce5cc56f29048b5abeb9d28288ce498",
       "value": 245.0
      }
     },
     "d1466bfccf024115bfc522072fa897e5": {
      "model_module": "@jupyter-widgets/base",
      "model_module_version": "1.2.0",
      "model_name": "LayoutModel",
      "state": {
       "_model_module": "@jupyter-widgets/base",
       "_model_module_version": "1.2.0",
       "_model_name": "LayoutModel",
       "_view_count": null,
       "_view_module": "@jupyter-widgets/base",
       "_view_module_version": "1.2.0",
       "_view_name": "LayoutView",
       "align_content": null,
       "align_items": null,
       "align_self": null,
       "border": null,
       "bottom": null,
       "display": null,
       "flex": null,
       "flex_flow": null,
       "grid_area": null,
       "grid_auto_columns": null,
       "grid_auto_flow": null,
       "grid_auto_rows": null,
       "grid_column": null,
       "grid_gap": null,
       "grid_row": null,
       "grid_template_areas": null,
       "grid_template_columns": null,
       "grid_template_rows": null,
       "height": null,
       "justify_content": null,
       "justify_items": null,
       "left": null,
       "margin": null,
       "max_height": null,
       "max_width": null,
       "min_height": null,
       "min_width": null,
       "object_fit": null,
       "object_position": null,
       "order": null,
       "overflow": null,
       "overflow_x": null,
       "overflow_y": null,
       "padding": null,
       "right": null,
       "top": null,
       "visibility": null,
       "width": null
      }
     },
     "d1e0ed2c06b34cb58151e604e8778f1e": {
      "model_module": "@jupyter-widgets/controls",
      "model_module_version": "1.5.0",
      "model_name": "DescriptionStyleModel",
      "state": {
       "_model_module": "@jupyter-widgets/controls",
       "_model_module_version": "1.5.0",
       "_model_name": "DescriptionStyleModel",
       "_view_count": null,
       "_view_module": "@jupyter-widgets/base",
       "_view_module_version": "1.2.0",
       "_view_name": "StyleView",
       "description_width": ""
      }
     },
     "d330267eadb54f11a293f9ca6dc994d2": {
      "model_module": "@jupyter-widgets/controls",
      "model_module_version": "1.5.0",
      "model_name": "DescriptionStyleModel",
      "state": {
       "_model_module": "@jupyter-widgets/controls",
       "_model_module_version": "1.5.0",
       "_model_name": "DescriptionStyleModel",
       "_view_count": null,
       "_view_module": "@jupyter-widgets/base",
       "_view_module_version": "1.2.0",
       "_view_name": "StyleView",
       "description_width": ""
      }
     },
     "d3eb6606451e4be7af834c27b0a0c4b3": {
      "model_module": "@jupyter-widgets/base",
      "model_module_version": "1.2.0",
      "model_name": "LayoutModel",
      "state": {
       "_model_module": "@jupyter-widgets/base",
       "_model_module_version": "1.2.0",
       "_model_name": "LayoutModel",
       "_view_count": null,
       "_view_module": "@jupyter-widgets/base",
       "_view_module_version": "1.2.0",
       "_view_name": "LayoutView",
       "align_content": null,
       "align_items": null,
       "align_self": null,
       "border": null,
       "bottom": null,
       "display": null,
       "flex": null,
       "flex_flow": null,
       "grid_area": null,
       "grid_auto_columns": null,
       "grid_auto_flow": null,
       "grid_auto_rows": null,
       "grid_column": null,
       "grid_gap": null,
       "grid_row": null,
       "grid_template_areas": null,
       "grid_template_columns": null,
       "grid_template_rows": null,
       "height": null,
       "justify_content": null,
       "justify_items": null,
       "left": null,
       "margin": null,
       "max_height": null,
       "max_width": null,
       "min_height": null,
       "min_width": null,
       "object_fit": null,
       "object_position": null,
       "order": null,
       "overflow": null,
       "overflow_x": null,
       "overflow_y": null,
       "padding": null,
       "right": null,
       "top": null,
       "visibility": null,
       "width": null
      }
     },
     "d426311f5c714312a2c4bb2999a97d66": {
      "model_module": "@jupyter-widgets/controls",
      "model_module_version": "1.5.0",
      "model_name": "DescriptionStyleModel",
      "state": {
       "_model_module": "@jupyter-widgets/controls",
       "_model_module_version": "1.5.0",
       "_model_name": "DescriptionStyleModel",
       "_view_count": null,
       "_view_module": "@jupyter-widgets/base",
       "_view_module_version": "1.2.0",
       "_view_name": "StyleView",
       "description_width": ""
      }
     },
     "d69c863f289b4520952cd5e4a67c9b88": {
      "model_module": "@jupyter-widgets/controls",
      "model_module_version": "1.5.0",
      "model_name": "ProgressStyleModel",
      "state": {
       "_model_module": "@jupyter-widgets/controls",
       "_model_module_version": "1.5.0",
       "_model_name": "ProgressStyleModel",
       "_view_count": null,
       "_view_module": "@jupyter-widgets/base",
       "_view_module_version": "1.2.0",
       "_view_name": "StyleView",
       "bar_color": null,
       "description_width": ""
      }
     },
     "d99e04825ead4e9791e42c931cb74a54": {
      "model_module": "@jupyter-widgets/controls",
      "model_module_version": "1.5.0",
      "model_name": "HTMLModel",
      "state": {
       "_dom_classes": [],
       "_model_module": "@jupyter-widgets/controls",
       "_model_module_version": "1.5.0",
       "_model_name": "HTMLModel",
       "_view_count": null,
       "_view_module": "@jupyter-widgets/controls",
       "_view_module_version": "1.5.0",
       "_view_name": "HTMLView",
       "description": "",
       "description_tooltip": null,
       "layout": "IPY_MODEL_362a2dea65cd49f48d5f307002b3534a",
       "placeholder": "​",
       "style": "IPY_MODEL_50fe49c1ca224132b04f1cd83d241aa1",
       "value": "Map: 100%"
      }
     },
     "dbcfa4d941f941259b3e2ea7d6cb1de2": {
      "model_module": "@jupyter-widgets/base",
      "model_module_version": "1.2.0",
      "model_name": "LayoutModel",
      "state": {
       "_model_module": "@jupyter-widgets/base",
       "_model_module_version": "1.2.0",
       "_model_name": "LayoutModel",
       "_view_count": null,
       "_view_module": "@jupyter-widgets/base",
       "_view_module_version": "1.2.0",
       "_view_name": "LayoutView",
       "align_content": null,
       "align_items": null,
       "align_self": null,
       "border": null,
       "bottom": null,
       "display": null,
       "flex": null,
       "flex_flow": null,
       "grid_area": null,
       "grid_auto_columns": null,
       "grid_auto_flow": null,
       "grid_auto_rows": null,
       "grid_column": null,
       "grid_gap": null,
       "grid_row": null,
       "grid_template_areas": null,
       "grid_template_columns": null,
       "grid_template_rows": null,
       "height": null,
       "justify_content": null,
       "justify_items": null,
       "left": null,
       "margin": null,
       "max_height": null,
       "max_width": null,
       "min_height": null,
       "min_width": null,
       "object_fit": null,
       "object_position": null,
       "order": null,
       "overflow": null,
       "overflow_x": null,
       "overflow_y": null,
       "padding": null,
       "right": null,
       "top": null,
       "visibility": null,
       "width": null
      }
     },
     "dd09fe9135cf4417a4f4c6df9dfa18f9": {
      "model_module": "@jupyter-widgets/base",
      "model_module_version": "1.2.0",
      "model_name": "LayoutModel",
      "state": {
       "_model_module": "@jupyter-widgets/base",
       "_model_module_version": "1.2.0",
       "_model_name": "LayoutModel",
       "_view_count": null,
       "_view_module": "@jupyter-widgets/base",
       "_view_module_version": "1.2.0",
       "_view_name": "LayoutView",
       "align_content": null,
       "align_items": null,
       "align_self": null,
       "border": null,
       "bottom": null,
       "display": null,
       "flex": null,
       "flex_flow": null,
       "grid_area": null,
       "grid_auto_columns": null,
       "grid_auto_flow": null,
       "grid_auto_rows": null,
       "grid_column": null,
       "grid_gap": null,
       "grid_row": null,
       "grid_template_areas": null,
       "grid_template_columns": null,
       "grid_template_rows": null,
       "height": null,
       "justify_content": null,
       "justify_items": null,
       "left": null,
       "margin": null,
       "max_height": null,
       "max_width": null,
       "min_height": null,
       "min_width": null,
       "object_fit": null,
       "object_position": null,
       "order": null,
       "overflow": null,
       "overflow_x": null,
       "overflow_y": null,
       "padding": null,
       "right": null,
       "top": null,
       "visibility": null,
       "width": null
      }
     },
     "debe3e6786874e48acf12a3598c422d9": {
      "model_module": "@jupyter-widgets/controls",
      "model_module_version": "1.5.0",
      "model_name": "HBoxModel",
      "state": {
       "_dom_classes": [],
       "_model_module": "@jupyter-widgets/controls",
       "_model_module_version": "1.5.0",
       "_model_name": "HBoxModel",
       "_view_count": null,
       "_view_module": "@jupyter-widgets/controls",
       "_view_module_version": "1.5.0",
       "_view_name": "HBoxView",
       "box_style": "",
       "children": [
        "IPY_MODEL_6ac75799f64144d2869e0cb7042df4c4",
        "IPY_MODEL_6232ec88aca54c74b29e886960e0624d",
        "IPY_MODEL_a5311980d53a4201b47708597bde92c6"
       ],
       "layout": "IPY_MODEL_ef96b709c62246339b67a4be3b5793d7"
      }
     },
     "df08022014754ba897b82e53ad686efa": {
      "model_module": "@jupyter-widgets/base",
      "model_module_version": "1.2.0",
      "model_name": "LayoutModel",
      "state": {
       "_model_module": "@jupyter-widgets/base",
       "_model_module_version": "1.2.0",
       "_model_name": "LayoutModel",
       "_view_count": null,
       "_view_module": "@jupyter-widgets/base",
       "_view_module_version": "1.2.0",
       "_view_name": "LayoutView",
       "align_content": null,
       "align_items": null,
       "align_self": null,
       "border": null,
       "bottom": null,
       "display": null,
       "flex": null,
       "flex_flow": null,
       "grid_area": null,
       "grid_auto_columns": null,
       "grid_auto_flow": null,
       "grid_auto_rows": null,
       "grid_column": null,
       "grid_gap": null,
       "grid_row": null,
       "grid_template_areas": null,
       "grid_template_columns": null,
       "grid_template_rows": null,
       "height": null,
       "justify_content": null,
       "justify_items": null,
       "left": null,
       "margin": null,
       "max_height": null,
       "max_width": null,
       "min_height": null,
       "min_width": null,
       "object_fit": null,
       "object_position": null,
       "order": null,
       "overflow": null,
       "overflow_x": null,
       "overflow_y": null,
       "padding": null,
       "right": null,
       "top": null,
       "visibility": null,
       "width": null
      }
     },
     "df3bcfd722424532b94cea0629bacab1": {
      "model_module": "@jupyter-widgets/base",
      "model_module_version": "1.2.0",
      "model_name": "LayoutModel",
      "state": {
       "_model_module": "@jupyter-widgets/base",
       "_model_module_version": "1.2.0",
       "_model_name": "LayoutModel",
       "_view_count": null,
       "_view_module": "@jupyter-widgets/base",
       "_view_module_version": "1.2.0",
       "_view_name": "LayoutView",
       "align_content": null,
       "align_items": null,
       "align_self": null,
       "border": null,
       "bottom": null,
       "display": null,
       "flex": null,
       "flex_flow": null,
       "grid_area": null,
       "grid_auto_columns": null,
       "grid_auto_flow": null,
       "grid_auto_rows": null,
       "grid_column": null,
       "grid_gap": null,
       "grid_row": null,
       "grid_template_areas": null,
       "grid_template_columns": null,
       "grid_template_rows": null,
       "height": null,
       "justify_content": null,
       "justify_items": null,
       "left": null,
       "margin": null,
       "max_height": null,
       "max_width": null,
       "min_height": null,
       "min_width": null,
       "object_fit": null,
       "object_position": null,
       "order": null,
       "overflow": null,
       "overflow_x": null,
       "overflow_y": null,
       "padding": null,
       "right": null,
       "top": null,
       "visibility": null,
       "width": null
      }
     },
     "e082e1c12d224031b5741094f78d21d3": {
      "model_module": "@jupyter-widgets/controls",
      "model_module_version": "1.5.0",
      "model_name": "DescriptionStyleModel",
      "state": {
       "_model_module": "@jupyter-widgets/controls",
       "_model_module_version": "1.5.0",
       "_model_name": "DescriptionStyleModel",
       "_view_count": null,
       "_view_module": "@jupyter-widgets/base",
       "_view_module_version": "1.2.0",
       "_view_name": "StyleView",
       "description_width": ""
      }
     },
     "e4078f493ead4f7ba5c19f800c9406ac": {
      "model_module": "@jupyter-widgets/controls",
      "model_module_version": "1.5.0",
      "model_name": "HTMLModel",
      "state": {
       "_dom_classes": [],
       "_model_module": "@jupyter-widgets/controls",
       "_model_module_version": "1.5.0",
       "_model_name": "HTMLModel",
       "_view_count": null,
       "_view_module": "@jupyter-widgets/controls",
       "_view_module_version": "1.5.0",
       "_view_name": "HTMLView",
       "description": "",
       "description_tooltip": null,
       "layout": "IPY_MODEL_a049d132753f4a708c05a563aab27fca",
       "placeholder": "​",
       "style": "IPY_MODEL_03a5250d02e54532b3b0dbf783da9c95",
       "value": " 6.47k/6.47k [00:00&lt;00:00, 648kB/s]"
      }
     },
     "e43b8d77ee844118a00fbf43818f57da": {
      "model_module": "@jupyter-widgets/base",
      "model_module_version": "1.2.0",
      "model_name": "LayoutModel",
      "state": {
       "_model_module": "@jupyter-widgets/base",
       "_model_module_version": "1.2.0",
       "_model_name": "LayoutModel",
       "_view_count": null,
       "_view_module": "@jupyter-widgets/base",
       "_view_module_version": "1.2.0",
       "_view_name": "LayoutView",
       "align_content": null,
       "align_items": null,
       "align_self": null,
       "border": null,
       "bottom": null,
       "display": null,
       "flex": null,
       "flex_flow": null,
       "grid_area": null,
       "grid_auto_columns": null,
       "grid_auto_flow": null,
       "grid_auto_rows": null,
       "grid_column": null,
       "grid_gap": null,
       "grid_row": null,
       "grid_template_areas": null,
       "grid_template_columns": null,
       "grid_template_rows": null,
       "height": null,
       "justify_content": null,
       "justify_items": null,
       "left": null,
       "margin": null,
       "max_height": null,
       "max_width": null,
       "min_height": null,
       "min_width": null,
       "object_fit": null,
       "object_position": null,
       "order": null,
       "overflow": null,
       "overflow_x": null,
       "overflow_y": null,
       "padding": null,
       "right": null,
       "top": null,
       "visibility": null,
       "width": null
      }
     },
     "e7671d78774f42539d1baca7acb99798": {
      "model_module": "@jupyter-widgets/controls",
      "model_module_version": "1.5.0",
      "model_name": "FloatProgressModel",
      "state": {
       "_dom_classes": [],
       "_model_module": "@jupyter-widgets/controls",
       "_model_module_version": "1.5.0",
       "_model_name": "FloatProgressModel",
       "_view_count": null,
       "_view_module": "@jupyter-widgets/controls",
       "_view_module_version": "1.5.0",
       "_view_name": "ProgressView",
       "bar_style": "success",
       "description": "",
       "description_tooltip": null,
       "layout": "IPY_MODEL_c7e707a4daab46b98c070fa3e7133ad1",
       "max": 6474.0,
       "min": 0.0,
       "orientation": "horizontal",
       "style": "IPY_MODEL_4bbf2a52c979431a98278f666e4daa86",
       "value": 6474.0
      }
     },
     "e9434df3af9d46d1b20e3307ecb5cec0": {
      "model_module": "@jupyter-widgets/controls",
      "model_module_version": "1.5.0",
      "model_name": "HBoxModel",
      "state": {
       "_dom_classes": [],
       "_model_module": "@jupyter-widgets/controls",
       "_model_module_version": "1.5.0",
       "_model_name": "HBoxModel",
       "_view_count": null,
       "_view_module": "@jupyter-widgets/controls",
       "_view_module_version": "1.5.0",
       "_view_name": "HBoxView",
       "box_style": "",
       "children": [
        "IPY_MODEL_7b027181db7642ebbb78827670e063fe",
        "IPY_MODEL_e7671d78774f42539d1baca7acb99798",
        "IPY_MODEL_e4078f493ead4f7ba5c19f800c9406ac"
       ],
       "layout": "IPY_MODEL_cec21c915ae840aea9a4c57dd6989e06"
      }
     },
     "e972a5ed35c2408e880b53c14d887a5c": {
      "model_module": "@jupyter-widgets/base",
      "model_module_version": "1.2.0",
      "model_name": "LayoutModel",
      "state": {
       "_model_module": "@jupyter-widgets/base",
       "_model_module_version": "1.2.0",
       "_model_name": "LayoutModel",
       "_view_count": null,
       "_view_module": "@jupyter-widgets/base",
       "_view_module_version": "1.2.0",
       "_view_name": "LayoutView",
       "align_content": null,
       "align_items": null,
       "align_self": null,
       "border": null,
       "bottom": null,
       "display": null,
       "flex": null,
       "flex_flow": null,
       "grid_area": null,
       "grid_auto_columns": null,
       "grid_auto_flow": null,
       "grid_auto_rows": null,
       "grid_column": null,
       "grid_gap": null,
       "grid_row": null,
       "grid_template_areas": null,
       "grid_template_columns": null,
       "grid_template_rows": null,
       "height": null,
       "justify_content": null,
       "justify_items": null,
       "left": null,
       "margin": null,
       "max_height": null,
       "max_width": null,
       "min_height": null,
       "min_width": null,
       "object_fit": null,
       "object_position": null,
       "order": null,
       "overflow": null,
       "overflow_x": null,
       "overflow_y": null,
       "padding": null,
       "right": null,
       "top": null,
       "visibility": null,
       "width": null
      }
     },
     "e9845aef3b3c4b8e91bb2b977cc6445f": {
      "model_module": "@jupyter-widgets/controls",
      "model_module_version": "1.5.0",
      "model_name": "ProgressStyleModel",
      "state": {
       "_model_module": "@jupyter-widgets/controls",
       "_model_module_version": "1.5.0",
       "_model_name": "ProgressStyleModel",
       "_view_count": null,
       "_view_module": "@jupyter-widgets/base",
       "_view_module_version": "1.2.0",
       "_view_name": "StyleView",
       "bar_color": null,
       "description_width": ""
      }
     },
     "ec511580ed8e49f19949e76b10c05188": {
      "model_module": "@jupyter-widgets/controls",
      "model_module_version": "1.5.0",
      "model_name": "HBoxModel",
      "state": {
       "_dom_classes": [],
       "_model_module": "@jupyter-widgets/controls",
       "_model_module_version": "1.5.0",
       "_model_name": "HBoxModel",
       "_view_count": null,
       "_view_module": "@jupyter-widgets/controls",
       "_view_module_version": "1.5.0",
       "_view_name": "HBoxView",
       "box_style": "",
       "children": [
        "IPY_MODEL_035e31e6539f4e87b7c6aa000a2f9342",
        "IPY_MODEL_3888e2a2d9ce4afd9797afefd421e3fa",
        "IPY_MODEL_6835af49973d45d2ae649ddaafc89f00"
       ],
       "layout": "IPY_MODEL_cadd86173d6e469ab6697edead138e4f"
      }
     },
     "ee3ac5f65dbd4b0891039b73210f3b03": {
      "model_module": "@jupyter-widgets/controls",
      "model_module_version": "1.5.0",
      "model_name": "FloatProgressModel",
      "state": {
       "_dom_classes": [],
       "_model_module": "@jupyter-widgets/controls",
       "_model_module_version": "1.5.0",
       "_model_name": "FloatProgressModel",
       "_view_count": null,
       "_view_module": "@jupyter-widgets/controls",
       "_view_module_version": "1.5.0",
       "_view_name": "ProgressView",
       "bar_style": "success",
       "description": "",
       "description_tooltip": null,
       "layout": "IPY_MODEL_778f35af28f848f0bf9f0a9a7808251b",
       "max": 245.0,
       "min": 0.0,
       "orientation": "horizontal",
       "style": "IPY_MODEL_0a7429ded0c74c9fac51a924732a41b4",
       "value": 245.0
      }
     },
     "ef38eb9296f24165bda1da99182a2d62": {
      "model_module": "@jupyter-widgets/base",
      "model_module_version": "1.2.0",
      "model_name": "LayoutModel",
      "state": {
       "_model_module": "@jupyter-widgets/base",
       "_model_module_version": "1.2.0",
       "_model_name": "LayoutModel",
       "_view_count": null,
       "_view_module": "@jupyter-widgets/base",
       "_view_module_version": "1.2.0",
       "_view_name": "LayoutView",
       "align_content": null,
       "align_items": null,
       "align_self": null,
       "border": null,
       "bottom": null,
       "display": null,
       "flex": null,
       "flex_flow": null,
       "grid_area": null,
       "grid_auto_columns": null,
       "grid_auto_flow": null,
       "grid_auto_rows": null,
       "grid_column": null,
       "grid_gap": null,
       "grid_row": null,
       "grid_template_areas": null,
       "grid_template_columns": null,
       "grid_template_rows": null,
       "height": null,
       "justify_content": null,
       "justify_items": null,
       "left": null,
       "margin": null,
       "max_height": null,
       "max_width": null,
       "min_height": null,
       "min_width": null,
       "object_fit": null,
       "object_position": null,
       "order": null,
       "overflow": null,
       "overflow_x": null,
       "overflow_y": null,
       "padding": null,
       "right": null,
       "top": null,
       "visibility": null,
       "width": null
      }
     },
     "ef96b709c62246339b67a4be3b5793d7": {
      "model_module": "@jupyter-widgets/base",
      "model_module_version": "1.2.0",
      "model_name": "LayoutModel",
      "state": {
       "_model_module": "@jupyter-widgets/base",
       "_model_module_version": "1.2.0",
       "_model_name": "LayoutModel",
       "_view_count": null,
       "_view_module": "@jupyter-widgets/base",
       "_view_module_version": "1.2.0",
       "_view_name": "LayoutView",
       "align_content": null,
       "align_items": null,
       "align_self": null,
       "border": null,
       "bottom": null,
       "display": null,
       "flex": null,
       "flex_flow": null,
       "grid_area": null,
       "grid_auto_columns": null,
       "grid_auto_flow": null,
       "grid_auto_rows": null,
       "grid_column": null,
       "grid_gap": null,
       "grid_row": null,
       "grid_template_areas": null,
       "grid_template_columns": null,
       "grid_template_rows": null,
       "height": null,
       "justify_content": null,
       "justify_items": null,
       "left": null,
       "margin": null,
       "max_height": null,
       "max_width": null,
       "min_height": null,
       "min_width": null,
       "object_fit": null,
       "object_position": null,
       "order": null,
       "overflow": null,
       "overflow_x": null,
       "overflow_y": null,
       "padding": null,
       "right": null,
       "top": null,
       "visibility": null,
       "width": null
      }
     },
     "f39ba17c31644f819688d663b20679af": {
      "model_module": "@jupyter-widgets/controls",
      "model_module_version": "1.5.0",
      "model_name": "ProgressStyleModel",
      "state": {
       "_model_module": "@jupyter-widgets/controls",
       "_model_module_version": "1.5.0",
       "_model_name": "ProgressStyleModel",
       "_view_count": null,
       "_view_module": "@jupyter-widgets/base",
       "_view_module_version": "1.2.0",
       "_view_name": "StyleView",
       "bar_color": null,
       "description_width": ""
      }
     },
     "f3c0e281dd9646ddbef728c9c8e0418a": {
      "model_module": "@jupyter-widgets/base",
      "model_module_version": "1.2.0",
      "model_name": "LayoutModel",
      "state": {
       "_model_module": "@jupyter-widgets/base",
       "_model_module_version": "1.2.0",
       "_model_name": "LayoutModel",
       "_view_count": null,
       "_view_module": "@jupyter-widgets/base",
       "_view_module_version": "1.2.0",
       "_view_name": "LayoutView",
       "align_content": null,
       "align_items": null,
       "align_self": null,
       "border": null,
       "bottom": null,
       "display": null,
       "flex": null,
       "flex_flow": null,
       "grid_area": null,
       "grid_auto_columns": null,
       "grid_auto_flow": null,
       "grid_auto_rows": null,
       "grid_column": null,
       "grid_gap": null,
       "grid_row": null,
       "grid_template_areas": null,
       "grid_template_columns": null,
       "grid_template_rows": null,
       "height": null,
       "justify_content": null,
       "justify_items": null,
       "left": null,
       "margin": null,
       "max_height": null,
       "max_width": null,
       "min_height": null,
       "min_width": null,
       "object_fit": null,
       "object_position": null,
       "order": null,
       "overflow": null,
       "overflow_x": null,
       "overflow_y": null,
       "padding": null,
       "right": null,
       "top": null,
       "visibility": null,
       "width": null
      }
     },
     "f3d8906afa8544a99efba4261d5692e0": {
      "model_module": "@jupyter-widgets/base",
      "model_module_version": "1.2.0",
      "model_name": "LayoutModel",
      "state": {
       "_model_module": "@jupyter-widgets/base",
       "_model_module_version": "1.2.0",
       "_model_name": "LayoutModel",
       "_view_count": null,
       "_view_module": "@jupyter-widgets/base",
       "_view_module_version": "1.2.0",
       "_view_name": "LayoutView",
       "align_content": null,
       "align_items": null,
       "align_self": null,
       "border": null,
       "bottom": null,
       "display": null,
       "flex": null,
       "flex_flow": null,
       "grid_area": null,
       "grid_auto_columns": null,
       "grid_auto_flow": null,
       "grid_auto_rows": null,
       "grid_column": null,
       "grid_gap": null,
       "grid_row": null,
       "grid_template_areas": null,
       "grid_template_columns": null,
       "grid_template_rows": null,
       "height": null,
       "justify_content": null,
       "justify_items": null,
       "left": null,
       "margin": null,
       "max_height": null,
       "max_width": null,
       "min_height": null,
       "min_width": null,
       "object_fit": null,
       "object_position": null,
       "order": null,
       "overflow": null,
       "overflow_x": null,
       "overflow_y": null,
       "padding": null,
       "right": null,
       "top": null,
       "visibility": null,
       "width": null
      }
     },
     "f5d10cc9ca2148f891b0cf22d637a360": {
      "model_module": "@jupyter-widgets/controls",
      "model_module_version": "1.5.0",
      "model_name": "HTMLModel",
      "state": {
       "_dom_classes": [],
       "_model_module": "@jupyter-widgets/controls",
       "_model_module_version": "1.5.0",
       "_model_name": "HTMLModel",
       "_view_count": null,
       "_view_module": "@jupyter-widgets/controls",
       "_view_module_version": "1.5.0",
       "_view_name": "HTMLView",
       "description": "",
       "description_tooltip": null,
       "layout": "IPY_MODEL_59ec26c9d9b14eaa848c9988c21a8b10",
       "placeholder": "​",
       "style": "IPY_MODEL_254957044866480ca29d67ad21465fcb",
       "value": "Map: 100%"
      }
     },
     "fbf4ec0084b2444fb09d2be16aa3db63": {
      "model_module": "@jupyter-widgets/controls",
      "model_module_version": "1.5.0",
      "model_name": "DescriptionStyleModel",
      "state": {
       "_model_module": "@jupyter-widgets/controls",
       "_model_module_version": "1.5.0",
       "_model_name": "DescriptionStyleModel",
       "_view_count": null,
       "_view_module": "@jupyter-widgets/base",
       "_view_module_version": "1.2.0",
       "_view_name": "StyleView",
       "description_width": ""
      }
     },
     "fd6b420dd8a3475fad21eb5451d99a2d": {
      "model_module": "@jupyter-widgets/controls",
      "model_module_version": "1.5.0",
      "model_name": "HBoxModel",
      "state": {
       "_dom_classes": [],
       "_model_module": "@jupyter-widgets/controls",
       "_model_module_version": "1.5.0",
       "_model_name": "HBoxModel",
       "_view_count": null,
       "_view_module": "@jupyter-widgets/controls",
       "_view_module_version": "1.5.0",
       "_view_name": "HBoxView",
       "box_style": "",
       "children": [
        "IPY_MODEL_f5d10cc9ca2148f891b0cf22d637a360",
        "IPY_MODEL_cedb7a954dc541478d4d5473cdb98a64",
        "IPY_MODEL_99fe33343a844759b6397f3effa9b04e"
       ],
       "layout": "IPY_MODEL_dbcfa4d941f941259b3e2ea7d6cb1de2"
      }
     }
    },
    "version_major": 2,
    "version_minor": 0
   }
  }
 },
 "nbformat": 4,
 "nbformat_minor": 5
}
