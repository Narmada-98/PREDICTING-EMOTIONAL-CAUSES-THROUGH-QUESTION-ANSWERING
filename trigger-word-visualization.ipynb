{
 "cells": [
  {
   "cell_type": "code",
   "execution_count": 1,
   "id": "a30c5e3b",
   "metadata": {
    "execution": {
     "iopub.execute_input": "2024-12-16T09:39:07.688974Z",
     "iopub.status.busy": "2024-12-16T09:39:07.688543Z",
     "iopub.status.idle": "2024-12-16T09:45:13.387687Z",
     "shell.execute_reply": "2024-12-16T09:45:13.386441Z"
    },
    "id": "fLEyHb6jQDeo",
    "outputId": "ec320504-7957-45ff-a012-490a965d9a91",
    "papermill": {
     "duration": 365.713709,
     "end_time": "2024-12-16T09:45:13.395668",
     "exception": false,
     "start_time": "2024-12-16T09:39:07.681959",
     "status": "completed"
    },
    "tags": []
   },
   "outputs": [
    {
     "name": "stdout",
     "output_type": "stream",
     "text": [
      "294272\n",
      "19\n",
      "dict built\n"
     ]
    }
   ],
   "source": [
    "import pandas as pd\n",
    "path = \"/kaggle/input/trigger-words/senticnet.xlsx\"\n",
    "file = pd.read_excel(path)\n",
    "row_num = file.shape[0]\n",
    "col_num = file.shape[1]\n",
    "print(row_num)\n",
    "print(col_num)\n",
    "emo_dict = {}\n",
    "att_dict = {}\n",
    "for row in range(row_num):\n",
    "    word = file.loc[row][\"CONCEPT\"]\n",
    "    w1 = file.loc[row][\"W1\"]\n",
    "    w2 = file.loc[row][\"W2\"]\n",
    "    w3 = file.loc[row][\"W3\"]\n",
    "    w4 = file.loc[row][\"W4\"]\n",
    "    w5 = file.loc[row][\"W5\"]\n",
    "    emo_dict[word] = file.loc[row][\"PRIMARY EMOTION\"]\n",
    "    emo_dict[w1] = file.loc[row][\"PRIMARY EMOTION\"]\n",
    "    emo_dict[w2] = file.loc[row][\"PRIMARY EMOTION\"]\n",
    "    emo_dict[w3] = file.loc[row][\"PRIMARY EMOTION\"]\n",
    "    emo_dict[w4] = file.loc[row][\"PRIMARY EMOTION\"]\n",
    "    emo_dict[w5] = file.loc[row][\"PRIMARY EMOTION\"]\n",
    "    att_dict[word] = file.loc[row][\"POLARITY INTENSITY\"]\n",
    "    att_dict[w1] = file.loc[row][\"POLARITY INTENSITY\"]\n",
    "    att_dict[w2] = file.loc[row][\"POLARITY INTENSITY\"]\n",
    "    att_dict[w3] = file.loc[row][\"POLARITY INTENSITY\"]\n",
    "    att_dict[w4] = file.loc[row][\"POLARITY INTENSITY\"]\n",
    "    att_dict[w5] = file.loc[row][\"POLARITY INTENSITY\"]\n",
    "#     for col in range(col_num):\n",
    "#         if file.iloc[row][col] ==1:\n",
    "#             emo_dict[word] = col\n",
    "#             break\n",
    "#         else:\n",
    "#             emo_dict[word] = 0\n",
    "print(\"dict built\")"
   ]
  },
  {
   "cell_type": "code",
   "execution_count": 2,
   "id": "b471beee",
   "metadata": {
    "execution": {
     "iopub.execute_input": "2024-12-16T09:45:13.410625Z",
     "iopub.status.busy": "2024-12-16T09:45:13.409450Z",
     "iopub.status.idle": "2024-12-16T09:45:13.569267Z",
     "shell.execute_reply": "2024-12-16T09:45:13.567009Z"
    },
    "papermill": {
     "duration": 0.170414,
     "end_time": "2024-12-16T09:45:13.572181",
     "exception": false,
     "start_time": "2024-12-16T09:45:13.401767",
     "status": "completed"
    },
    "tags": []
   },
   "outputs": [
    {
     "name": "stdout",
     "output_type": "stream",
     "text": [
      "{'aah': 'anger', 'weep': 'sadness', 'cry_eye_out': 'anger', 'cry_river': 'anger', 'gah': 'anger'}\n"
     ]
    }
   ],
   "source": [
    "print(dict(list(emo_dict.items())[:5]))"
   ]
  },
  {
   "cell_type": "code",
   "execution_count": 3,
   "id": "91536cc9",
   "metadata": {
    "execution": {
     "iopub.execute_input": "2024-12-16T09:45:13.584715Z",
     "iopub.status.busy": "2024-12-16T09:45:13.584302Z",
     "iopub.status.idle": "2024-12-16T09:45:13.656905Z",
     "shell.execute_reply": "2024-12-16T09:45:13.655459Z"
    },
    "papermill": {
     "duration": 0.08116,
     "end_time": "2024-12-16T09:45:13.659359",
     "exception": false,
     "start_time": "2024-12-16T09:45:13.578199",
     "status": "completed"
    },
    "tags": []
   },
   "outputs": [
    {
     "name": "stdout",
     "output_type": "stream",
     "text": [
      "{'aah': -0.657, 'weep': -0.659, 'cry_eye_out': -0.657, 'cry_river': -0.657, 'gah': -0.657}\n"
     ]
    }
   ],
   "source": [
    "print(dict(list(att_dict.items())[:5]))"
   ]
  },
  {
   "cell_type": "code",
   "execution_count": 4,
   "id": "cadaa8be",
   "metadata": {
    "execution": {
     "iopub.execute_input": "2024-12-16T09:45:13.670721Z",
     "iopub.status.busy": "2024-12-16T09:45:13.670283Z",
     "iopub.status.idle": "2024-12-16T09:45:17.758859Z",
     "shell.execute_reply": "2024-12-16T09:45:17.757728Z"
    },
    "id": "efsalTFzQDes",
    "outputId": "94b9a3da-2e0c-43a2-d2d3-9e50baf42f0d",
    "papermill": {
     "duration": 4.09708,
     "end_time": "2024-12-16T09:45:17.761275",
     "exception": false,
     "start_time": "2024-12-16T09:45:13.664195",
     "status": "completed"
    },
    "tags": []
   },
   "outputs": [
    {
     "name": "stdout",
     "output_type": "stream",
     "text": [
      "14182\n",
      "11\n",
      "Dictionary built successfully!\n"
     ]
    }
   ],
   "source": [
    "import pandas as pd\n",
    "\n",
    "# Load the file\n",
    "path = \"/kaggle/input/trigger-words/NRC-Emotion-Lexicon.xlsx\"\n",
    "file = pd.read_excel(path)\n",
    "\n",
    "# Get the number of rows and columns\n",
    "row_num = file.shape[0]\n",
    "col_num = file.shape[1]\n",
    "print(row_num)\n",
    "print(col_num)\n",
    "\n",
    "# Initialize an empty dictionary\n",
    "nrc_dict = {}\n",
    "\n",
    "# Build the dictionary with column names\n",
    "for row in range(row_num):\n",
    "    word = file.loc[row, \"word\"]\n",
    "    emotions = file.iloc[row, 1:]  # Assuming emotions start from the second column\n",
    "    for col_name, value in emotions.items():  # Use .items() instead of .iteritems()\n",
    "        if value == 1:\n",
    "            nrc_dict[word] = col_name  # Use the column name instead of column number\n",
    "            break\n",
    "    else:\n",
    "        nrc_dict[word] = None  # No emotion found, set to None\n",
    "\n",
    "print(\"Dictionary built successfully!\")\n"
   ]
  },
  {
   "cell_type": "code",
   "execution_count": 5,
   "id": "6fb0f9be",
   "metadata": {
    "execution": {
     "iopub.execute_input": "2024-12-16T09:45:17.772364Z",
     "iopub.status.busy": "2024-12-16T09:45:17.771980Z",
     "iopub.status.idle": "2024-12-16T09:45:17.780105Z",
     "shell.execute_reply": "2024-12-16T09:45:17.778994Z"
    },
    "papermill": {
     "duration": 0.01653,
     "end_time": "2024-12-16T09:45:17.782675",
     "exception": false,
     "start_time": "2024-12-16T09:45:17.766145",
     "status": "completed"
    },
    "tags": []
   },
   "outputs": [
    {
     "name": "stdout",
     "output_type": "stream",
     "text": [
      "{'aback': None, 'abacus': 'trust', 'abandon': 'fear', 'abandoned': 'anger', 'abandonment': 'anger'}\n"
     ]
    }
   ],
   "source": [
    "print(dict(list(nrc_dict.items())[:5]))"
   ]
  },
  {
   "cell_type": "code",
   "execution_count": 6,
   "id": "e2348256",
   "metadata": {
    "execution": {
     "iopub.execute_input": "2024-12-16T09:45:17.793943Z",
     "iopub.status.busy": "2024-12-16T09:45:17.793494Z",
     "iopub.status.idle": "2024-12-16T09:45:18.186119Z",
     "shell.execute_reply": "2024-12-16T09:45:18.184916Z"
    },
    "id": "w2COQlT3QDet",
    "outputId": "37ac9a04-4971-46de-aab0-0f53baeb742c",
    "papermill": {
     "duration": 0.401063,
     "end_time": "2024-12-16T09:45:18.188465",
     "exception": false,
     "start_time": "2024-12-16T09:45:17.787402",
     "status": "completed"
    },
    "tags": []
   },
   "outputs": [
    {
     "name": "stdout",
     "output_type": "stream",
     "text": [
      "6786\n",
      "2\n",
      "dict built\n"
     ]
    }
   ],
   "source": [
    "path = \"/kaggle/input/trigger-words/Bing.csv\"\n",
    "file = pd.read_csv(path)\n",
    "row_num = file.shape[0]\n",
    "col_num = file.shape[1]\n",
    "print(row_num)\n",
    "print(col_num)\n",
    "sent_dict = {}\n",
    "for row in range(row_num):\n",
    "    word = file.loc[row][\"word\"]\n",
    "    sent_dict[word] = file.loc[row][\"sentiment\"]\n",
    "print(\"dict built\")"
   ]
  },
  {
   "cell_type": "code",
   "execution_count": 7,
   "id": "c1dc0d84",
   "metadata": {
    "execution": {
     "iopub.execute_input": "2024-12-16T09:45:18.200529Z",
     "iopub.status.busy": "2024-12-16T09:45:18.199627Z",
     "iopub.status.idle": "2024-12-16T09:45:18.206726Z",
     "shell.execute_reply": "2024-12-16T09:45:18.205464Z"
    },
    "papermill": {
     "duration": 0.015281,
     "end_time": "2024-12-16T09:45:18.208813",
     "exception": false,
     "start_time": "2024-12-16T09:45:18.193532",
     "status": "completed"
    },
    "tags": []
   },
   "outputs": [
    {
     "name": "stdout",
     "output_type": "stream",
     "text": [
      "{'2-faces': 'negative', 'abnormal': 'negative', 'abolish': 'negative', 'abominable': 'negative', 'abominably': 'negative'}\n"
     ]
    }
   ],
   "source": [
    "print(dict(list(sent_dict.items())[:5]))"
   ]
  },
  {
   "cell_type": "code",
   "execution_count": 8,
   "id": "8bd4dad1",
   "metadata": {
    "execution": {
     "iopub.execute_input": "2024-12-16T09:45:18.221075Z",
     "iopub.status.busy": "2024-12-16T09:45:18.220713Z",
     "iopub.status.idle": "2024-12-16T09:45:18.358919Z",
     "shell.execute_reply": "2024-12-16T09:45:18.357497Z"
    },
    "papermill": {
     "duration": 0.147229,
     "end_time": "2024-12-16T09:45:18.361277",
     "exception": false,
     "start_time": "2024-12-16T09:45:18.214048",
     "status": "completed"
    },
    "tags": []
   },
   "outputs": [
    {
     "name": "stdout",
     "output_type": "stream",
     "text": [
      "{'aah': 'anger', 'weep': 'sadness', 'cry_eye_out': 'anger', 'cry_river': 'anger', 'gah': 'anger'}\n"
     ]
    }
   ],
   "source": [
    "# Initialize an empty dictionary to store the result\n",
    "result = {}\n",
    "\n",
    "# Function to merge dictionaries without duplicating keys\n",
    "def merge_dicts(dict1, dict2, dict3):\n",
    "    # Iterate through each dictionary\n",
    "    for d in [dict1, dict2, dict3]:\n",
    "        for key, value in d.items():\n",
    "            if key not in result:\n",
    "                result[key] = value\n",
    "    return result\n",
    "\n",
    "# Call the function to merge the dictionaries\n",
    "emotion_lexicon = merge_dicts(emo_dict,nrc_dict,sent_dict)\n",
    "\n",
    "# Print the merged dictionary\n",
    "print(dict(list(emotion_lexicon.items())[:5]))\n"
   ]
  },
  {
   "cell_type": "code",
   "execution_count": 9,
   "id": "cda39c34",
   "metadata": {
    "execution": {
     "iopub.execute_input": "2024-12-16T09:45:18.373837Z",
     "iopub.status.busy": "2024-12-16T09:45:18.373411Z",
     "iopub.status.idle": "2024-12-16T09:45:18.464723Z",
     "shell.execute_reply": "2024-12-16T09:45:18.463417Z"
    },
    "papermill": {
     "duration": 0.10102,
     "end_time": "2024-12-16T09:45:18.467382",
     "exception": false,
     "start_time": "2024-12-16T09:45:18.366362",
     "status": "completed"
    },
    "tags": []
   },
   "outputs": [],
   "source": [
    "import pickle\n",
    "# Write the dictionary to a pickle file\n",
    "with open('emotion_lexicon.pkl', 'wb') as file:\n",
    "    pickle.dump(emotion_lexicon, file)"
   ]
  },
  {
   "cell_type": "code",
   "execution_count": 10,
   "id": "925c40d9",
   "metadata": {
    "execution": {
     "iopub.execute_input": "2024-12-16T09:45:18.480272Z",
     "iopub.status.busy": "2024-12-16T09:45:18.479915Z",
     "iopub.status.idle": "2024-12-16T09:45:19.462026Z",
     "shell.execute_reply": "2024-12-16T09:45:19.460834Z"
    },
    "papermill": {
     "duration": 0.991666,
     "end_time": "2024-12-16T09:45:19.464541",
     "exception": false,
     "start_time": "2024-12-16T09:45:18.472875",
     "status": "completed"
    },
    "tags": []
   },
   "outputs": [],
   "source": [
    "import pickle\n",
    "# Write the dictionary to a pickle file\n",
    "with open('att_dict.pkl', 'wb') as file:\n",
    "    pickle.dump(att_dict, file)"
   ]
  },
  {
   "cell_type": "code",
   "execution_count": 11,
   "id": "0e4401ce",
   "metadata": {
    "execution": {
     "iopub.execute_input": "2024-12-16T09:45:19.477495Z",
     "iopub.status.busy": "2024-12-16T09:45:19.476448Z",
     "iopub.status.idle": "2024-12-16T09:45:19.494501Z",
     "shell.execute_reply": "2024-12-16T09:45:19.493433Z"
    },
    "papermill": {
     "duration": 0.0268,
     "end_time": "2024-12-16T09:45:19.496583",
     "exception": false,
     "start_time": "2024-12-16T09:45:19.469783",
     "status": "completed"
    },
    "tags": []
   },
   "outputs": [],
   "source": [
    "from IPython.display import HTML, display\n",
    "from collections import Counter\n",
    "\n",
    "def generate_emotion_highlight_html(sentence, emotion_lexicon, att_dict):\n",
    "    def word_emotion(word):\n",
    "        if word in emotion_lexicon:\n",
    "            emo = emotion_lexicon[word]\n",
    "        else:\n",
    "            emo = 0\n",
    "        return emo\n",
    "\n",
    "    def word_att(word):\n",
    "        if word in att_dict:\n",
    "            att = att_dict[word]\n",
    "        else:\n",
    "            att = 0\n",
    "        return att\n",
    "\n",
    "    def highlight(word, emo):\n",
    "        attn = word_att(word)\n",
    "        if emo == \"anger\":\n",
    "            html_color = (255, 0, 0)  # Red\n",
    "        elif emo == \"anticipation\":\n",
    "            html_color = (255, 127, 80)  # Coral\n",
    "        elif emo == \"disgust\":\n",
    "            html_color = (186, 85, 211)  # Medium Orchid\n",
    "        elif emo == \"fear\":\n",
    "            html_color = (0, 128, 0)  # Green\n",
    "        elif emo == \"joy\":\n",
    "            html_color = (255, 255, 0)  # Yellow\n",
    "        elif emo == \"sadness\":\n",
    "            html_color = (0, 0, 255)  # Blue\n",
    "        elif emo == \"surprise\":\n",
    "            html_color = (30, 144, 255)  # Dodger Blue\n",
    "        elif emo == \"trust\":\n",
    "            html_color = (0, 255, 0)  # Lime Green\n",
    "        elif emo == \"acceptance\":\n",
    "            html_color = (152, 251, 152, attn)  # Pale Green\n",
    "        elif emo == \"terror\":\n",
    "            html_color = (0, 100, 0, attn)  # Dark Green\n",
    "        elif emo == \"grief\":\n",
    "            html_color = (20, 20, 222, attn)  # Medium Blue\n",
    "        elif emo == \"annoyance\":\n",
    "            html_color = (219, 112, 147, attn)  # Pale Violet Red\n",
    "        elif emo == \"anxiety\":\n",
    "            html_color = (189, 183, 107, attn)  # Dark Khaki\n",
    "        elif emo == \"bliss\":\n",
    "            html_color = (240, 230, 140, attn)  # Khaki\n",
    "        elif emo == \"calmness\":\n",
    "            html_color = (169, 169, 169, attn)  # Dark Gray\n",
    "        elif emo == \"contentment\":\n",
    "            html_color = (244, 164, 96, attn)  # Sandy Brown\n",
    "        elif emo == \"delight\":\n",
    "            html_color = (255, 215, 0, attn)  # Gold\n",
    "        elif emo == \"dislike\":\n",
    "            html_color = (255, 99, 71, attn)  # Tomato\n",
    "        elif emo == \"eagerness\":\n",
    "            html_color = (210, 105, 30, attn)  # Chocolate\n",
    "        elif emo == \"ecstasy\":\n",
    "            html_color = (255, 204, 0, attn)  # Dark yellow\n",
    "        elif emo == \"enthusiasm\":\n",
    "            html_color = (178, 34, 34, attn)  # Firebrick\n",
    "        elif emo == \"loathing\":\n",
    "            html_color = (255, 0, 255, attn)  # Magenta\n",
    "        elif emo == \"melancholy\":\n",
    "            html_color = (123, 104, 238, attn)  # Medium Slate Blue\n",
    "        elif emo == \"pleasantness\":\n",
    "            html_color = (250, 250, 210, attn)  # Light Goldenrod Yellow\n",
    "        elif emo == \"rage\":\n",
    "            html_color = (128, 0, 0, attn)  # Maroon\n",
    "        elif emo == \"responsive\":\n",
    "            html_color = (95, 158, 160, attn)  # Cadet Blue\n",
    "        elif emo == \"responsiveness\":\n",
    "            html_color = (95, 158, 160, attn)  # Cadet Blue\n",
    "        elif emo == \"serenity\":\n",
    "            html_color = (238, 232, 170, attn)  # Pale Goldenrod\n",
    "        elif emo == \"positive\":\n",
    "            html_color = (205, 92, 92)  # Indian Red\n",
    "        elif emo == \"negative\":\n",
    "            html_color = (107, 142, 35)  # Olive Drab\n",
    "        else:\n",
    "            html_color = (255, 255, 255, 0)  # White\n",
    "        return '<span style=\"background-color:rgb{}\">{}</span>'.format(html_color, word)\n",
    "\n",
    "    def mk_html(seq, emos):\n",
    "        html = \"\"\n",
    "        for ix, emo in zip(seq, emos):\n",
    "            html += ' ' + highlight(ix, emo)\n",
    "        return html + \"<br>\"\n",
    "\n",
    "    # Main logic\n",
    "    word_list = sentence.split()\n",
    "    seqs = [word_list]\n",
    "    emo = []\n",
    "    wordcount = 0\n",
    "    for i in seqs[0]:\n",
    "        emo.append(word_emotion(i.lower()))\n",
    "        wordcount += 1\n",
    "    emos = [emo]\n",
    "    \n",
    "    for i in range(len(seqs)):\n",
    "        text = mk_html(seqs[i], emos[i])\n",
    "        display(HTML(text))\n",
    "    \n",
    "    emotion_counts = Counter(emo)"
   ]
  },
  {
   "cell_type": "code",
   "execution_count": 12,
   "id": "f085316f",
   "metadata": {
    "execution": {
     "iopub.execute_input": "2024-12-16T09:45:19.509567Z",
     "iopub.status.busy": "2024-12-16T09:45:19.508697Z",
     "iopub.status.idle": "2024-12-16T09:45:19.514073Z",
     "shell.execute_reply": "2024-12-16T09:45:19.513035Z"
    },
    "papermill": {
     "duration": 0.01388,
     "end_time": "2024-12-16T09:45:19.516262",
     "exception": false,
     "start_time": "2024-12-16T09:45:19.502382",
     "status": "completed"
    },
    "tags": []
   },
   "outputs": [],
   "source": [
    "sent = \"I had just finished reading 'The Food of Love' by Anthony Capella since I had nothing to do, but read. Mind you, reading is one of my favorite pastimes.I had recently bought a series of books. The Food of Love was just one of the books I just picked up so I can get that 'three for the price of two' deal at Waterstones in London (British's equivalent of Barnes&Noble;). I wasn't really interested, but it was one of the more interesting options I had. Well, I'm glad I made the right choice! I started reading it last night and I haven't put it down since.If you love food and a little romance, which I am both fond of, it's an excellent book to read. Mr. Capella was remarkably thorough in his description of the rich and textured Italian dishes that the words assails you with a sense of smell and taste that leaves you hungry for more. This book took me by surprise and I'm sure you would not be disappointed.\""
   ]
  },
  {
   "cell_type": "code",
   "execution_count": 13,
   "id": "a2c56f05",
   "metadata": {
    "execution": {
     "iopub.execute_input": "2024-12-16T09:45:19.528217Z",
     "iopub.status.busy": "2024-12-16T09:45:19.527841Z",
     "iopub.status.idle": "2024-12-16T09:45:19.532531Z",
     "shell.execute_reply": "2024-12-16T09:45:19.531460Z"
    },
    "papermill": {
     "duration": 0.0132,
     "end_time": "2024-12-16T09:45:19.534629",
     "exception": false,
     "start_time": "2024-12-16T09:45:19.521429",
     "status": "completed"
    },
    "tags": []
   },
   "outputs": [],
   "source": [
    "sentence = sent"
   ]
  },
  {
   "cell_type": "code",
   "execution_count": 14,
   "id": "38623e89",
   "metadata": {
    "execution": {
     "iopub.execute_input": "2024-12-16T09:45:19.546535Z",
     "iopub.status.busy": "2024-12-16T09:45:19.546137Z",
     "iopub.status.idle": "2024-12-16T09:45:19.555144Z",
     "shell.execute_reply": "2024-12-16T09:45:19.554062Z"
    },
    "papermill": {
     "duration": 0.017408,
     "end_time": "2024-12-16T09:45:19.557175",
     "exception": false,
     "start_time": "2024-12-16T09:45:19.539767",
     "status": "completed"
    },
    "tags": []
   },
   "outputs": [
    {
     "data": {
      "text/html": [
       " <span style=\"background-color:rgb(255, 255, 255, 0)\">I</span> <span style=\"background-color:rgb(255, 255, 255, 0)\">had</span> <span style=\"background-color:rgb(255, 255, 255, 0)\">just</span> <span style=\"background-color:rgb(255, 204, 0, 0.726)\">finished</span> <span style=\"background-color:rgb(255, 255, 0)\">reading</span> <span style=\"background-color:rgb(255, 255, 255, 0)\">'The</span> <span style=\"background-color:rgb(255, 255, 0)\">Food</span> <span style=\"background-color:rgb(255, 255, 255, 0)\">of</span> <span style=\"background-color:rgb(255, 255, 255, 0)\">Love'</span> <span style=\"background-color:rgb(255, 255, 255, 0)\">by</span> <span style=\"background-color:rgb(255, 255, 255, 0)\">Anthony</span> <span style=\"background-color:rgb(255, 255, 255, 0)\">Capella</span> <span style=\"background-color:rgb(255, 0, 255, -0.999)\">since</span> <span style=\"background-color:rgb(255, 255, 255, 0)\">I</span> <span style=\"background-color:rgb(255, 255, 255, 0)\">had</span> <span style=\"background-color:rgb(0, 0, 255)\">nothing</span> <span style=\"background-color:rgb(255, 255, 255, 0)\">to</span> <span style=\"background-color:rgb(255, 255, 255, 0)\">do,</span> <span style=\"background-color:rgb(255, 255, 255, 0)\">but</span> <span style=\"background-color:rgb(255, 255, 255, 0)\">read.</span> <span style=\"background-color:rgb(238, 232, 170, 0)\">Mind</span> <span style=\"background-color:rgb(255, 255, 255, 0)\">you,</span> <span style=\"background-color:rgb(255, 255, 0)\">reading</span> <span style=\"background-color:rgb(255, 255, 255, 0)\">is</span> <span style=\"background-color:rgb(255, 255, 255, 0)\">one</span> <span style=\"background-color:rgb(255, 255, 255, 0)\">of</span> <span style=\"background-color:rgb(255, 255, 255, 0)\">my</span> <span style=\"background-color:rgb(250, 250, 210, 0.659)\">favorite</span> <span style=\"background-color:rgb(255, 255, 255, 0)\">pastimes.I</span> <span style=\"background-color:rgb(255, 255, 255, 0)\">had</span> <span style=\"background-color:rgb(255, 255, 255, 0)\">recently</span> <span style=\"background-color:rgb(255, 255, 255, 0)\">bought</span> <span style=\"background-color:rgb(255, 255, 255, 0)\">a</span> <span style=\"background-color:rgb(219, 112, 147, -0.287)\">series</span> <span style=\"background-color:rgb(255, 255, 255, 0)\">of</span> <span style=\"background-color:rgb(255, 255, 255, 0)\">books.</span> <span style=\"background-color:rgb(255, 255, 255, 0)\">The</span> <span style=\"background-color:rgb(255, 255, 0)\">Food</span> <span style=\"background-color:rgb(255, 255, 255, 0)\">of</span> <span style=\"background-color:rgb(255, 255, 0)\">Love</span> <span style=\"background-color:rgb(255, 255, 255, 0)\">was</span> <span style=\"background-color:rgb(255, 255, 255, 0)\">just</span> <span style=\"background-color:rgb(255, 255, 255, 0)\">one</span> <span style=\"background-color:rgb(255, 255, 255, 0)\">of</span> <span style=\"background-color:rgb(255, 255, 255, 0)\">the</span> <span style=\"background-color:rgb(255, 255, 255, 0)\">books</span> <span style=\"background-color:rgb(255, 255, 255, 0)\">I</span> <span style=\"background-color:rgb(255, 255, 255, 0)\">just</span> <span style=\"background-color:rgb(238, 232, 170, 0.155)\">picked</span> <span style=\"background-color:rgb(255, 255, 255, 0)\">up</span> <span style=\"background-color:rgb(255, 255, 255, 0)\">so</span> <span style=\"background-color:rgb(255, 255, 255, 0)\">I</span> <span style=\"background-color:rgb(255, 255, 255, 0)\">can</span> <span style=\"background-color:rgb(255, 255, 255, 0)\">get</span> <span style=\"background-color:rgb(255, 255, 255, 0)\">that</span> <span style=\"background-color:rgb(255, 255, 255, 0)\">'three</span> <span style=\"background-color:rgb(255, 255, 255, 0)\">for</span> <span style=\"background-color:rgb(255, 255, 255, 0)\">the</span> <span style=\"background-color:rgb(255, 255, 255, 0)\">price</span> <span style=\"background-color:rgb(255, 255, 255, 0)\">of</span> <span style=\"background-color:rgb(255, 255, 255, 0)\">two'</span> <span style=\"background-color:rgb(255, 204, 0, 0.844)\">deal</span> <span style=\"background-color:rgb(255, 255, 255, 0)\">at</span> <span style=\"background-color:rgb(255, 255, 255, 0)\">Waterstones</span> <span style=\"background-color:rgb(255, 255, 255, 0)\">in</span> <span style=\"background-color:rgb(255, 255, 255, 0)\">London</span> <span style=\"background-color:rgb(255, 255, 255, 0)\">(British's</span> <span style=\"background-color:rgb(255, 204, 0, 0.814)\">equivalent</span> <span style=\"background-color:rgb(255, 255, 255, 0)\">of</span> <span style=\"background-color:rgb(255, 255, 255, 0)\">Barnes&Noble;).</span> <span style=\"background-color:rgb(255, 255, 255, 0)\">I</span> <span style=\"background-color:rgb(255, 255, 255, 0)\">wasn't</span> <span style=\"background-color:rgb(250, 250, 210, 0.775)\">really</span> <span style=\"background-color:rgb(255, 255, 255, 0)\">interested,</span> <span style=\"background-color:rgb(255, 255, 255, 0)\">but</span> <span style=\"background-color:rgb(255, 255, 255, 0)\">it</span> <span style=\"background-color:rgb(255, 255, 255, 0)\">was</span> <span style=\"background-color:rgb(255, 255, 255, 0)\">one</span> <span style=\"background-color:rgb(255, 255, 255, 0)\">of</span> <span style=\"background-color:rgb(255, 255, 255, 0)\">the</span> <span style=\"background-color:rgb(255, 255, 255, 0)\">more</span> <span style=\"background-color:rgb(250, 250, 210, 0.659)\">interesting</span> <span style=\"background-color:rgb(255, 255, 255, 0)\">options</span> <span style=\"background-color:rgb(255, 255, 255, 0)\">I</span> <span style=\"background-color:rgb(255, 255, 255, 0)\">had.</span> <span style=\"background-color:rgb(255, 255, 255, 0)\">Well,</span> <span style=\"background-color:rgb(255, 255, 255, 0)\">I'm</span> <span style=\"background-color:rgb(255, 255, 0)\">glad</span> <span style=\"background-color:rgb(255, 255, 255, 0)\">I</span> <span style=\"background-color:rgb(255, 255, 255, 0)\">made</span> <span style=\"background-color:rgb(255, 255, 255, 0)\">the</span> <span style=\"background-color:rgb(0, 0, 255)\">right</span> <span style=\"background-color:rgb(255, 255, 255, 0)\">choice!</span> <span style=\"background-color:rgb(255, 255, 255, 0)\">I</span> <span style=\"background-color:rgb(20, 20, 222, -0.787)\">started</span> <span style=\"background-color:rgb(255, 255, 0)\">reading</span> <span style=\"background-color:rgb(255, 255, 255, 0)\">it</span> <span style=\"background-color:rgb(255, 255, 255, 0)\">last</span> <span style=\"background-color:rgb(255, 0, 255, -0.847)\">night</span> <span style=\"background-color:rgb(255, 255, 255, 0)\">and</span> <span style=\"background-color:rgb(255, 255, 255, 0)\">I</span> <span style=\"background-color:rgb(255, 255, 255, 0)\">haven't</span> <span style=\"background-color:rgb(255, 255, 255, 0)\">put</span> <span style=\"background-color:rgb(255, 255, 255, 0)\">it</span> <span style=\"background-color:rgb(0, 100, 0, -0.866)\">down</span> <span style=\"background-color:rgb(255, 255, 255, 0)\">since.If</span> <span style=\"background-color:rgb(255, 255, 255, 0)\">you</span> <span style=\"background-color:rgb(255, 255, 0)\">love</span> <span style=\"background-color:rgb(255, 255, 0)\">food</span> <span style=\"background-color:rgb(255, 255, 255, 0)\">and</span> <span style=\"background-color:rgb(255, 255, 255, 0)\">a</span> <span style=\"background-color:rgb(255, 255, 255, 0)\">little</span> <span style=\"background-color:rgb(255, 255, 255, 0)\">romance,</span> <span style=\"background-color:rgb(255, 255, 255, 0)\">which</span> <span style=\"background-color:rgb(255, 255, 255, 0)\">I</span> <span style=\"background-color:rgb(255, 255, 255, 0)\">am</span> <span style=\"background-color:rgb(255, 255, 255, 0)\">both</span> <span style=\"background-color:rgb(255, 204, 0, 0.879)\">fond</span> <span style=\"background-color:rgb(255, 255, 255, 0)\">of,</span> <span style=\"background-color:rgb(255, 255, 255, 0)\">it's</span> <span style=\"background-color:rgb(255, 255, 255, 0)\">an</span> <span style=\"background-color:rgb(255, 204, 0, 0.841)\">excellent</span> <span style=\"background-color:rgb(255, 255, 255, 0)\">book</span> <span style=\"background-color:rgb(255, 255, 255, 0)\">to</span> <span style=\"background-color:rgb(255, 255, 255, 0)\">read.</span> <span style=\"background-color:rgb(255, 255, 255, 0)\">Mr.</span> <span style=\"background-color:rgb(255, 255, 255, 0)\">Capella</span> <span style=\"background-color:rgb(255, 255, 255, 0)\">was</span> <span style=\"background-color:rgb(205, 92, 92)\">remarkably</span> <span style=\"background-color:rgb(0, 0, 255)\">thorough</span> <span style=\"background-color:rgb(255, 255, 255, 0)\">in</span> <span style=\"background-color:rgb(255, 255, 255, 0)\">his</span> <span style=\"background-color:rgb(255, 204, 0, 0.86)\">description</span> <span style=\"background-color:rgb(255, 255, 255, 0)\">of</span> <span style=\"background-color:rgb(255, 255, 255, 0)\">the</span> <span style=\"background-color:rgb(128, 0, 0, -0.863)\">rich</span> <span style=\"background-color:rgb(255, 255, 255, 0)\">and</span> <span style=\"background-color:rgb(255, 255, 255, 0)\">textured</span> <span style=\"background-color:rgb(255, 255, 255, 0)\">Italian</span> <span style=\"background-color:rgb(255, 255, 255, 0)\">dishes</span> <span style=\"background-color:rgb(255, 255, 255, 0)\">that</span> <span style=\"background-color:rgb(255, 255, 255, 0)\">the</span> <span style=\"background-color:rgb(128, 0, 0, -0.978)\">words</span> <span style=\"background-color:rgb(0, 100, 0, -0.865)\">assails</span> <span style=\"background-color:rgb(255, 255, 255, 0)\">you</span> <span style=\"background-color:rgb(255, 215, 0, 0.843)\">with</span> <span style=\"background-color:rgb(255, 255, 255, 0)\">a</span> <span style=\"background-color:rgb(205, 92, 92)\">sense</span> <span style=\"background-color:rgb(255, 255, 255, 0)\">of</span> <span style=\"background-color:rgb(255, 0, 0)\">smell</span> <span style=\"background-color:rgb(255, 255, 255, 0)\">and</span> <span style=\"background-color:rgb(244, 164, 96, 0.154)\">taste</span> <span style=\"background-color:rgb(255, 255, 255, 0)\">that</span> <span style=\"background-color:rgb(255, 255, 255, 0)\">leaves</span> <span style=\"background-color:rgb(255, 255, 255, 0)\">you</span> <span style=\"background-color:rgb(255, 0, 0)\">hungry</span> <span style=\"background-color:rgb(255, 255, 255, 0)\">for</span> <span style=\"background-color:rgb(255, 255, 255, 0)\">more.</span> <span style=\"background-color:rgb(255, 255, 255, 0)\">This</span> <span style=\"background-color:rgb(255, 255, 255, 0)\">book</span> <span style=\"background-color:rgb(255, 255, 255, 0)\">took</span> <span style=\"background-color:rgb(255, 255, 255, 0)\">me</span> <span style=\"background-color:rgb(255, 255, 255, 0)\">by</span> <span style=\"background-color:rgb(152, 251, 152, 0.329)\">surprise</span> <span style=\"background-color:rgb(255, 255, 255, 0)\">and</span> <span style=\"background-color:rgb(255, 255, 255, 0)\">I'm</span> <span style=\"background-color:rgb(152, 251, 152, 0.329)\">sure</span> <span style=\"background-color:rgb(255, 255, 255, 0)\">you</span> <span style=\"background-color:rgb(255, 255, 255, 0)\">would</span> <span style=\"background-color:rgb(255, 255, 255, 0)\">not</span> <span style=\"background-color:rgb(255, 255, 255, 0)\">be</span> <span style=\"background-color:rgb(255, 255, 255, 0)\">disappointed.</span><br>"
      ],
      "text/plain": [
       "<IPython.core.display.HTML object>"
      ]
     },
     "metadata": {},
     "output_type": "display_data"
    }
   ],
   "source": [
    "generate_emotion_highlight_html(sentence, emotion_lexicon, att_dict)"
   ]
  },
  {
   "cell_type": "code",
   "execution_count": 15,
   "id": "bc97a721",
   "metadata": {
    "execution": {
     "iopub.execute_input": "2024-12-16T09:45:19.569672Z",
     "iopub.status.busy": "2024-12-16T09:45:19.569269Z",
     "iopub.status.idle": "2024-12-16T09:45:19.577702Z",
     "shell.execute_reply": "2024-12-16T09:45:19.576140Z"
    },
    "id": "0iVnuRFcQDev",
    "outputId": "ce772be6-7886-471c-ccf1-9fbf3f9c870a",
    "papermill": {
     "duration": 0.016704,
     "end_time": "2024-12-16T09:45:19.579376",
     "exception": true,
     "start_time": "2024-12-16T09:45:19.562672",
     "status": "failed"
    },
    "tags": []
   },
   "outputs": [
    {
     "ename": "IndentationError",
     "evalue": "unexpected indent (380739432.py, line 7)",
     "output_type": "error",
     "traceback": [
      "\u001b[0;36m  Cell \u001b[0;32mIn[15], line 7\u001b[0;36m\u001b[0m\n\u001b[0;31m    with open (\"/kaggle/input/test-trigger-word/test1.txt\",\"r\", encoding = \"utf-8\") as f:\u001b[0m\n\u001b[0m    ^\u001b[0m\n\u001b[0;31mIndentationError\u001b[0m\u001b[0;31m:\u001b[0m unexpected indent\n"
     ]
    }
   ],
   "source": [
    "from IPython.display import HTML, display\n",
    "import numpy as np\n",
    "from collections import Counter\n",
    "batch_size = 1\n",
    "emo =[]\n",
    "wordcount = 0\n",
    " with open (\"/kaggle/input/test-trigger-word/test1.txt\",\"r\", encoding = \"utf-8\") as f:\n",
    "    sent = f.read()\n",
    "    seqs = split(sent)\n",
    "    for i in seqs[0]:\n",
    "        emo.append(word_emotion(i.lower()))\n",
    "        wordcount = wordcount+1\n",
    "    emos = [emo]\n",
    "    for i in range(batch_size):\n",
    "        text = mk_html(seqs[i], emos[i])\n",
    "        display(HTML(text))\n",
    "print (wordcount)\n",
    "emotion_counts=Counter(emo)\n"
   ]
  },
  {
   "cell_type": "code",
   "execution_count": null,
   "id": "56d72a8e",
   "metadata": {
    "execution": {
     "iopub.execute_input": "2024-12-15T21:39:40.251387Z",
     "iopub.status.busy": "2024-12-15T21:39:40.250962Z",
     "iopub.status.idle": "2024-12-15T21:39:40.263497Z",
     "shell.execute_reply": "2024-12-15T21:39:40.262088Z",
     "shell.execute_reply.started": "2024-12-15T21:39:40.251353Z"
    },
    "id": "wvKDF1vlQDev",
    "outputId": "d4eea035-3044-4906-da9f-dba353a3ce69",
    "papermill": {
     "duration": null,
     "end_time": null,
     "exception": null,
     "start_time": null,
     "status": "pending"
    },
    "tags": []
   },
   "outputs": [],
   "source": [
    "with open (\"/kaggle/input/test-trigger-word/test1.txt\",\"r\", encoding = \"utf-8\") as f:\n",
    "    print (f.read())"
   ]
  },
  {
   "cell_type": "code",
   "execution_count": null,
   "id": "4a8d648a",
   "metadata": {
    "execution": {
     "iopub.execute_input": "2024-12-16T09:23:30.247714Z",
     "iopub.status.busy": "2024-12-16T09:23:30.246736Z",
     "iopub.status.idle": "2024-12-16T09:23:30.404537Z",
     "shell.execute_reply": "2024-12-16T09:23:30.403662Z",
     "shell.execute_reply.started": "2024-12-16T09:23:30.247671Z"
    },
    "id": "twHSTsipQDew",
    "papermill": {
     "duration": null,
     "end_time": null,
     "exception": null,
     "start_time": null,
     "status": "pending"
    },
    "tags": []
   },
   "outputs": [],
   "source": [
    "import matplotlib.pyplot as plt\n",
    "from collections import Counter\n",
    "\n",
    "# Define main categories and their corresponding emotions\n",
    "emotion_category_map = {\n",
    "    'anger': ['anger', 'rage'],\n",
    "    'anticipation': ['anticipation', 'enthusiasm', 'serenity', 'calmness', 'bliss'],\n",
    "    'joy': ['joy', 'ecstasy', 'delight', 'pleasantness', 'positive', 'contentment'],\n",
    "    'trust': ['trust', 'acceptance', 'eagerness', 'responsiveness','responsive'],\n",
    "    'fear': ['fear', 'terror', 'anxiety'],\n",
    "    'surprise': ['surprise', 'melancholy'],\n",
    "    'sadness': ['sadness', 'grief'],\n",
    "    'disgust': ['disgust', 'loathing'],\n",
    "    \n",
    "}\n",
    "\n",
    "# Create a dictionary to store the frequency count of each main category\n",
    "category_counts = {category: 0 for category in emotion_category_map}\n",
    "\n",
    "# Count the occurrences of each emotion in the category\n",
    "for emotion, count in emotion_counts.items():\n",
    "    if emotion not in [0, None]:  # Ignore 0 and None\n",
    "        for category, emotions in emotion_category_map.items():\n",
    "            if emotion in emotions:\n",
    "                category_counts[category] += count\n",
    "                break\n",
    "\n",
    "# Plot the pie chart\n",
    "colors = ['#FF0000', '#FFA500', '#FFFF00','#00FF00', '#008000', '#1E90FF','#0000FF','#800080']  # Updated colors (Purple for disgust)\n",
    "plt.figure(figsize=(8, 8))\n",
    "plt.pie(category_counts.values(), labels=category_counts.keys(), autopct='%1.1f%%', startangle=140, colors=colors)\n",
    "plt.title('Emotion Category Distribution')\n",
    "plt.show()\n"
   ]
  },
  {
   "cell_type": "code",
   "execution_count": null,
   "id": "bfe200b6",
   "metadata": {
    "papermill": {
     "duration": null,
     "end_time": null,
     "exception": null,
     "start_time": null,
     "status": "pending"
    },
    "tags": []
   },
   "outputs": [],
   "source": []
  }
 ],
 "metadata": {
  "colab": {
   "provenance": []
  },
  "kaggle": {
   "accelerator": "none",
   "dataSources": [
    {
     "datasetId": 6278210,
     "sourceId": 10166515,
     "sourceType": "datasetVersion"
    },
    {
     "datasetId": 6282744,
     "sourceId": 10172497,
     "sourceType": "datasetVersion"
    },
    {
     "datasetId": 6313477,
     "sourceId": 10214550,
     "sourceType": "datasetVersion"
    }
   ],
   "dockerImageVersionId": 30804,
   "isGpuEnabled": false,
   "isInternetEnabled": true,
   "language": "python",
   "sourceType": "notebook"
  },
  "kernelspec": {
   "display_name": "Python 3",
   "language": "python",
   "name": "python3"
  },
  "language_info": {
   "codemirror_mode": {
    "name": "ipython",
    "version": 3
   },
   "file_extension": ".py",
   "mimetype": "text/x-python",
   "name": "python",
   "nbconvert_exporter": "python",
   "pygments_lexer": "ipython3",
   "version": "3.10.14"
  },
  "papermill": {
   "default_parameters": {},
   "duration": 375.649712,
   "end_time": "2024-12-16T09:45:20.206340",
   "environment_variables": {},
   "exception": true,
   "input_path": "__notebook__.ipynb",
   "output_path": "__notebook__.ipynb",
   "parameters": {},
   "start_time": "2024-12-16T09:39:04.556628",
   "version": "2.6.0"
  }
 },
 "nbformat": 4,
 "nbformat_minor": 5
}
