{
 "cells": [
  {
   "cell_type": "code",
   "execution_count": 1,
   "id": "6bd0baa0",
   "metadata": {
    "_cell_guid": "b1076dfc-b9ad-4769-8c92-a6c4dae69d19",
    "_uuid": "8f2839f25d086af736a60e9eeb907d3b93b6e0e5",
    "execution": {
     "iopub.execute_input": "2025-01-10T09:34:32.512388Z",
     "iopub.status.busy": "2025-01-10T09:34:32.511975Z",
     "iopub.status.idle": "2025-01-10T09:34:37.888823Z",
     "shell.execute_reply": "2025-01-10T09:34:37.887825Z"
    },
    "papermill": {
     "duration": 5.386693,
     "end_time": "2025-01-10T09:34:37.891341",
     "exception": false,
     "start_time": "2025-01-10T09:34:32.504648",
     "status": "completed"
    },
    "tags": []
   },
   "outputs": [],
   "source": [
    "import pandas as pd # data processing, CSV file I/O (e.g. pd.read_csv)\n",
    "import os\n",
    "from transformers import BertTokenizerFast\n"
   ]
  },
  {
   "cell_type": "code",
   "execution_count": 2,
   "id": "c1529e6e",
   "metadata": {
    "execution": {
     "iopub.execute_input": "2025-01-10T09:34:37.903737Z",
     "iopub.status.busy": "2025-01-10T09:34:37.903050Z",
     "iopub.status.idle": "2025-01-10T09:34:37.908601Z",
     "shell.execute_reply": "2025-01-10T09:34:37.907608Z"
    },
    "papermill": {
     "duration": 0.013984,
     "end_time": "2025-01-10T09:34:37.910691",
     "exception": false,
     "start_time": "2025-01-10T09:34:37.896707",
     "status": "completed"
    },
    "tags": []
   },
   "outputs": [],
   "source": [
    "file_path =\"/kaggle/input/emotion-cause-dataset/Emotion_Cause_Dataset.txt\""
   ]
  },
  {
   "cell_type": "code",
   "execution_count": 3,
   "id": "b6b53573",
   "metadata": {
    "execution": {
     "iopub.execute_input": "2025-01-10T09:34:37.923090Z",
     "iopub.status.busy": "2025-01-10T09:34:37.922022Z",
     "iopub.status.idle": "2025-01-10T09:34:39.027352Z",
     "shell.execute_reply": "2025-01-10T09:34:39.026290Z"
    },
    "papermill": {
     "duration": 1.114024,
     "end_time": "2025-01-10T09:34:39.029628",
     "exception": false,
     "start_time": "2025-01-10T09:34:37.915604",
     "status": "completed"
    },
    "tags": []
   },
   "outputs": [
    {
     "data": {
      "application/vnd.jupyter.widget-view+json": {
       "model_id": "05b5a32cb19143d89ad6f2eedd9977dd",
       "version_major": 2,
       "version_minor": 0
      },
      "text/plain": [
       "tokenizer_config.json:   0%|          | 0.00/48.0 [00:00<?, ?B/s]"
      ]
     },
     "metadata": {},
     "output_type": "display_data"
    },
    {
     "data": {
      "application/vnd.jupyter.widget-view+json": {
       "model_id": "d51ccacde0d04440a0985637050085da",
       "version_major": 2,
       "version_minor": 0
      },
      "text/plain": [
       "vocab.txt:   0%|          | 0.00/232k [00:00<?, ?B/s]"
      ]
     },
     "metadata": {},
     "output_type": "display_data"
    },
    {
     "data": {
      "application/vnd.jupyter.widget-view+json": {
       "model_id": "5e06d71a71ae4810a4f87250058f2446",
       "version_major": 2,
       "version_minor": 0
      },
      "text/plain": [
       "tokenizer.json:   0%|          | 0.00/466k [00:00<?, ?B/s]"
      ]
     },
     "metadata": {},
     "output_type": "display_data"
    },
    {
     "data": {
      "application/vnd.jupyter.widget-view+json": {
       "model_id": "c2706d225db3457aa669be24edde12cd",
       "version_major": 2,
       "version_minor": 0
      },
      "text/plain": [
       "config.json:   0%|          | 0.00/571 [00:00<?, ?B/s]"
      ]
     },
     "metadata": {},
     "output_type": "display_data"
    },
    {
     "name": "stderr",
     "output_type": "stream",
     "text": [
      "/opt/conda/lib/python3.10/site-packages/transformers/tokenization_utils_base.py:1617: FutureWarning: `clean_up_tokenization_spaces` was not set. It will be set to `True` by default. This behavior will be deprecated in transformers v4.45, and will be then set to `False` by default. For more details check this issue: https://github.com/huggingface/transformers/issues/31884\n",
      "  warnings.warn(\n"
     ]
    }
   ],
   "source": [
    "bert_tokenizer = BertTokenizerFast.from_pretrained('bert-large-uncased', return_token_type_ids=True)"
   ]
  },
  {
   "cell_type": "code",
   "execution_count": 4,
   "id": "a7a3b4b0",
   "metadata": {
    "execution": {
     "iopub.execute_input": "2025-01-10T09:34:39.043915Z",
     "iopub.status.busy": "2025-01-10T09:34:39.042725Z",
     "iopub.status.idle": "2025-01-10T09:34:39.050326Z",
     "shell.execute_reply": "2025-01-10T09:34:39.049265Z"
    },
    "papermill": {
     "duration": 0.016573,
     "end_time": "2025-01-10T09:34:39.052481",
     "exception": false,
     "start_time": "2025-01-10T09:34:39.035908",
     "status": "completed"
    },
    "tags": []
   },
   "outputs": [],
   "source": [
    "import re\n",
    "\n",
    "# Load the dataset\n",
    "def load_dataset(file_path):\n",
    "    with open(file_path, 'r') as f:\n",
    "        lines = f.readlines()\n",
    "    \n",
    "    data = []\n",
    "    for line in lines:\n",
    "        line = line.strip()\n",
    "        \n",
    "        # Extract emotion\n",
    "        emotion_match = re.search(r\"<(.*?)>\", line)\n",
    "        emotion = emotion_match.group(1) if emotion_match else None\n",
    "        question = f\"Why does this sentence express {emotion}?\"\n",
    "        \n",
    "        # Extract cause (handling <cause> and <\\cause>)\n",
    "        cause_match = re.search(r\"<cause>(.*?)<\\\\cause>\", line, re.DOTALL)\n",
    "        cause = cause_match.group(1).strip() if cause_match else None\n",
    "        \n",
    "        # Remove tags for clean text\n",
    "        context = re.sub(r\"<.*?>\", \"\", line).strip()\n",
    "              \n",
    "        if emotion:\n",
    "            data.append({\"context\": context, \"label\": emotion, \"question\":question,\"answer\": cause})\n",
    "    \n",
    "    return data\n"
   ]
  },
  {
   "cell_type": "code",
   "execution_count": 5,
   "id": "be374ca7",
   "metadata": {
    "execution": {
     "iopub.execute_input": "2025-01-10T09:34:39.064942Z",
     "iopub.status.busy": "2025-01-10T09:34:39.064525Z",
     "iopub.status.idle": "2025-01-10T09:34:39.116639Z",
     "shell.execute_reply": "2025-01-10T09:34:39.115638Z"
    },
    "papermill": {
     "duration": 0.061156,
     "end_time": "2025-01-10T09:34:39.119089",
     "exception": false,
     "start_time": "2025-01-10T09:34:39.057933",
     "status": "completed"
    },
    "tags": []
   },
   "outputs": [],
   "source": [
    "data = load_dataset(file_path)"
   ]
  },
  {
   "cell_type": "code",
   "execution_count": 6,
   "id": "3a427af8",
   "metadata": {
    "execution": {
     "iopub.execute_input": "2025-01-10T09:34:39.132959Z",
     "iopub.status.busy": "2025-01-10T09:34:39.132565Z",
     "iopub.status.idle": "2025-01-10T09:34:39.140632Z",
     "shell.execute_reply": "2025-01-10T09:34:39.139565Z"
    },
    "papermill": {
     "duration": 0.016672,
     "end_time": "2025-01-10T09:34:39.142480",
     "exception": false,
     "start_time": "2025-01-10T09:34:39.125808",
     "status": "completed"
    },
    "tags": []
   },
   "outputs": [
    {
     "data": {
      "text/plain": [
       "[{'context': \"I suppose I am happy  being so ` tiny' ; it means I am able to surprise people with what is generally seen as my confident and outgoing personality\",\n",
       "  'label': 'happy',\n",
       "  'question': 'Why does this sentence express happy?',\n",
       "  'answer': \"being so ` tiny'\"},\n",
       " {'context': 'Lennox has always truly wanted to fight for the world title and was happy  taking the tough route',\n",
       "  'label': 'happy',\n",
       "  'question': 'Why does this sentence express happy?',\n",
       "  'answer': 'taking the tough route'},\n",
       " {'context': 'He was a professional musician now , still sensitive and happy  doing something he loved',\n",
       "  'label': 'happy',\n",
       "  'question': 'Why does this sentence express happy?',\n",
       "  'answer': 'doing something he loved'},\n",
       " {'context': 'Holmes is happy  having the freedom of the house when we are out',\n",
       "  'label': 'happy',\n",
       "  'question': 'Why does this sentence express happy?',\n",
       "  'answer': 'having the freedom of the house when we are out'},\n",
       " {'context': 'I had problems with tutors trying to encourage me to diversity my work and experiment with other styles , but I was quite happy  with the direction my work was heading so I stubbornly stuck to it',\n",
       "  'label': 'happy',\n",
       "  'question': 'Why does this sentence express happy?',\n",
       "  'answer': 'with the direction my work was heading'}]"
      ]
     },
     "execution_count": 6,
     "metadata": {},
     "output_type": "execute_result"
    }
   ],
   "source": [
    "data[:5]"
   ]
  },
  {
   "cell_type": "code",
   "execution_count": 7,
   "id": "46153ce8",
   "metadata": {
    "execution": {
     "iopub.execute_input": "2025-01-10T09:34:39.155709Z",
     "iopub.status.busy": "2025-01-10T09:34:39.155334Z",
     "iopub.status.idle": "2025-01-10T09:34:39.178861Z",
     "shell.execute_reply": "2025-01-10T09:34:39.177505Z"
    },
    "papermill": {
     "duration": 0.032954,
     "end_time": "2025-01-10T09:34:39.181226",
     "exception": false,
     "start_time": "2025-01-10T09:34:39.148272",
     "status": "completed"
    },
    "tags": []
   },
   "outputs": [
    {
     "name": "stdout",
     "output_type": "stream",
     "text": [
      "                                                context  label  \\\n",
      "116   He was exhilarated  when he heard Ornette Cole...  happy   \n",
      "123   On reaching the Fish I let out a cry of triump...  happy   \n",
      "422       I felt happy  to go on a weekend camping trip  happy   \n",
      "2374  He felt the weight of his mistake when he saw ...  shame   \n",
      "26    Do you have a delight  in animals and skill in...  happy   \n",
      "\n",
      "                                   question  \\\n",
      "116   Why does this sentence express happy?   \n",
      "123   Why does this sentence express happy?   \n",
      "422   Why does this sentence express happy?   \n",
      "2374  Why does this sentence express shame?   \n",
      "26    Why does this sentence express happy?   \n",
      "\n",
      "                                                 answer  \n",
      "116   when he heard Ornette Coleman improvising free...  \n",
      "123   to have got there while conveniently forgettin...  \n",
      "422                     to go on a weekend camping trip  \n",
      "2374  when he saw how his actions had affected his r...  \n",
      "26                                           in animals  \n"
     ]
    }
   ],
   "source": [
    "df = pd.DataFrame(data)\n",
    "\n",
    "# Display the new format\n",
    "print(df.sample(n=5))"
   ]
  },
  {
   "cell_type": "code",
   "execution_count": 8,
   "id": "124f57be",
   "metadata": {
    "execution": {
     "iopub.execute_input": "2025-01-10T09:34:39.194554Z",
     "iopub.status.busy": "2025-01-10T09:34:39.194167Z",
     "iopub.status.idle": "2025-01-10T09:34:39.201790Z",
     "shell.execute_reply": "2025-01-10T09:34:39.200653Z"
    },
    "papermill": {
     "duration": 0.016739,
     "end_time": "2025-01-10T09:34:39.203976",
     "exception": false,
     "start_time": "2025-01-10T09:34:39.187237",
     "status": "completed"
    },
    "tags": []
   },
   "outputs": [],
   "source": [
    "def find_idx (big_index,small_index):\n",
    "\n",
    "    \"\"\"\n",
    "    Find the starting indices of a sequence of 'small_index' within 'big_index'.\n",
    "    Parameters:\n",
    "    - big_index (list): The larger sequence of indices.\n",
    "    - small_index (list): The smaller sequence of indices to be found within 'big_index'.\n",
    "    Returns:\n",
    "    - list: A list of starting indices where 'small_index' is found in 'big_index'.\n",
    "    \"\"\"\n",
    "    # Iterate through each index in 'big_index'\n",
    "\n",
    "    for i in range(len(big_index)):\n",
    "        # Initialize an empty list to store starting indices\n",
    "        indices = []\n",
    "        \n",
    "        # Check if the current index in 'big_index' matches the first index in 'small_index'\n",
    "        if big_index[i] == small_index[0]:\n",
    "\n",
    "            # If there is a match, append the current index to 'indices'\n",
    "            indices.append(i)\n",
    "\n",
    "            # If the length of 'small_index' is greater than 1, check for the entire sequence\n",
    "            if len(small_index)>1:\n",
    "                j = 1\n",
    "\n",
    "                # Continue checking subsequent indices for a match with 'small_index'\n",
    "                while len(small_index)>j and big_index[i+j] == small_index[j]:\n",
    "                    indices.append(j+i)\n",
    "                    j += 1\n",
    "\n",
    "                if len(small_index) == j:\n",
    "                    return indices\n",
    "                    break\n",
    "            else:\n",
    "                return [i]\n",
    "                break\n",
    "                "
   ]
  },
  {
   "cell_type": "code",
   "execution_count": 9,
   "id": "abb1edaf",
   "metadata": {
    "execution": {
     "iopub.execute_input": "2025-01-10T09:34:39.217261Z",
     "iopub.status.busy": "2025-01-10T09:34:39.216853Z",
     "iopub.status.idle": "2025-01-10T09:34:39.224136Z",
     "shell.execute_reply": "2025-01-10T09:34:39.222975Z"
    },
    "papermill": {
     "duration": 0.016401,
     "end_time": "2025-01-10T09:34:39.226228",
     "exception": false,
     "start_time": "2025-01-10T09:34:39.209827",
     "status": "completed"
    },
    "tags": []
   },
   "outputs": [],
   "source": [
    "def file_add(x):\n",
    "    \"\"\"\n",
    "    Tokenize the input question and context using BERT tokenizer and find the token indices corresponding to the answer within the tokenized sequence.\n",
    "    Parameters:\n",
    "    - x (dict): Input dictionary containing 'question', 'context', and 'answer' keys.\n",
    "    Returns:\n",
    "    - tuple: A tuple containing the starting and ending token indices of the answer within the tokenized sequence.\n",
    "             If the answer is not found, it returns (-1, -1).\n",
    "    \"\"\"\n",
    "    # Tokenize the question and context using BERT tokenizer\n",
    "    qst_contxt = bert_tokenizer.encode(x['question'],x['context'])\n",
    "    try:\n",
    "\n",
    "        # Tokenize the answer\n",
    "        answr = bert_tokenizer.encode(x['answer'])[1:-1]\n",
    "\n",
    "        # Find the indices of the answer within the tokenized question and context\n",
    "        answr_idx = find_idx (qst_contxt,answr)\n",
    "\n",
    "        try:\n",
    "            # If multiple indices are found, use the first and last indices\n",
    "            if len(answr_idx)>1:\n",
    "                tkn_strt,tkn_end = answr_idx[0], answr_idx[-1]\n",
    " # If only one index is found, use it for both start and end\n",
    "            else :\n",
    "                tkn_strt,tkn_end = answr_idx[0], answr_idx[0]\n",
    "        except TypeError:\n",
    "            # Handle the case where answr_idx is not a list (Type Error)\n",
    "            tkn_strt,tkn_end = -1, -1\n",
    "            \n",
    "        # Return the starting and ending token indices of the answer\n",
    "        return tkn_strt, tkn_end\n",
    "        \n",
    "    except TypeError:\n",
    "        # Handle the case where answr is not properly defined (Type Error)\n",
    "        return -1, -1"
   ]
  },
  {
   "cell_type": "code",
   "execution_count": 10,
   "id": "60f3f226",
   "metadata": {
    "execution": {
     "iopub.execute_input": "2025-01-10T09:34:39.239596Z",
     "iopub.status.busy": "2025-01-10T09:34:39.239226Z",
     "iopub.status.idle": "2025-01-10T09:34:40.075289Z",
     "shell.execute_reply": "2025-01-10T09:34:40.074157Z"
    },
    "papermill": {
     "duration": 0.845596,
     "end_time": "2025-01-10T09:34:40.077684",
     "exception": false,
     "start_time": "2025-01-10T09:34:39.232088",
     "status": "completed"
    },
    "tags": []
   },
   "outputs": [
    {
     "data": {
      "text/html": [
       "<div>\n",
       "<style scoped>\n",
       "    .dataframe tbody tr th:only-of-type {\n",
       "        vertical-align: middle;\n",
       "    }\n",
       "\n",
       "    .dataframe tbody tr th {\n",
       "        vertical-align: top;\n",
       "    }\n",
       "\n",
       "    .dataframe thead th {\n",
       "        text-align: right;\n",
       "    }\n",
       "</style>\n",
       "<table border=\"1\" class=\"dataframe\">\n",
       "  <thead>\n",
       "    <tr style=\"text-align: right;\">\n",
       "      <th></th>\n",
       "      <th>context</th>\n",
       "      <th>label</th>\n",
       "      <th>question</th>\n",
       "      <th>start_positions</th>\n",
       "      <th>end_positions</th>\n",
       "      <th>answer</th>\n",
       "    </tr>\n",
       "  </thead>\n",
       "  <tbody>\n",
       "    <tr>\n",
       "      <th>0</th>\n",
       "      <td>I suppose I am happy  being so ` tiny' ; it me...</td>\n",
       "      <td>happy</td>\n",
       "      <td>Why does this sentence express happy?</td>\n",
       "      <td>14</td>\n",
       "      <td>18</td>\n",
       "      <td>being so ` tiny'</td>\n",
       "    </tr>\n",
       "    <tr>\n",
       "      <th>1</th>\n",
       "      <td>Lennox has always truly wanted to fight for th...</td>\n",
       "      <td>happy</td>\n",
       "      <td>Why does this sentence express happy?</td>\n",
       "      <td>23</td>\n",
       "      <td>26</td>\n",
       "      <td>taking the tough route</td>\n",
       "    </tr>\n",
       "    <tr>\n",
       "      <th>2</th>\n",
       "      <td>He was a professional musician now , still sen...</td>\n",
       "      <td>happy</td>\n",
       "      <td>Why does this sentence express happy?</td>\n",
       "      <td>20</td>\n",
       "      <td>23</td>\n",
       "      <td>doing something he loved</td>\n",
       "    </tr>\n",
       "    <tr>\n",
       "      <th>3</th>\n",
       "      <td>Holmes is happy  having the freedom of the hou...</td>\n",
       "      <td>happy</td>\n",
       "      <td>Why does this sentence express happy?</td>\n",
       "      <td>12</td>\n",
       "      <td>21</td>\n",
       "      <td>having the freedom of the house when we are out</td>\n",
       "    </tr>\n",
       "  </tbody>\n",
       "</table>\n",
       "</div>"
      ],
      "text/plain": [
       "                                             context  label  \\\n",
       "0  I suppose I am happy  being so ` tiny' ; it me...  happy   \n",
       "1  Lennox has always truly wanted to fight for th...  happy   \n",
       "2  He was a professional musician now , still sen...  happy   \n",
       "3  Holmes is happy  having the freedom of the hou...  happy   \n",
       "\n",
       "                                question  start_positions  end_positions  \\\n",
       "0  Why does this sentence express happy?               14             18   \n",
       "1  Why does this sentence express happy?               23             26   \n",
       "2  Why does this sentence express happy?               20             23   \n",
       "3  Why does this sentence express happy?               12             21   \n",
       "\n",
       "                                            answer  \n",
       "0                                 being so ` tiny'  \n",
       "1                           taking the tough route  \n",
       "2                         doing something he loved  \n",
       "3  having the freedom of the house when we are out  "
      ]
     },
     "execution_count": 10,
     "metadata": {},
     "output_type": "execute_result"
    }
   ],
   "source": [
    "tmp = df.apply(lambda x: file_add(x), axis=1)\n",
    "\n",
    "df['start_positions'], df['end_positions'] = [i[0] for i in tmp], [i[1] for i in tmp]\n",
    "\n",
    "df= df[['context','label','question','start_positions','end_positions','answer']]\n",
    "\n",
    "df[:4]"
   ]
  },
  {
   "cell_type": "code",
   "execution_count": 11,
   "id": "1b7d352a",
   "metadata": {
    "execution": {
     "iopub.execute_input": "2025-01-10T09:34:40.091416Z",
     "iopub.status.busy": "2025-01-10T09:34:40.091011Z",
     "iopub.status.idle": "2025-01-10T09:34:40.102774Z",
     "shell.execute_reply": "2025-01-10T09:34:40.101662Z"
    },
    "papermill": {
     "duration": 0.021289,
     "end_time": "2025-01-10T09:34:40.105073",
     "exception": false,
     "start_time": "2025-01-10T09:34:40.083784",
     "status": "completed"
    },
    "tags": []
   },
   "outputs": [],
   "source": [
    "label_counts= df['label'].value_counts()"
   ]
  },
  {
   "cell_type": "code",
   "execution_count": 12,
   "id": "35c51218",
   "metadata": {
    "execution": {
     "iopub.execute_input": "2025-01-10T09:34:40.118595Z",
     "iopub.status.busy": "2025-01-10T09:34:40.118181Z",
     "iopub.status.idle": "2025-01-10T09:34:40.126008Z",
     "shell.execute_reply": "2025-01-10T09:34:40.124946Z"
    },
    "papermill": {
     "duration": 0.017043,
     "end_time": "2025-01-10T09:34:40.128097",
     "exception": false,
     "start_time": "2025-01-10T09:34:40.111054",
     "status": "completed"
    },
    "tags": []
   },
   "outputs": [
    {
     "data": {
      "text/plain": [
       "label\n",
       "happy       443\n",
       "sad         393\n",
       "shame       348\n",
       "anger       339\n",
       "fear        312\n",
       "surprise    307\n",
       "disgust     306\n",
       "Name: count, dtype: int64"
      ]
     },
     "execution_count": 12,
     "metadata": {},
     "output_type": "execute_result"
    }
   ],
   "source": [
    "label_counts"
   ]
  },
  {
   "cell_type": "code",
   "execution_count": 13,
   "id": "fbe3735e",
   "metadata": {
    "execution": {
     "iopub.execute_input": "2025-01-10T09:34:40.141785Z",
     "iopub.status.busy": "2025-01-10T09:34:40.141375Z",
     "iopub.status.idle": "2025-01-10T09:34:40.160302Z",
     "shell.execute_reply": "2025-01-10T09:34:40.159232Z"
    },
    "papermill": {
     "duration": 0.028332,
     "end_time": "2025-01-10T09:34:40.162458",
     "exception": false,
     "start_time": "2025-01-10T09:34:40.134126",
     "status": "completed"
    },
    "tags": []
   },
   "outputs": [
    {
     "name": "stdout",
     "output_type": "stream",
     "text": [
      "<class 'pandas.core.frame.DataFrame'>\n",
      "RangeIndex: 2448 entries, 0 to 2447\n",
      "Data columns (total 6 columns):\n",
      " #   Column           Non-Null Count  Dtype \n",
      "---  ------           --------------  ----- \n",
      " 0   context          2448 non-null   object\n",
      " 1   label            2448 non-null   object\n",
      " 2   question         2448 non-null   object\n",
      " 3   start_positions  2448 non-null   int64 \n",
      " 4   end_positions    2448 non-null   int64 \n",
      " 5   answer           2446 non-null   object\n",
      "dtypes: int64(2), object(4)\n",
      "memory usage: 114.9+ KB\n"
     ]
    }
   ],
   "source": [
    "df.info()"
   ]
  },
  {
   "cell_type": "code",
   "execution_count": 14,
   "id": "102f6a50",
   "metadata": {
    "execution": {
     "iopub.execute_input": "2025-01-10T09:34:40.177510Z",
     "iopub.status.busy": "2025-01-10T09:34:40.176527Z",
     "iopub.status.idle": "2025-01-10T09:34:41.496019Z",
     "shell.execute_reply": "2025-01-10T09:34:41.494704Z"
    },
    "papermill": {
     "duration": 1.329948,
     "end_time": "2025-01-10T09:34:41.498470",
     "exception": false,
     "start_time": "2025-01-10T09:34:40.168522",
     "status": "completed"
    },
    "tags": []
   },
   "outputs": [],
   "source": [
    "# Encode labels\n",
    "from sklearn.preprocessing import LabelEncoder\n",
    "label_encoder = LabelEncoder()\n",
    "df['label'] = label_encoder.fit_transform(df['label'])\n",
    "label_mapping = dict(zip(label_encoder.classes_, label_encoder.transform(label_encoder.classes_)))"
   ]
  },
  {
   "cell_type": "code",
   "execution_count": 15,
   "id": "2f2b249b",
   "metadata": {
    "execution": {
     "iopub.execute_input": "2025-01-10T09:34:41.512484Z",
     "iopub.status.busy": "2025-01-10T09:34:41.511859Z",
     "iopub.status.idle": "2025-01-10T09:34:41.518907Z",
     "shell.execute_reply": "2025-01-10T09:34:41.517869Z"
    },
    "papermill": {
     "duration": 0.016456,
     "end_time": "2025-01-10T09:34:41.521127",
     "exception": false,
     "start_time": "2025-01-10T09:34:41.504671",
     "status": "completed"
    },
    "tags": []
   },
   "outputs": [
    {
     "data": {
      "text/plain": [
       "{'anger': 0,\n",
       " 'disgust': 1,\n",
       " 'fear': 2,\n",
       " 'happy': 3,\n",
       " 'sad': 4,\n",
       " 'shame': 5,\n",
       " 'surprise': 6}"
      ]
     },
     "execution_count": 15,
     "metadata": {},
     "output_type": "execute_result"
    }
   ],
   "source": [
    "label_mapping "
   ]
  },
  {
   "cell_type": "code",
   "execution_count": 16,
   "id": "fd4af769",
   "metadata": {
    "execution": {
     "iopub.execute_input": "2025-01-10T09:34:41.535277Z",
     "iopub.status.busy": "2025-01-10T09:34:41.534859Z",
     "iopub.status.idle": "2025-01-10T09:34:41.653750Z",
     "shell.execute_reply": "2025-01-10T09:34:41.652510Z"
    },
    "papermill": {
     "duration": 0.12911,
     "end_time": "2025-01-10T09:34:41.656375",
     "exception": false,
     "start_time": "2025-01-10T09:34:41.527265",
     "status": "completed"
    },
    "tags": []
   },
   "outputs": [],
   "source": [
    "from sklearn.model_selection import train_test_split\n",
    "\n",
    "# Split into train and temp (validation + test)\n",
    "train_data, temp_data = train_test_split(df, test_size=0.2, random_state=1)\n",
    "\n",
    "# Split temp into validation and test\n",
    "val_data, test_data = train_test_split(temp_data, test_size=0.5, random_state=1)\n",
    "\n",
    "# Result: train_data (80%), val_data (10%), test_data (10%)\n"
   ]
  },
  {
   "cell_type": "code",
   "execution_count": 17,
   "id": "40fd2dec",
   "metadata": {
    "execution": {
     "iopub.execute_input": "2025-01-10T09:34:41.670391Z",
     "iopub.status.busy": "2025-01-10T09:34:41.669959Z",
     "iopub.status.idle": "2025-01-10T09:34:41.676132Z",
     "shell.execute_reply": "2025-01-10T09:34:41.674872Z"
    },
    "papermill": {
     "duration": 0.015648,
     "end_time": "2025-01-10T09:34:41.678241",
     "exception": false,
     "start_time": "2025-01-10T09:34:41.662593",
     "status": "completed"
    },
    "tags": []
   },
   "outputs": [
    {
     "name": "stdout",
     "output_type": "stream",
     "text": [
      "(1958, 6)\n",
      "(245, 6)\n",
      "(245, 6)\n"
     ]
    }
   ],
   "source": [
    "print(train_data.shape)\n",
    "print(val_data.shape)\n",
    "print(test_data.shape)"
   ]
  },
  {
   "cell_type": "code",
   "execution_count": 18,
   "id": "72b23a7f",
   "metadata": {
    "execution": {
     "iopub.execute_input": "2025-01-10T09:34:41.692404Z",
     "iopub.status.busy": "2025-01-10T09:34:41.692023Z",
     "iopub.status.idle": "2025-01-10T09:34:41.699864Z",
     "shell.execute_reply": "2025-01-10T09:34:41.698612Z"
    },
    "papermill": {
     "duration": 0.017495,
     "end_time": "2025-01-10T09:34:41.702013",
     "exception": false,
     "start_time": "2025-01-10T09:34:41.684518",
     "status": "completed"
    },
    "tags": []
   },
   "outputs": [
    {
     "name": "stdout",
     "output_type": "stream",
     "text": [
      "Number of unique counts: 7\n"
     ]
    }
   ],
   "source": [
    "# Assuming train_data is your DataFrame\n",
    "unique_count_train = train_data['label'].nunique()\n",
    "\n",
    "print(f\"Number of unique counts: {unique_count_train}\")"
   ]
  },
  {
   "cell_type": "code",
   "execution_count": 19,
   "id": "468940cc",
   "metadata": {
    "execution": {
     "iopub.execute_input": "2025-01-10T09:34:41.716138Z",
     "iopub.status.busy": "2025-01-10T09:34:41.715625Z",
     "iopub.status.idle": "2025-01-10T09:34:41.721526Z",
     "shell.execute_reply": "2025-01-10T09:34:41.720502Z"
    },
    "papermill": {
     "duration": 0.015865,
     "end_time": "2025-01-10T09:34:41.724112",
     "exception": false,
     "start_time": "2025-01-10T09:34:41.708247",
     "status": "completed"
    },
    "tags": []
   },
   "outputs": [
    {
     "name": "stdout",
     "output_type": "stream",
     "text": [
      "Number of unique counts: 7\n"
     ]
    }
   ],
   "source": [
    "# Assuming train_data is your DataFrame\n",
    "unique_count_val = val_data['label'].nunique()\n",
    "\n",
    "print(f\"Number of unique counts: {unique_count_val}\")"
   ]
  },
  {
   "cell_type": "code",
   "execution_count": 20,
   "id": "3b09a784",
   "metadata": {
    "execution": {
     "iopub.execute_input": "2025-01-10T09:34:41.738659Z",
     "iopub.status.busy": "2025-01-10T09:34:41.738283Z",
     "iopub.status.idle": "2025-01-10T09:34:41.744098Z",
     "shell.execute_reply": "2025-01-10T09:34:41.743038Z"
    },
    "papermill": {
     "duration": 0.015911,
     "end_time": "2025-01-10T09:34:41.746473",
     "exception": false,
     "start_time": "2025-01-10T09:34:41.730562",
     "status": "completed"
    },
    "tags": []
   },
   "outputs": [
    {
     "name": "stdout",
     "output_type": "stream",
     "text": [
      "Number of unique counts: 7\n"
     ]
    }
   ],
   "source": [
    "# Assuming train_data is your DataFrame\n",
    "unique_count_test = test_data['label'].nunique()\n",
    "\n",
    "print(f\"Number of unique counts: {unique_count_test}\")"
   ]
  },
  {
   "cell_type": "code",
   "execution_count": 21,
   "id": "b3017c3b",
   "metadata": {
    "execution": {
     "iopub.execute_input": "2025-01-10T09:34:41.760860Z",
     "iopub.status.busy": "2025-01-10T09:34:41.760500Z",
     "iopub.status.idle": "2025-01-10T09:34:41.772573Z",
     "shell.execute_reply": "2025-01-10T09:34:41.771440Z"
    },
    "papermill": {
     "duration": 0.021781,
     "end_time": "2025-01-10T09:34:41.774626",
     "exception": false,
     "start_time": "2025-01-10T09:34:41.752845",
     "status": "completed"
    },
    "tags": []
   },
   "outputs": [
    {
     "name": "stdout",
     "output_type": "stream",
     "text": [
      "<class 'pandas.core.frame.DataFrame'>\n",
      "Index: 245 entries, 1514 to 985\n",
      "Data columns (total 6 columns):\n",
      " #   Column           Non-Null Count  Dtype \n",
      "---  ------           --------------  ----- \n",
      " 0   context          245 non-null    object\n",
      " 1   label            245 non-null    int64 \n",
      " 2   question         245 non-null    object\n",
      " 3   start_positions  245 non-null    int64 \n",
      " 4   end_positions    245 non-null    int64 \n",
      " 5   answer           245 non-null    object\n",
      "dtypes: int64(3), object(3)\n",
      "memory usage: 13.4+ KB\n"
     ]
    }
   ],
   "source": [
    "test_data.info()"
   ]
  },
  {
   "cell_type": "code",
   "execution_count": 22,
   "id": "8e74a8ec",
   "metadata": {
    "execution": {
     "iopub.execute_input": "2025-01-10T09:34:41.789438Z",
     "iopub.status.busy": "2025-01-10T09:34:41.789011Z",
     "iopub.status.idle": "2025-01-10T09:34:41.816299Z",
     "shell.execute_reply": "2025-01-10T09:34:41.815009Z"
    },
    "papermill": {
     "duration": 0.037365,
     "end_time": "2025-01-10T09:34:41.818565",
     "exception": false,
     "start_time": "2025-01-10T09:34:41.781200",
     "status": "completed"
    },
    "tags": []
   },
   "outputs": [
    {
     "name": "stdout",
     "output_type": "stream",
     "text": [
      "dataset saved\n"
     ]
    }
   ],
   "source": [
    "# Save to a CSV file\n",
    "train_data.to_csv(\"train_data.csv\", index=False)\n",
    "val_data.to_csv(\"val_data.csv\", index=False)\n",
    "test_data.to_csv(\"test_data.csv\", index=False)\n",
    "print(\"dataset saved\")"
   ]
  },
  {
   "cell_type": "code",
   "execution_count": null,
   "id": "fe97eee1",
   "metadata": {
    "papermill": {
     "duration": 0.006955,
     "end_time": "2025-01-10T09:34:41.832007",
     "exception": false,
     "start_time": "2025-01-10T09:34:41.825052",
     "status": "completed"
    },
    "tags": []
   },
   "outputs": [],
   "source": []
  },
  {
   "cell_type": "code",
   "execution_count": null,
   "id": "76d9c54c",
   "metadata": {
    "papermill": {
     "duration": 0.006137,
     "end_time": "2025-01-10T09:34:41.844806",
     "exception": false,
     "start_time": "2025-01-10T09:34:41.838669",
     "status": "completed"
    },
    "tags": []
   },
   "outputs": [],
   "source": []
  }
 ],
 "metadata": {
  "kaggle": {
   "accelerator": "none",
   "dataSources": [
    {
     "datasetId": 6457943,
     "sourceId": 10419683,
     "sourceType": "datasetVersion"
    }
   ],
   "dockerImageVersionId": 30786,
   "isGpuEnabled": false,
   "isInternetEnabled": true,
   "language": "python",
   "sourceType": "notebook"
  },
  "kernelspec": {
   "display_name": "Python 3",
   "language": "python",
   "name": "python3"
  },
  "language_info": {
   "codemirror_mode": {
    "name": "ipython",
    "version": 3
   },
   "file_extension": ".py",
   "mimetype": "text/x-python",
   "name": "python",
   "nbconvert_exporter": "python",
   "pygments_lexer": "ipython3",
   "version": "3.10.14"
  },
  "papermill": {
   "default_parameters": {},
   "duration": 13.788449,
   "end_time": "2025-01-10T09:34:43.074524",
   "environment_variables": {},
   "exception": null,
   "input_path": "__notebook__.ipynb",
   "output_path": "__notebook__.ipynb",
   "parameters": {},
   "start_time": "2025-01-10T09:34:29.286075",
   "version": "2.6.0"
  },
  "widgets": {
   "application/vnd.jupyter.widget-state+json": {
    "state": {
     "0236d486e644488493102f66334a6d8b": {
      "model_module": "@jupyter-widgets/controls",
      "model_module_version": "1.5.0",
      "model_name": "HTMLModel",
      "state": {
       "_dom_classes": [],
       "_model_module": "@jupyter-widgets/controls",
       "_model_module_version": "1.5.0",
       "_model_name": "HTMLModel",
       "_view_count": null,
       "_view_module": "@jupyter-widgets/controls",
       "_view_module_version": "1.5.0",
       "_view_name": "HTMLView",
       "description": "",
       "description_tooltip": null,
       "layout": "IPY_MODEL_ab2314eee44e48ab88bf839f7f640e7b",
       "placeholder": "​",
       "style": "IPY_MODEL_c00d5405ba5144f0925c980323001b32",
       "value": " 232k/232k [00:00&lt;00:00, 4.74MB/s]"
      }
     },
     "05b5a32cb19143d89ad6f2eedd9977dd": {
      "model_module": "@jupyter-widgets/controls",
      "model_module_version": "1.5.0",
      "model_name": "HBoxModel",
      "state": {
       "_dom_classes": [],
       "_model_module": "@jupyter-widgets/controls",
       "_model_module_version": "1.5.0",
       "_model_name": "HBoxModel",
       "_view_count": null,
       "_view_module": "@jupyter-widgets/controls",
       "_view_module_version": "1.5.0",
       "_view_name": "HBoxView",
       "box_style": "",
       "children": [
        "IPY_MODEL_2e01932b9aa844cabca397a592cdde8a",
        "IPY_MODEL_28f353552d0d4a34ad0c4b1eed5917b4",
        "IPY_MODEL_dd1dc1bba5ee4ffc95b5401d21316897"
       ],
       "layout": "IPY_MODEL_f21a65c38a6748c791c5162b3da6bc48"
      }
     },
     "0b85a9528b33467db107bc8a1f8b68a2": {
      "model_module": "@jupyter-widgets/controls",
      "model_module_version": "1.5.0",
      "model_name": "ProgressStyleModel",
      "state": {
       "_model_module": "@jupyter-widgets/controls",
       "_model_module_version": "1.5.0",
       "_model_name": "ProgressStyleModel",
       "_view_count": null,
       "_view_module": "@jupyter-widgets/base",
       "_view_module_version": "1.2.0",
       "_view_name": "StyleView",
       "bar_color": null,
       "description_width": ""
      }
     },
     "108707bf192c4f7081d7e0ed5c452e48": {
      "model_module": "@jupyter-widgets/controls",
      "model_module_version": "1.5.0",
      "model_name": "DescriptionStyleModel",
      "state": {
       "_model_module": "@jupyter-widgets/controls",
       "_model_module_version": "1.5.0",
       "_model_name": "DescriptionStyleModel",
       "_view_count": null,
       "_view_module": "@jupyter-widgets/base",
       "_view_module_version": "1.2.0",
       "_view_name": "StyleView",
       "description_width": ""
      }
     },
     "25dbbcfc7872469db6026a3bd6cff2a5": {
      "model_module": "@jupyter-widgets/base",
      "model_module_version": "1.2.0",
      "model_name": "LayoutModel",
      "state": {
       "_model_module": "@jupyter-widgets/base",
       "_model_module_version": "1.2.0",
       "_model_name": "LayoutModel",
       "_view_count": null,
       "_view_module": "@jupyter-widgets/base",
       "_view_module_version": "1.2.0",
       "_view_name": "LayoutView",
       "align_content": null,
       "align_items": null,
       "align_self": null,
       "border": null,
       "bottom": null,
       "display": null,
       "flex": null,
       "flex_flow": null,
       "grid_area": null,
       "grid_auto_columns": null,
       "grid_auto_flow": null,
       "grid_auto_rows": null,
       "grid_column": null,
       "grid_gap": null,
       "grid_row": null,
       "grid_template_areas": null,
       "grid_template_columns": null,
       "grid_template_rows": null,
       "height": null,
       "justify_content": null,
       "justify_items": null,
       "left": null,
       "margin": null,
       "max_height": null,
       "max_width": null,
       "min_height": null,
       "min_width": null,
       "object_fit": null,
       "object_position": null,
       "order": null,
       "overflow": null,
       "overflow_x": null,
       "overflow_y": null,
       "padding": null,
       "right": null,
       "top": null,
       "visibility": null,
       "width": null
      }
     },
     "28f353552d0d4a34ad0c4b1eed5917b4": {
      "model_module": "@jupyter-widgets/controls",
      "model_module_version": "1.5.0",
      "model_name": "FloatProgressModel",
      "state": {
       "_dom_classes": [],
       "_model_module": "@jupyter-widgets/controls",
       "_model_module_version": "1.5.0",
       "_model_name": "FloatProgressModel",
       "_view_count": null,
       "_view_module": "@jupyter-widgets/controls",
       "_view_module_version": "1.5.0",
       "_view_name": "ProgressView",
       "bar_style": "success",
       "description": "",
       "description_tooltip": null,
       "layout": "IPY_MODEL_590e1962d2244793b772891ecf88f6af",
       "max": 48.0,
       "min": 0.0,
       "orientation": "horizontal",
       "style": "IPY_MODEL_4fc1e027c51c41ef9fd768a609a24856",
       "value": 48.0
      }
     },
     "293c625a28ef4913b371b70d55612c94": {
      "model_module": "@jupyter-widgets/controls",
      "model_module_version": "1.5.0",
      "model_name": "FloatProgressModel",
      "state": {
       "_dom_classes": [],
       "_model_module": "@jupyter-widgets/controls",
       "_model_module_version": "1.5.0",
       "_model_name": "FloatProgressModel",
       "_view_count": null,
       "_view_module": "@jupyter-widgets/controls",
       "_view_module_version": "1.5.0",
       "_view_name": "ProgressView",
       "bar_style": "success",
       "description": "",
       "description_tooltip": null,
       "layout": "IPY_MODEL_25dbbcfc7872469db6026a3bd6cff2a5",
       "max": 466062.0,
       "min": 0.0,
       "orientation": "horizontal",
       "style": "IPY_MODEL_0b85a9528b33467db107bc8a1f8b68a2",
       "value": 466062.0
      }
     },
     "2c909136ddbe480e9d6f8eb8e4f2b931": {
      "model_module": "@jupyter-widgets/base",
      "model_module_version": "1.2.0",
      "model_name": "LayoutModel",
      "state": {
       "_model_module": "@jupyter-widgets/base",
       "_model_module_version": "1.2.0",
       "_model_name": "LayoutModel",
       "_view_count": null,
       "_view_module": "@jupyter-widgets/base",
       "_view_module_version": "1.2.0",
       "_view_name": "LayoutView",
       "align_content": null,
       "align_items": null,
       "align_self": null,
       "border": null,
       "bottom": null,
       "display": null,
       "flex": null,
       "flex_flow": null,
       "grid_area": null,
       "grid_auto_columns": null,
       "grid_auto_flow": null,
       "grid_auto_rows": null,
       "grid_column": null,
       "grid_gap": null,
       "grid_row": null,
       "grid_template_areas": null,
       "grid_template_columns": null,
       "grid_template_rows": null,
       "height": null,
       "justify_content": null,
       "justify_items": null,
       "left": null,
       "margin": null,
       "max_height": null,
       "max_width": null,
       "min_height": null,
       "min_width": null,
       "object_fit": null,
       "object_position": null,
       "order": null,
       "overflow": null,
       "overflow_x": null,
       "overflow_y": null,
       "padding": null,
       "right": null,
       "top": null,
       "visibility": null,
       "width": null
      }
     },
     "2e01932b9aa844cabca397a592cdde8a": {
      "model_module": "@jupyter-widgets/controls",
      "model_module_version": "1.5.0",
      "model_name": "HTMLModel",
      "state": {
       "_dom_classes": [],
       "_model_module": "@jupyter-widgets/controls",
       "_model_module_version": "1.5.0",
       "_model_name": "HTMLModel",
       "_view_count": null,
       "_view_module": "@jupyter-widgets/controls",
       "_view_module_version": "1.5.0",
       "_view_name": "HTMLView",
       "description": "",
       "description_tooltip": null,
       "layout": "IPY_MODEL_7b42efb5f70a436d8599a3c4026de90c",
       "placeholder": "​",
       "style": "IPY_MODEL_3998f4f4e9d0458a876bfc4265ddd1ec",
       "value": "tokenizer_config.json: 100%"
      }
     },
     "336a05d752ec44be842985765bdce9ac": {
      "model_module": "@jupyter-widgets/base",
      "model_module_version": "1.2.0",
      "model_name": "LayoutModel",
      "state": {
       "_model_module": "@jupyter-widgets/base",
       "_model_module_version": "1.2.0",
       "_model_name": "LayoutModel",
       "_view_count": null,
       "_view_module": "@jupyter-widgets/base",
       "_view_module_version": "1.2.0",
       "_view_name": "LayoutView",
       "align_content": null,
       "align_items": null,
       "align_self": null,
       "border": null,
       "bottom": null,
       "display": null,
       "flex": null,
       "flex_flow": null,
       "grid_area": null,
       "grid_auto_columns": null,
       "grid_auto_flow": null,
       "grid_auto_rows": null,
       "grid_column": null,
       "grid_gap": null,
       "grid_row": null,
       "grid_template_areas": null,
       "grid_template_columns": null,
       "grid_template_rows": null,
       "height": null,
       "justify_content": null,
       "justify_items": null,
       "left": null,
       "margin": null,
       "max_height": null,
       "max_width": null,
       "min_height": null,
       "min_width": null,
       "object_fit": null,
       "object_position": null,
       "order": null,
       "overflow": null,
       "overflow_x": null,
       "overflow_y": null,
       "padding": null,
       "right": null,
       "top": null,
       "visibility": null,
       "width": null
      }
     },
     "3998f4f4e9d0458a876bfc4265ddd1ec": {
      "model_module": "@jupyter-widgets/controls",
      "model_module_version": "1.5.0",
      "model_name": "DescriptionStyleModel",
      "state": {
       "_model_module": "@jupyter-widgets/controls",
       "_model_module_version": "1.5.0",
       "_model_name": "DescriptionStyleModel",
       "_view_count": null,
       "_view_module": "@jupyter-widgets/base",
       "_view_module_version": "1.2.0",
       "_view_name": "StyleView",
       "description_width": ""
      }
     },
     "3ce2d3a6193f4559ae9acd03d2c3a723": {
      "model_module": "@jupyter-widgets/controls",
      "model_module_version": "1.5.0",
      "model_name": "DescriptionStyleModel",
      "state": {
       "_model_module": "@jupyter-widgets/controls",
       "_model_module_version": "1.5.0",
       "_model_name": "DescriptionStyleModel",
       "_view_count": null,
       "_view_module": "@jupyter-widgets/base",
       "_view_module_version": "1.2.0",
       "_view_name": "StyleView",
       "description_width": ""
      }
     },
     "41adf1d270d84acd8105fcc4a0a1849e": {
      "model_module": "@jupyter-widgets/controls",
      "model_module_version": "1.5.0",
      "model_name": "HTMLModel",
      "state": {
       "_dom_classes": [],
       "_model_module": "@jupyter-widgets/controls",
       "_model_module_version": "1.5.0",
       "_model_name": "HTMLModel",
       "_view_count": null,
       "_view_module": "@jupyter-widgets/controls",
       "_view_module_version": "1.5.0",
       "_view_name": "HTMLView",
       "description": "",
       "description_tooltip": null,
       "layout": "IPY_MODEL_336a05d752ec44be842985765bdce9ac",
       "placeholder": "​",
       "style": "IPY_MODEL_61bd6ffad6164162b842500b11dd9d21",
       "value": " 466k/466k [00:00&lt;00:00, 22.1MB/s]"
      }
     },
     "4a332b38cdc145989da688a3c1c5c546": {
      "model_module": "@jupyter-widgets/base",
      "model_module_version": "1.2.0",
      "model_name": "LayoutModel",
      "state": {
       "_model_module": "@jupyter-widgets/base",
       "_model_module_version": "1.2.0",
       "_model_name": "LayoutModel",
       "_view_count": null,
       "_view_module": "@jupyter-widgets/base",
       "_view_module_version": "1.2.0",
       "_view_name": "LayoutView",
       "align_content": null,
       "align_items": null,
       "align_self": null,
       "border": null,
       "bottom": null,
       "display": null,
       "flex": null,
       "flex_flow": null,
       "grid_area": null,
       "grid_auto_columns": null,
       "grid_auto_flow": null,
       "grid_auto_rows": null,
       "grid_column": null,
       "grid_gap": null,
       "grid_row": null,
       "grid_template_areas": null,
       "grid_template_columns": null,
       "grid_template_rows": null,
       "height": null,
       "justify_content": null,
       "justify_items": null,
       "left": null,
       "margin": null,
       "max_height": null,
       "max_width": null,
       "min_height": null,
       "min_width": null,
       "object_fit": null,
       "object_position": null,
       "order": null,
       "overflow": null,
       "overflow_x": null,
       "overflow_y": null,
       "padding": null,
       "right": null,
       "top": null,
       "visibility": null,
       "width": null
      }
     },
     "4ad8453beacd4eaa97b10ed875f35150": {
      "model_module": "@jupyter-widgets/controls",
      "model_module_version": "1.5.0",
      "model_name": "ProgressStyleModel",
      "state": {
       "_model_module": "@jupyter-widgets/controls",
       "_model_module_version": "1.5.0",
       "_model_name": "ProgressStyleModel",
       "_view_count": null,
       "_view_module": "@jupyter-widgets/base",
       "_view_module_version": "1.2.0",
       "_view_name": "StyleView",
       "bar_color": null,
       "description_width": ""
      }
     },
     "4bf23d8435ea4f9eb89a457c697cadae": {
      "model_module": "@jupyter-widgets/base",
      "model_module_version": "1.2.0",
      "model_name": "LayoutModel",
      "state": {
       "_model_module": "@jupyter-widgets/base",
       "_model_module_version": "1.2.0",
       "_model_name": "LayoutModel",
       "_view_count": null,
       "_view_module": "@jupyter-widgets/base",
       "_view_module_version": "1.2.0",
       "_view_name": "LayoutView",
       "align_content": null,
       "align_items": null,
       "align_self": null,
       "border": null,
       "bottom": null,
       "display": null,
       "flex": null,
       "flex_flow": null,
       "grid_area": null,
       "grid_auto_columns": null,
       "grid_auto_flow": null,
       "grid_auto_rows": null,
       "grid_column": null,
       "grid_gap": null,
       "grid_row": null,
       "grid_template_areas": null,
       "grid_template_columns": null,
       "grid_template_rows": null,
       "height": null,
       "justify_content": null,
       "justify_items": null,
       "left": null,
       "margin": null,
       "max_height": null,
       "max_width": null,
       "min_height": null,
       "min_width": null,
       "object_fit": null,
       "object_position": null,
       "order": null,
       "overflow": null,
       "overflow_x": null,
       "overflow_y": null,
       "padding": null,
       "right": null,
       "top": null,
       "visibility": null,
       "width": null
      }
     },
     "4d26a339d63b42f8a454fa9921b8b13a": {
      "model_module": "@jupyter-widgets/controls",
      "model_module_version": "1.5.0",
      "model_name": "DescriptionStyleModel",
      "state": {
       "_model_module": "@jupyter-widgets/controls",
       "_model_module_version": "1.5.0",
       "_model_name": "DescriptionStyleModel",
       "_view_count": null,
       "_view_module": "@jupyter-widgets/base",
       "_view_module_version": "1.2.0",
       "_view_name": "StyleView",
       "description_width": ""
      }
     },
     "4fc1e027c51c41ef9fd768a609a24856": {
      "model_module": "@jupyter-widgets/controls",
      "model_module_version": "1.5.0",
      "model_name": "ProgressStyleModel",
      "state": {
       "_model_module": "@jupyter-widgets/controls",
       "_model_module_version": "1.5.0",
       "_model_name": "ProgressStyleModel",
       "_view_count": null,
       "_view_module": "@jupyter-widgets/base",
       "_view_module_version": "1.2.0",
       "_view_name": "StyleView",
       "bar_color": null,
       "description_width": ""
      }
     },
     "58306dd0f2dc4df99640d120bd4e7315": {
      "model_module": "@jupyter-widgets/controls",
      "model_module_version": "1.5.0",
      "model_name": "DescriptionStyleModel",
      "state": {
       "_model_module": "@jupyter-widgets/controls",
       "_model_module_version": "1.5.0",
       "_model_name": "DescriptionStyleModel",
       "_view_count": null,
       "_view_module": "@jupyter-widgets/base",
       "_view_module_version": "1.2.0",
       "_view_name": "StyleView",
       "description_width": ""
      }
     },
     "590e1962d2244793b772891ecf88f6af": {
      "model_module": "@jupyter-widgets/base",
      "model_module_version": "1.2.0",
      "model_name": "LayoutModel",
      "state": {
       "_model_module": "@jupyter-widgets/base",
       "_model_module_version": "1.2.0",
       "_model_name": "LayoutModel",
       "_view_count": null,
       "_view_module": "@jupyter-widgets/base",
       "_view_module_version": "1.2.0",
       "_view_name": "LayoutView",
       "align_content": null,
       "align_items": null,
       "align_self": null,
       "border": null,
       "bottom": null,
       "display": null,
       "flex": null,
       "flex_flow": null,
       "grid_area": null,
       "grid_auto_columns": null,
       "grid_auto_flow": null,
       "grid_auto_rows": null,
       "grid_column": null,
       "grid_gap": null,
       "grid_row": null,
       "grid_template_areas": null,
       "grid_template_columns": null,
       "grid_template_rows": null,
       "height": null,
       "justify_content": null,
       "justify_items": null,
       "left": null,
       "margin": null,
       "max_height": null,
       "max_width": null,
       "min_height": null,
       "min_width": null,
       "object_fit": null,
       "object_position": null,
       "order": null,
       "overflow": null,
       "overflow_x": null,
       "overflow_y": null,
       "padding": null,
       "right": null,
       "top": null,
       "visibility": null,
       "width": null
      }
     },
     "5e06d71a71ae4810a4f87250058f2446": {
      "model_module": "@jupyter-widgets/controls",
      "model_module_version": "1.5.0",
      "model_name": "HBoxModel",
      "state": {
       "_dom_classes": [],
       "_model_module": "@jupyter-widgets/controls",
       "_model_module_version": "1.5.0",
       "_model_name": "HBoxModel",
       "_view_count": null,
       "_view_module": "@jupyter-widgets/controls",
       "_view_module_version": "1.5.0",
       "_view_name": "HBoxView",
       "box_style": "",
       "children": [
        "IPY_MODEL_937e4f2a10c24f5c8d6946c0afa8ff22",
        "IPY_MODEL_293c625a28ef4913b371b70d55612c94",
        "IPY_MODEL_41adf1d270d84acd8105fcc4a0a1849e"
       ],
       "layout": "IPY_MODEL_76be041b40644d329adbdd3b21a89ac3"
      }
     },
     "61bd6ffad6164162b842500b11dd9d21": {
      "model_module": "@jupyter-widgets/controls",
      "model_module_version": "1.5.0",
      "model_name": "DescriptionStyleModel",
      "state": {
       "_model_module": "@jupyter-widgets/controls",
       "_model_module_version": "1.5.0",
       "_model_name": "DescriptionStyleModel",
       "_view_count": null,
       "_view_module": "@jupyter-widgets/base",
       "_view_module_version": "1.2.0",
       "_view_name": "StyleView",
       "description_width": ""
      }
     },
     "6e03f46058d740d2a0b4a6fc5e321a14": {
      "model_module": "@jupyter-widgets/base",
      "model_module_version": "1.2.0",
      "model_name": "LayoutModel",
      "state": {
       "_model_module": "@jupyter-widgets/base",
       "_model_module_version": "1.2.0",
       "_model_name": "LayoutModel",
       "_view_count": null,
       "_view_module": "@jupyter-widgets/base",
       "_view_module_version": "1.2.0",
       "_view_name": "LayoutView",
       "align_content": null,
       "align_items": null,
       "align_self": null,
       "border": null,
       "bottom": null,
       "display": null,
       "flex": null,
       "flex_flow": null,
       "grid_area": null,
       "grid_auto_columns": null,
       "grid_auto_flow": null,
       "grid_auto_rows": null,
       "grid_column": null,
       "grid_gap": null,
       "grid_row": null,
       "grid_template_areas": null,
       "grid_template_columns": null,
       "grid_template_rows": null,
       "height": null,
       "justify_content": null,
       "justify_items": null,
       "left": null,
       "margin": null,
       "max_height": null,
       "max_width": null,
       "min_height": null,
       "min_width": null,
       "object_fit": null,
       "object_position": null,
       "order": null,
       "overflow": null,
       "overflow_x": null,
       "overflow_y": null,
       "padding": null,
       "right": null,
       "top": null,
       "visibility": null,
       "width": null
      }
     },
     "76be041b40644d329adbdd3b21a89ac3": {
      "model_module": "@jupyter-widgets/base",
      "model_module_version": "1.2.0",
      "model_name": "LayoutModel",
      "state": {
       "_model_module": "@jupyter-widgets/base",
       "_model_module_version": "1.2.0",
       "_model_name": "LayoutModel",
       "_view_count": null,
       "_view_module": "@jupyter-widgets/base",
       "_view_module_version": "1.2.0",
       "_view_name": "LayoutView",
       "align_content": null,
       "align_items": null,
       "align_self": null,
       "border": null,
       "bottom": null,
       "display": null,
       "flex": null,
       "flex_flow": null,
       "grid_area": null,
       "grid_auto_columns": null,
       "grid_auto_flow": null,
       "grid_auto_rows": null,
       "grid_column": null,
       "grid_gap": null,
       "grid_row": null,
       "grid_template_areas": null,
       "grid_template_columns": null,
       "grid_template_rows": null,
       "height": null,
       "justify_content": null,
       "justify_items": null,
       "left": null,
       "margin": null,
       "max_height": null,
       "max_width": null,
       "min_height": null,
       "min_width": null,
       "object_fit": null,
       "object_position": null,
       "order": null,
       "overflow": null,
       "overflow_x": null,
       "overflow_y": null,
       "padding": null,
       "right": null,
       "top": null,
       "visibility": null,
       "width": null
      }
     },
     "7adebd591e0548dcb6e0f259afd7a763": {
      "model_module": "@jupyter-widgets/controls",
      "model_module_version": "1.5.0",
      "model_name": "DescriptionStyleModel",
      "state": {
       "_model_module": "@jupyter-widgets/controls",
       "_model_module_version": "1.5.0",
       "_model_name": "DescriptionStyleModel",
       "_view_count": null,
       "_view_module": "@jupyter-widgets/base",
       "_view_module_version": "1.2.0",
       "_view_name": "StyleView",
       "description_width": ""
      }
     },
     "7b42efb5f70a436d8599a3c4026de90c": {
      "model_module": "@jupyter-widgets/base",
      "model_module_version": "1.2.0",
      "model_name": "LayoutModel",
      "state": {
       "_model_module": "@jupyter-widgets/base",
       "_model_module_version": "1.2.0",
       "_model_name": "LayoutModel",
       "_view_count": null,
       "_view_module": "@jupyter-widgets/base",
       "_view_module_version": "1.2.0",
       "_view_name": "LayoutView",
       "align_content": null,
       "align_items": null,
       "align_self": null,
       "border": null,
       "bottom": null,
       "display": null,
       "flex": null,
       "flex_flow": null,
       "grid_area": null,
       "grid_auto_columns": null,
       "grid_auto_flow": null,
       "grid_auto_rows": null,
       "grid_column": null,
       "grid_gap": null,
       "grid_row": null,
       "grid_template_areas": null,
       "grid_template_columns": null,
       "grid_template_rows": null,
       "height": null,
       "justify_content": null,
       "justify_items": null,
       "left": null,
       "margin": null,
       "max_height": null,
       "max_width": null,
       "min_height": null,
       "min_width": null,
       "object_fit": null,
       "object_position": null,
       "order": null,
       "overflow": null,
       "overflow_x": null,
       "overflow_y": null,
       "padding": null,
       "right": null,
       "top": null,
       "visibility": null,
       "width": null
      }
     },
     "910b0595b64f43a0bc51179643d2c2ec": {
      "model_module": "@jupyter-widgets/base",
      "model_module_version": "1.2.0",
      "model_name": "LayoutModel",
      "state": {
       "_model_module": "@jupyter-widgets/base",
       "_model_module_version": "1.2.0",
       "_model_name": "LayoutModel",
       "_view_count": null,
       "_view_module": "@jupyter-widgets/base",
       "_view_module_version": "1.2.0",
       "_view_name": "LayoutView",
       "align_content": null,
       "align_items": null,
       "align_self": null,
       "border": null,
       "bottom": null,
       "display": null,
       "flex": null,
       "flex_flow": null,
       "grid_area": null,
       "grid_auto_columns": null,
       "grid_auto_flow": null,
       "grid_auto_rows": null,
       "grid_column": null,
       "grid_gap": null,
       "grid_row": null,
       "grid_template_areas": null,
       "grid_template_columns": null,
       "grid_template_rows": null,
       "height": null,
       "justify_content": null,
       "justify_items": null,
       "left": null,
       "margin": null,
       "max_height": null,
       "max_width": null,
       "min_height": null,
       "min_width": null,
       "object_fit": null,
       "object_position": null,
       "order": null,
       "overflow": null,
       "overflow_x": null,
       "overflow_y": null,
       "padding": null,
       "right": null,
       "top": null,
       "visibility": null,
       "width": null
      }
     },
     "937e4f2a10c24f5c8d6946c0afa8ff22": {
      "model_module": "@jupyter-widgets/controls",
      "model_module_version": "1.5.0",
      "model_name": "HTMLModel",
      "state": {
       "_dom_classes": [],
       "_model_module": "@jupyter-widgets/controls",
       "_model_module_version": "1.5.0",
       "_model_name": "HTMLModel",
       "_view_count": null,
       "_view_module": "@jupyter-widgets/controls",
       "_view_module_version": "1.5.0",
       "_view_name": "HTMLView",
       "description": "",
       "description_tooltip": null,
       "layout": "IPY_MODEL_c3284a743daa4176998259e76b99b38c",
       "placeholder": "​",
       "style": "IPY_MODEL_7adebd591e0548dcb6e0f259afd7a763",
       "value": "tokenizer.json: 100%"
      }
     },
     "ab2314eee44e48ab88bf839f7f640e7b": {
      "model_module": "@jupyter-widgets/base",
      "model_module_version": "1.2.0",
      "model_name": "LayoutModel",
      "state": {
       "_model_module": "@jupyter-widgets/base",
       "_model_module_version": "1.2.0",
       "_model_name": "LayoutModel",
       "_view_count": null,
       "_view_module": "@jupyter-widgets/base",
       "_view_module_version": "1.2.0",
       "_view_name": "LayoutView",
       "align_content": null,
       "align_items": null,
       "align_self": null,
       "border": null,
       "bottom": null,
       "display": null,
       "flex": null,
       "flex_flow": null,
       "grid_area": null,
       "grid_auto_columns": null,
       "grid_auto_flow": null,
       "grid_auto_rows": null,
       "grid_column": null,
       "grid_gap": null,
       "grid_row": null,
       "grid_template_areas": null,
       "grid_template_columns": null,
       "grid_template_rows": null,
       "height": null,
       "justify_content": null,
       "justify_items": null,
       "left": null,
       "margin": null,
       "max_height": null,
       "max_width": null,
       "min_height": null,
       "min_width": null,
       "object_fit": null,
       "object_position": null,
       "order": null,
       "overflow": null,
       "overflow_x": null,
       "overflow_y": null,
       "padding": null,
       "right": null,
       "top": null,
       "visibility": null,
       "width": null
      }
     },
     "ba98a39b27674d15a280ed4d51c7a356": {
      "model_module": "@jupyter-widgets/base",
      "model_module_version": "1.2.0",
      "model_name": "LayoutModel",
      "state": {
       "_model_module": "@jupyter-widgets/base",
       "_model_module_version": "1.2.0",
       "_model_name": "LayoutModel",
       "_view_count": null,
       "_view_module": "@jupyter-widgets/base",
       "_view_module_version": "1.2.0",
       "_view_name": "LayoutView",
       "align_content": null,
       "align_items": null,
       "align_self": null,
       "border": null,
       "bottom": null,
       "display": null,
       "flex": null,
       "flex_flow": null,
       "grid_area": null,
       "grid_auto_columns": null,
       "grid_auto_flow": null,
       "grid_auto_rows": null,
       "grid_column": null,
       "grid_gap": null,
       "grid_row": null,
       "grid_template_areas": null,
       "grid_template_columns": null,
       "grid_template_rows": null,
       "height": null,
       "justify_content": null,
       "justify_items": null,
       "left": null,
       "margin": null,
       "max_height": null,
       "max_width": null,
       "min_height": null,
       "min_width": null,
       "object_fit": null,
       "object_position": null,
       "order": null,
       "overflow": null,
       "overflow_x": null,
       "overflow_y": null,
       "padding": null,
       "right": null,
       "top": null,
       "visibility": null,
       "width": null
      }
     },
     "c00d5405ba5144f0925c980323001b32": {
      "model_module": "@jupyter-widgets/controls",
      "model_module_version": "1.5.0",
      "model_name": "DescriptionStyleModel",
      "state": {
       "_model_module": "@jupyter-widgets/controls",
       "_model_module_version": "1.5.0",
       "_model_name": "DescriptionStyleModel",
       "_view_count": null,
       "_view_module": "@jupyter-widgets/base",
       "_view_module_version": "1.2.0",
       "_view_name": "StyleView",
       "description_width": ""
      }
     },
     "c2706d225db3457aa669be24edde12cd": {
      "model_module": "@jupyter-widgets/controls",
      "model_module_version": "1.5.0",
      "model_name": "HBoxModel",
      "state": {
       "_dom_classes": [],
       "_model_module": "@jupyter-widgets/controls",
       "_model_module_version": "1.5.0",
       "_model_name": "HBoxModel",
       "_view_count": null,
       "_view_module": "@jupyter-widgets/controls",
       "_view_module_version": "1.5.0",
       "_view_name": "HBoxView",
       "box_style": "",
       "children": [
        "IPY_MODEL_c60abdadb2f144a0a2514c3248b2a21d",
        "IPY_MODEL_d6a736dd71cc4e338d274bd9c5d70426",
        "IPY_MODEL_e3d7311cd1924ec29c4181da93558aef"
       ],
       "layout": "IPY_MODEL_910b0595b64f43a0bc51179643d2c2ec"
      }
     },
     "c3284a743daa4176998259e76b99b38c": {
      "model_module": "@jupyter-widgets/base",
      "model_module_version": "1.2.0",
      "model_name": "LayoutModel",
      "state": {
       "_model_module": "@jupyter-widgets/base",
       "_model_module_version": "1.2.0",
       "_model_name": "LayoutModel",
       "_view_count": null,
       "_view_module": "@jupyter-widgets/base",
       "_view_module_version": "1.2.0",
       "_view_name": "LayoutView",
       "align_content": null,
       "align_items": null,
       "align_self": null,
       "border": null,
       "bottom": null,
       "display": null,
       "flex": null,
       "flex_flow": null,
       "grid_area": null,
       "grid_auto_columns": null,
       "grid_auto_flow": null,
       "grid_auto_rows": null,
       "grid_column": null,
       "grid_gap": null,
       "grid_row": null,
       "grid_template_areas": null,
       "grid_template_columns": null,
       "grid_template_rows": null,
       "height": null,
       "justify_content": null,
       "justify_items": null,
       "left": null,
       "margin": null,
       "max_height": null,
       "max_width": null,
       "min_height": null,
       "min_width": null,
       "object_fit": null,
       "object_position": null,
       "order": null,
       "overflow": null,
       "overflow_x": null,
       "overflow_y": null,
       "padding": null,
       "right": null,
       "top": null,
       "visibility": null,
       "width": null
      }
     },
     "c60abdadb2f144a0a2514c3248b2a21d": {
      "model_module": "@jupyter-widgets/controls",
      "model_module_version": "1.5.0",
      "model_name": "HTMLModel",
      "state": {
       "_dom_classes": [],
       "_model_module": "@jupyter-widgets/controls",
       "_model_module_version": "1.5.0",
       "_model_name": "HTMLModel",
       "_view_count": null,
       "_view_module": "@jupyter-widgets/controls",
       "_view_module_version": "1.5.0",
       "_view_name": "HTMLView",
       "description": "",
       "description_tooltip": null,
       "layout": "IPY_MODEL_4a332b38cdc145989da688a3c1c5c546",
       "placeholder": "​",
       "style": "IPY_MODEL_58306dd0f2dc4df99640d120bd4e7315",
       "value": "config.json: 100%"
      }
     },
     "ce6d98f1f0d040d7901ecdbe65c2a87d": {
      "model_module": "@jupyter-widgets/controls",
      "model_module_version": "1.5.0",
      "model_name": "FloatProgressModel",
      "state": {
       "_dom_classes": [],
       "_model_module": "@jupyter-widgets/controls",
       "_model_module_version": "1.5.0",
       "_model_name": "FloatProgressModel",
       "_view_count": null,
       "_view_module": "@jupyter-widgets/controls",
       "_view_module_version": "1.5.0",
       "_view_name": "ProgressView",
       "bar_style": "success",
       "description": "",
       "description_tooltip": null,
       "layout": "IPY_MODEL_effbaf48206a49f3851a269e9028e67b",
       "max": 231508.0,
       "min": 0.0,
       "orientation": "horizontal",
       "style": "IPY_MODEL_4ad8453beacd4eaa97b10ed875f35150",
       "value": 231508.0
      }
     },
     "d51ccacde0d04440a0985637050085da": {
      "model_module": "@jupyter-widgets/controls",
      "model_module_version": "1.5.0",
      "model_name": "HBoxModel",
      "state": {
       "_dom_classes": [],
       "_model_module": "@jupyter-widgets/controls",
       "_model_module_version": "1.5.0",
       "_model_name": "HBoxModel",
       "_view_count": null,
       "_view_module": "@jupyter-widgets/controls",
       "_view_module_version": "1.5.0",
       "_view_name": "HBoxView",
       "box_style": "",
       "children": [
        "IPY_MODEL_ebe41fe7e17445aa92d7e7d4eeb5697d",
        "IPY_MODEL_ce6d98f1f0d040d7901ecdbe65c2a87d",
        "IPY_MODEL_0236d486e644488493102f66334a6d8b"
       ],
       "layout": "IPY_MODEL_6e03f46058d740d2a0b4a6fc5e321a14"
      }
     },
     "d538e3403ba04c95ae5f95eab3e2c0cc": {
      "model_module": "@jupyter-widgets/base",
      "model_module_version": "1.2.0",
      "model_name": "LayoutModel",
      "state": {
       "_model_module": "@jupyter-widgets/base",
       "_model_module_version": "1.2.0",
       "_model_name": "LayoutModel",
       "_view_count": null,
       "_view_module": "@jupyter-widgets/base",
       "_view_module_version": "1.2.0",
       "_view_name": "LayoutView",
       "align_content": null,
       "align_items": null,
       "align_self": null,
       "border": null,
       "bottom": null,
       "display": null,
       "flex": null,
       "flex_flow": null,
       "grid_area": null,
       "grid_auto_columns": null,
       "grid_auto_flow": null,
       "grid_auto_rows": null,
       "grid_column": null,
       "grid_gap": null,
       "grid_row": null,
       "grid_template_areas": null,
       "grid_template_columns": null,
       "grid_template_rows": null,
       "height": null,
       "justify_content": null,
       "justify_items": null,
       "left": null,
       "margin": null,
       "max_height": null,
       "max_width": null,
       "min_height": null,
       "min_width": null,
       "object_fit": null,
       "object_position": null,
       "order": null,
       "overflow": null,
       "overflow_x": null,
       "overflow_y": null,
       "padding": null,
       "right": null,
       "top": null,
       "visibility": null,
       "width": null
      }
     },
     "d6a736dd71cc4e338d274bd9c5d70426": {
      "model_module": "@jupyter-widgets/controls",
      "model_module_version": "1.5.0",
      "model_name": "FloatProgressModel",
      "state": {
       "_dom_classes": [],
       "_model_module": "@jupyter-widgets/controls",
       "_model_module_version": "1.5.0",
       "_model_name": "FloatProgressModel",
       "_view_count": null,
       "_view_module": "@jupyter-widgets/controls",
       "_view_module_version": "1.5.0",
       "_view_name": "ProgressView",
       "bar_style": "success",
       "description": "",
       "description_tooltip": null,
       "layout": "IPY_MODEL_2c909136ddbe480e9d6f8eb8e4f2b931",
       "max": 571.0,
       "min": 0.0,
       "orientation": "horizontal",
       "style": "IPY_MODEL_e0e77fc4620146fba39ee8553096e18d",
       "value": 571.0
      }
     },
     "dd1dc1bba5ee4ffc95b5401d21316897": {
      "model_module": "@jupyter-widgets/controls",
      "model_module_version": "1.5.0",
      "model_name": "HTMLModel",
      "state": {
       "_dom_classes": [],
       "_model_module": "@jupyter-widgets/controls",
       "_model_module_version": "1.5.0",
       "_model_name": "HTMLModel",
       "_view_count": null,
       "_view_module": "@jupyter-widgets/controls",
       "_view_module_version": "1.5.0",
       "_view_name": "HTMLView",
       "description": "",
       "description_tooltip": null,
       "layout": "IPY_MODEL_ba98a39b27674d15a280ed4d51c7a356",
       "placeholder": "​",
       "style": "IPY_MODEL_108707bf192c4f7081d7e0ed5c452e48",
       "value": " 48.0/48.0 [00:00&lt;00:00, 2.78kB/s]"
      }
     },
     "e0e77fc4620146fba39ee8553096e18d": {
      "model_module": "@jupyter-widgets/controls",
      "model_module_version": "1.5.0",
      "model_name": "ProgressStyleModel",
      "state": {
       "_model_module": "@jupyter-widgets/controls",
       "_model_module_version": "1.5.0",
       "_model_name": "ProgressStyleModel",
       "_view_count": null,
       "_view_module": "@jupyter-widgets/base",
       "_view_module_version": "1.2.0",
       "_view_name": "StyleView",
       "bar_color": null,
       "description_width": ""
      }
     },
     "e3d7311cd1924ec29c4181da93558aef": {
      "model_module": "@jupyter-widgets/controls",
      "model_module_version": "1.5.0",
      "model_name": "HTMLModel",
      "state": {
       "_dom_classes": [],
       "_model_module": "@jupyter-widgets/controls",
       "_model_module_version": "1.5.0",
       "_model_name": "HTMLModel",
       "_view_count": null,
       "_view_module": "@jupyter-widgets/controls",
       "_view_module_version": "1.5.0",
       "_view_name": "HTMLView",
       "description": "",
       "description_tooltip": null,
       "layout": "IPY_MODEL_4bf23d8435ea4f9eb89a457c697cadae",
       "placeholder": "​",
       "style": "IPY_MODEL_4d26a339d63b42f8a454fa9921b8b13a",
       "value": " 571/571 [00:00&lt;00:00, 41.3kB/s]"
      }
     },
     "ebe41fe7e17445aa92d7e7d4eeb5697d": {
      "model_module": "@jupyter-widgets/controls",
      "model_module_version": "1.5.0",
      "model_name": "HTMLModel",
      "state": {
       "_dom_classes": [],
       "_model_module": "@jupyter-widgets/controls",
       "_model_module_version": "1.5.0",
       "_model_name": "HTMLModel",
       "_view_count": null,
       "_view_module": "@jupyter-widgets/controls",
       "_view_module_version": "1.5.0",
       "_view_name": "HTMLView",
       "description": "",
       "description_tooltip": null,
       "layout": "IPY_MODEL_d538e3403ba04c95ae5f95eab3e2c0cc",
       "placeholder": "​",
       "style": "IPY_MODEL_3ce2d3a6193f4559ae9acd03d2c3a723",
       "value": "vocab.txt: 100%"
      }
     },
     "effbaf48206a49f3851a269e9028e67b": {
      "model_module": "@jupyter-widgets/base",
      "model_module_version": "1.2.0",
      "model_name": "LayoutModel",
      "state": {
       "_model_module": "@jupyter-widgets/base",
       "_model_module_version": "1.2.0",
       "_model_name": "LayoutModel",
       "_view_count": null,
       "_view_module": "@jupyter-widgets/base",
       "_view_module_version": "1.2.0",
       "_view_name": "LayoutView",
       "align_content": null,
       "align_items": null,
       "align_self": null,
       "border": null,
       "bottom": null,
       "display": null,
       "flex": null,
       "flex_flow": null,
       "grid_area": null,
       "grid_auto_columns": null,
       "grid_auto_flow": null,
       "grid_auto_rows": null,
       "grid_column": null,
       "grid_gap": null,
       "grid_row": null,
       "grid_template_areas": null,
       "grid_template_columns": null,
       "grid_template_rows": null,
       "height": null,
       "justify_content": null,
       "justify_items": null,
       "left": null,
       "margin": null,
       "max_height": null,
       "max_width": null,
       "min_height": null,
       "min_width": null,
       "object_fit": null,
       "object_position": null,
       "order": null,
       "overflow": null,
       "overflow_x": null,
       "overflow_y": null,
       "padding": null,
       "right": null,
       "top": null,
       "visibility": null,
       "width": null
      }
     },
     "f21a65c38a6748c791c5162b3da6bc48": {
      "model_module": "@jupyter-widgets/base",
      "model_module_version": "1.2.0",
      "model_name": "LayoutModel",
      "state": {
       "_model_module": "@jupyter-widgets/base",
       "_model_module_version": "1.2.0",
       "_model_name": "LayoutModel",
       "_view_count": null,
       "_view_module": "@jupyter-widgets/base",
       "_view_module_version": "1.2.0",
       "_view_name": "LayoutView",
       "align_content": null,
       "align_items": null,
       "align_self": null,
       "border": null,
       "bottom": null,
       "display": null,
       "flex": null,
       "flex_flow": null,
       "grid_area": null,
       "grid_auto_columns": null,
       "grid_auto_flow": null,
       "grid_auto_rows": null,
       "grid_column": null,
       "grid_gap": null,
       "grid_row": null,
       "grid_template_areas": null,
       "grid_template_columns": null,
       "grid_template_rows": null,
       "height": null,
       "justify_content": null,
       "justify_items": null,
       "left": null,
       "margin": null,
       "max_height": null,
       "max_width": null,
       "min_height": null,
       "min_width": null,
       "object_fit": null,
       "object_position": null,
       "order": null,
       "overflow": null,
       "overflow_x": null,
       "overflow_y": null,
       "padding": null,
       "right": null,
       "top": null,
       "visibility": null,
       "width": null
      }
     }
    },
    "version_major": 2,
    "version_minor": 0
   }
  }
 },
 "nbformat": 4,
 "nbformat_minor": 5
}
